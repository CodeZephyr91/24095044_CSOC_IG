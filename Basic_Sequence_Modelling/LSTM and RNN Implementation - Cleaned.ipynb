{
 "cells": [
  {
   "cell_type": "code",
   "execution_count": 1,
   "metadata": {
    "colab": {
     "base_uri": "https://localhost:8080/"
    },
    "executionInfo": {
     "elapsed": 22811,
     "status": "ok",
     "timestamp": 1749299398144,
     "user": {
      "displayName": "Balaji Pravinya Madala 4-Yr B.Tech.: Pharmaceutical Engg. & Tech.,IIT(BHU",
      "userId": "02023745050169837861"
     },
     "user_tz": -330
    },
    "id": "DaI5M3LZWhMV",
    "outputId": "53a8c554-1b74-490b-e21b-d38e45557d79"
   },
   "outputs": [
    {
     "name": "stdout",
     "output_type": "stream",
     "text": [
      "Mounted at /content/drive\n"
     ]
    }
   ],
   "source": [
    "from google.colab import drive\n",
    "drive.mount('/content/drive') #mounting drive so that restarting runtime doesnt clear all files"
   ]
  },
  {
   "cell_type": "code",
   "execution_count": 2,
   "metadata": {
    "executionInfo": {
     "elapsed": 5755,
     "status": "ok",
     "timestamp": 1749299405971,
     "user": {
      "displayName": "Balaji Pravinya Madala 4-Yr B.Tech.: Pharmaceutical Engg. & Tech.,IIT(BHU",
      "userId": "02023745050169837861"
     },
     "user_tz": -330
    },
    "id": "JIsbSAEYWxhH"
   },
   "outputs": [],
   "source": [
    "import datasets\n",
    "from torch.utils.data import DataLoader, Dataset #necessary imports\n",
    "import torch.nn as nn"
   ]
  },
  {
   "cell_type": "code",
   "execution_count": 3,
   "metadata": {
    "executionInfo": {
     "elapsed": 5534,
     "status": "ok",
     "timestamp": 1749299413836,
     "user": {
      "displayName": "Balaji Pravinya Madala 4-Yr B.Tech.: Pharmaceutical Engg. & Tech.,IIT(BHU",
      "userId": "02023745050169837861"
     },
     "user_tz": -330
    },
    "id": "NV68-T4bW0f2"
   },
   "outputs": [],
   "source": [
    "dataset_train=datasets.load_from_disk('/content/drive/MyDrive/NLP_CSOC_IG/dataset_train')\n",
    "dataset_test=datasets.load_from_disk('/content/drive/MyDrive/NLP_CSOC_IG/dataset_test')"
   ]
  },
  {
   "cell_type": "code",
   "execution_count": 4,
   "metadata": {
    "colab": {
     "base_uri": "https://localhost:8080/"
    },
    "executionInfo": {
     "elapsed": 49,
     "status": "ok",
     "timestamp": 1749299417767,
     "user": {
      "displayName": "Balaji Pravinya Madala 4-Yr B.Tech.: Pharmaceutical Engg. & Tech.,IIT(BHU",
      "userId": "02023745050169837861"
     },
     "user_tz": -330
    },
    "id": "fI27zqDdW3jA",
    "outputId": "bf6b2347-375f-4d02-dac2-80fdcb7915d2"
   },
   "outputs": [
    {
     "name": "stdout",
     "output_type": "stream",
     "text": [
      "['rating', 'text_review', 'input_ids', 'token_type_ids', 'attention_mask']\n",
      "{'rating': 2, 'text_review': 'Earcuff Product arived so quickly and I love it I have cancer and wear scarves so the cuff is perfect Feel naked without earrings but this is great May have to get another one for the other earExcellent seller', 'input_ids': [101, 4540, 10841, 4246, 4031, 10488, 7178, 2061, 2855, 1998, 1045, 2293, 2009, 1045, 2031, 4456, 1998, 4929, 11228, 6961, 2061, 1996, 26450, 2003, 3819, 2514, 6248, 2302, 27212, 2021, 2023, 2003, 2307, 2089, 2031, 2000, 2131, 2178, 2028, 2005, 1996, 2060, 4540, 10288, 29109, 16136, 14939, 102, 0, 0, 0, 0, 0, 0, 0, 0, 0, 0, 0, 0, 0, 0, 0, 0, 0, 0, 0, 0, 0, 0, 0, 0, 0, 0, 0, 0, 0, 0, 0, 0, 0, 0, 0, 0, 0, 0, 0, 0, 0, 0, 0, 0, 0, 0, 0, 0, 0, 0, 0, 0, 0, 0, 0, 0, 0, 0, 0, 0, 0, 0, 0, 0, 0, 0, 0, 0, 0, 0, 0, 0, 0, 0, 0, 0, 0, 0, 0, 0, 0, 0, 0, 0, 0, 0, 0, 0, 0, 0, 0, 0, 0, 0, 0, 0, 0, 0, 0, 0, 0, 0, 0, 0, 0, 0, 0, 0, 0, 0, 0, 0, 0, 0, 0, 0, 0, 0, 0, 0, 0, 0, 0, 0, 0, 0, 0, 0, 0, 0, 0, 0, 0, 0, 0, 0, 0, 0, 0, 0, 0, 0, 0, 0, 0, 0, 0, 0, 0, 0, 0, 0, 0, 0, 0, 0, 0, 0, 0, 0, 0, 0, 0, 0, 0, 0, 0, 0, 0, 0, 0, 0, 0, 0, 0, 0, 0, 0, 0, 0, 0, 0, 0, 0, 0, 0, 0, 0, 0, 0, 0, 0, 0, 0, 0, 0, 0, 0, 0, 0, 0, 0, 0, 0, 0, 0, 0, 0, 0, 0, 0, 0, 0, 0, 0, 0, 0, 0, 0, 0, 0, 0, 0, 0, 0, 0, 0, 0, 0, 0, 0, 0, 0, 0, 0, 0, 0, 0, 0, 0, 0, 0, 0, 0, 0, 0, 0, 0, 0, 0, 0, 0, 0, 0, 0, 0, 0, 0, 0, 0, 0, 0, 0, 0, 0, 0, 0, 0, 0, 0, 0, 0, 0, 0, 0, 0, 0, 0, 0, 0, 0, 0, 0, 0, 0, 0, 0, 0, 0, 0, 0, 0, 0, 0, 0, 0, 0, 0, 0, 0, 0, 0, 0, 0, 0, 0, 0, 0, 0, 0, 0, 0, 0, 0, 0, 0, 0, 0, 0, 0, 0, 0, 0, 0, 0, 0, 0, 0, 0, 0, 0, 0, 0, 0, 0, 0, 0, 0, 0, 0, 0, 0, 0, 0, 0, 0, 0, 0, 0, 0, 0, 0, 0, 0, 0, 0, 0, 0, 0, 0, 0, 0, 0, 0, 0, 0, 0, 0, 0, 0, 0, 0, 0, 0, 0, 0, 0, 0, 0, 0, 0, 0, 0, 0, 0, 0, 0, 0, 0, 0, 0, 0, 0, 0, 0, 0, 0, 0, 0, 0, 0, 0, 0, 0, 0, 0, 0, 0, 0, 0, 0, 0, 0, 0, 0, 0, 0, 0, 0, 0, 0, 0, 0, 0, 0, 0, 0, 0, 0, 0, 0, 0, 0, 0, 0, 0, 0, 0, 0, 0, 0, 0, 0, 0, 0, 0, 0, 0, 0, 0, 0, 0, 0, 0, 0, 0, 0, 0, 0, 0, 0, 0, 0, 0], 'token_type_ids': [0, 0, 0, 0, 0, 0, 0, 0, 0, 0, 0, 0, 0, 0, 0, 0, 0, 0, 0, 0, 0, 0, 0, 0, 0, 0, 0, 0, 0, 0, 0, 0, 0, 0, 0, 0, 0, 0, 0, 0, 0, 0, 0, 0, 0, 0, 0, 0, 0, 0, 0, 0, 0, 0, 0, 0, 0, 0, 0, 0, 0, 0, 0, 0, 0, 0, 0, 0, 0, 0, 0, 0, 0, 0, 0, 0, 0, 0, 0, 0, 0, 0, 0, 0, 0, 0, 0, 0, 0, 0, 0, 0, 0, 0, 0, 0, 0, 0, 0, 0, 0, 0, 0, 0, 0, 0, 0, 0, 0, 0, 0, 0, 0, 0, 0, 0, 0, 0, 0, 0, 0, 0, 0, 0, 0, 0, 0, 0, 0, 0, 0, 0, 0, 0, 0, 0, 0, 0, 0, 0, 0, 0, 0, 0, 0, 0, 0, 0, 0, 0, 0, 0, 0, 0, 0, 0, 0, 0, 0, 0, 0, 0, 0, 0, 0, 0, 0, 0, 0, 0, 0, 0, 0, 0, 0, 0, 0, 0, 0, 0, 0, 0, 0, 0, 0, 0, 0, 0, 0, 0, 0, 0, 0, 0, 0, 0, 0, 0, 0, 0, 0, 0, 0, 0, 0, 0, 0, 0, 0, 0, 0, 0, 0, 0, 0, 0, 0, 0, 0, 0, 0, 0, 0, 0, 0, 0, 0, 0, 0, 0, 0, 0, 0, 0, 0, 0, 0, 0, 0, 0, 0, 0, 0, 0, 0, 0, 0, 0, 0, 0, 0, 0, 0, 0, 0, 0, 0, 0, 0, 0, 0, 0, 0, 0, 0, 0, 0, 0, 0, 0, 0, 0, 0, 0, 0, 0, 0, 0, 0, 0, 0, 0, 0, 0, 0, 0, 0, 0, 0, 0, 0, 0, 0, 0, 0, 0, 0, 0, 0, 0, 0, 0, 0, 0, 0, 0, 0, 0, 0, 0, 0, 0, 0, 0, 0, 0, 0, 0, 0, 0, 0, 0, 0, 0, 0, 0, 0, 0, 0, 0, 0, 0, 0, 0, 0, 0, 0, 0, 0, 0, 0, 0, 0, 0, 0, 0, 0, 0, 0, 0, 0, 0, 0, 0, 0, 0, 0, 0, 0, 0, 0, 0, 0, 0, 0, 0, 0, 0, 0, 0, 0, 0, 0, 0, 0, 0, 0, 0, 0, 0, 0, 0, 0, 0, 0, 0, 0, 0, 0, 0, 0, 0, 0, 0, 0, 0, 0, 0, 0, 0, 0, 0, 0, 0, 0, 0, 0, 0, 0, 0, 0, 0, 0, 0, 0, 0, 0, 0, 0, 0, 0, 0, 0, 0, 0, 0, 0, 0, 0, 0, 0, 0, 0, 0, 0, 0, 0, 0, 0, 0, 0, 0, 0, 0, 0, 0, 0, 0, 0, 0, 0, 0, 0, 0, 0, 0, 0, 0, 0, 0, 0, 0, 0, 0, 0, 0, 0, 0, 0, 0, 0, 0, 0, 0, 0, 0, 0, 0, 0, 0, 0, 0, 0, 0, 0, 0, 0, 0, 0, 0, 0, 0, 0, 0, 0, 0, 0, 0, 0, 0, 0, 0, 0, 0, 0, 0, 0, 0, 0, 0, 0, 0], 'attention_mask': [1, 1, 1, 1, 1, 1, 1, 1, 1, 1, 1, 1, 1, 1, 1, 1, 1, 1, 1, 1, 1, 1, 1, 1, 1, 1, 1, 1, 1, 1, 1, 1, 1, 1, 1, 1, 1, 1, 1, 1, 1, 1, 1, 1, 1, 1, 1, 1, 0, 0, 0, 0, 0, 0, 0, 0, 0, 0, 0, 0, 0, 0, 0, 0, 0, 0, 0, 0, 0, 0, 0, 0, 0, 0, 0, 0, 0, 0, 0, 0, 0, 0, 0, 0, 0, 0, 0, 0, 0, 0, 0, 0, 0, 0, 0, 0, 0, 0, 0, 0, 0, 0, 0, 0, 0, 0, 0, 0, 0, 0, 0, 0, 0, 0, 0, 0, 0, 0, 0, 0, 0, 0, 0, 0, 0, 0, 0, 0, 0, 0, 0, 0, 0, 0, 0, 0, 0, 0, 0, 0, 0, 0, 0, 0, 0, 0, 0, 0, 0, 0, 0, 0, 0, 0, 0, 0, 0, 0, 0, 0, 0, 0, 0, 0, 0, 0, 0, 0, 0, 0, 0, 0, 0, 0, 0, 0, 0, 0, 0, 0, 0, 0, 0, 0, 0, 0, 0, 0, 0, 0, 0, 0, 0, 0, 0, 0, 0, 0, 0, 0, 0, 0, 0, 0, 0, 0, 0, 0, 0, 0, 0, 0, 0, 0, 0, 0, 0, 0, 0, 0, 0, 0, 0, 0, 0, 0, 0, 0, 0, 0, 0, 0, 0, 0, 0, 0, 0, 0, 0, 0, 0, 0, 0, 0, 0, 0, 0, 0, 0, 0, 0, 0, 0, 0, 0, 0, 0, 0, 0, 0, 0, 0, 0, 0, 0, 0, 0, 0, 0, 0, 0, 0, 0, 0, 0, 0, 0, 0, 0, 0, 0, 0, 0, 0, 0, 0, 0, 0, 0, 0, 0, 0, 0, 0, 0, 0, 0, 0, 0, 0, 0, 0, 0, 0, 0, 0, 0, 0, 0, 0, 0, 0, 0, 0, 0, 0, 0, 0, 0, 0, 0, 0, 0, 0, 0, 0, 0, 0, 0, 0, 0, 0, 0, 0, 0, 0, 0, 0, 0, 0, 0, 0, 0, 0, 0, 0, 0, 0, 0, 0, 0, 0, 0, 0, 0, 0, 0, 0, 0, 0, 0, 0, 0, 0, 0, 0, 0, 0, 0, 0, 0, 0, 0, 0, 0, 0, 0, 0, 0, 0, 0, 0, 0, 0, 0, 0, 0, 0, 0, 0, 0, 0, 0, 0, 0, 0, 0, 0, 0, 0, 0, 0, 0, 0, 0, 0, 0, 0, 0, 0, 0, 0, 0, 0, 0, 0, 0, 0, 0, 0, 0, 0, 0, 0, 0, 0, 0, 0, 0, 0, 0, 0, 0, 0, 0, 0, 0, 0, 0, 0, 0, 0, 0, 0, 0, 0, 0, 0, 0, 0, 0, 0, 0, 0, 0, 0, 0, 0, 0, 0, 0, 0, 0, 0, 0, 0, 0, 0, 0, 0, 0, 0, 0, 0, 0, 0, 0, 0, 0, 0, 0, 0, 0, 0, 0, 0, 0, 0, 0, 0, 0, 0, 0, 0, 0, 0, 0, 0, 0, 0, 0, 0, 0, 0, 0, 0, 0, 0, 0, 0, 0, 0]}\n"
     ]
    }
   ],
   "source": [
    "print(dataset_train.column_names)\n",
    "print(dataset_train[0])"
   ]
  },
  {
   "cell_type": "code",
   "execution_count": null,
   "metadata": {
    "executionInfo": {
     "elapsed": 13,
     "status": "ok",
     "timestamp": 1749299422653,
     "user": {
      "displayName": "Balaji Pravinya Madala 4-Yr B.Tech.: Pharmaceutical Engg. & Tech.,IIT(BHU",
      "userId": "02023745050169837861"
     },
     "user_tz": -330
    },
    "id": "zI1H7F-tW7nU"
   },
   "outputs": [],
   "source": [
    "import torch #Custom Dataset class\n",
    "class ReviewDataset(Dataset):\n",
    "\n",
    "    def __init__(self, hf_dataset):\n",
    "        self.dataset = hf_dataset\n",
    "\n",
    "    def __len__(self):\n",
    "        return len(self.dataset)\n",
    "\n",
    "    def __getitem__(self, index):\n",
    "        item = self.dataset[index]\n",
    "        return {\n",
    "            'input_ids': torch.tensor(item['input_ids'], dtype=torch.long),\n",
    "            'attention_mask': torch.tensor(item['attention_mask'], dtype=torch.long),\n",
    "            'rating': torch.tensor(max(0,item['rating']-1), dtype=torch.long)\n",
    "        }"
   ]
  },
  {
   "cell_type": "code",
   "execution_count": 6,
   "metadata": {
    "colab": {
     "base_uri": "https://localhost:8080/",
     "height": 916,
     "referenced_widgets": [
      "1ece910d621044ffa492e0f7eafe429c",
      "78528f047d9143a7855bbcda32bc174d",
      "716a1271328241388af606dd00d12c78",
      "f3361d5696b24e70bfc5642793928070",
      "054a839550d44d9791934b7e48aefb50",
      "d8c68fc05cc6495f9e1c341589f0c1e7",
      "84d0ef4f5338426a8b9bf7b71d8975ad",
      "8d01d0523433483a890c315d3ed13026",
      "df2ece84a4744cf3883e89eb60770c19",
      "160ec26466574d8eaa1a18247fc71320",
      "6efc570138d94751b77a324c7b70c650",
      "21ebe99589c54ad0b47bfd89f20fdf8d",
      "17ef0c424f3a441480710334a64aeaca",
      "51c4cf63295d436886556dfa367cabdd",
      "199cb2592a2847b49744b5d515a12eea",
      "104f2388893341febec1491d0819afdf",
      "5063016f88b3437aba38c2ef9b2f824a",
      "7a6ea24c95304a91b8746d19d9d0fd5e",
      "9c69663977c14b259792bea340cd4af8",
      "555a400d570c4f509450584b640893cc",
      "f379e99b98434498b159127bc7944ba2",
      "01dd48a339be4bd3a32c2df89caa902a"
     ]
    },
    "executionInfo": {
     "elapsed": 20521,
     "status": "ok",
     "timestamp": 1749299446026,
     "user": {
      "displayName": "Balaji Pravinya Madala 4-Yr B.Tech.: Pharmaceutical Engg. & Tech.,IIT(BHU",
      "userId": "02023745050169837861"
     },
     "user_tz": -330
    },
    "id": "BtDqbl5aW-xg",
    "outputId": "fc4f82fa-09ef-4322-f20c-d840fc558cd0"
   },
   "outputs": [
    {
     "name": "stderr",
     "output_type": "stream",
     "text": [
      "/usr/local/lib/python3.11/dist-packages/huggingface_hub/utils/_auth.py:94: UserWarning: \n",
      "The secret `HF_TOKEN` does not exist in your Colab secrets.\n",
      "To authenticate with the Hugging Face Hub, create a token in your settings tab (https://huggingface.co/settings/tokens), set it as secret in your Google Colab and restart your session.\n",
      "You will be able to reuse this secret in all of your notebooks.\n",
      "Please note that authentication is recommended but still optional to access public models or datasets.\n",
      "  warnings.warn(\n"
     ]
    },
    {
     "data": {
      "application/vnd.jupyter.widget-view+json": {
       "model_id": "1ece910d621044ffa492e0f7eafe429c",
       "version_major": 2,
       "version_minor": 0
      },
      "text/plain": [
       "config.json:   0%|          | 0.00/570 [00:00<?, ?B/s]"
      ]
     },
     "metadata": {},
     "output_type": "display_data"
    },
    {
     "data": {
      "application/vnd.jupyter.widget-view+json": {
       "model_id": "21ebe99589c54ad0b47bfd89f20fdf8d",
       "version_major": 2,
       "version_minor": 0
      },
      "text/plain": [
       "model.safetensors:   0%|          | 0.00/440M [00:00<?, ?B/s]"
      ]
     },
     "metadata": {},
     "output_type": "display_data"
    },
    {
     "data": {
      "text/plain": [
       "BertModel(\n",
       "  (embeddings): BertEmbeddings(\n",
       "    (word_embeddings): Embedding(30522, 768, padding_idx=0)\n",
       "    (position_embeddings): Embedding(512, 768)\n",
       "    (token_type_embeddings): Embedding(2, 768)\n",
       "    (LayerNorm): LayerNorm((768,), eps=1e-12, elementwise_affine=True)\n",
       "    (dropout): Dropout(p=0.1, inplace=False)\n",
       "  )\n",
       "  (encoder): BertEncoder(\n",
       "    (layer): ModuleList(\n",
       "      (0-11): 12 x BertLayer(\n",
       "        (attention): BertAttention(\n",
       "          (self): BertSdpaSelfAttention(\n",
       "            (query): Linear(in_features=768, out_features=768, bias=True)\n",
       "            (key): Linear(in_features=768, out_features=768, bias=True)\n",
       "            (value): Linear(in_features=768, out_features=768, bias=True)\n",
       "            (dropout): Dropout(p=0.1, inplace=False)\n",
       "          )\n",
       "          (output): BertSelfOutput(\n",
       "            (dense): Linear(in_features=768, out_features=768, bias=True)\n",
       "            (LayerNorm): LayerNorm((768,), eps=1e-12, elementwise_affine=True)\n",
       "            (dropout): Dropout(p=0.1, inplace=False)\n",
       "          )\n",
       "        )\n",
       "        (intermediate): BertIntermediate(\n",
       "          (dense): Linear(in_features=768, out_features=3072, bias=True)\n",
       "          (intermediate_act_fn): GELUActivation()\n",
       "        )\n",
       "        (output): BertOutput(\n",
       "          (dense): Linear(in_features=3072, out_features=768, bias=True)\n",
       "          (LayerNorm): LayerNorm((768,), eps=1e-12, elementwise_affine=True)\n",
       "          (dropout): Dropout(p=0.1, inplace=False)\n",
       "        )\n",
       "      )\n",
       "    )\n",
       "  )\n",
       "  (pooler): BertPooler(\n",
       "    (dense): Linear(in_features=768, out_features=768, bias=True)\n",
       "    (activation): Tanh()\n",
       "  )\n",
       ")"
      ]
     },
     "execution_count": 6,
     "metadata": {},
     "output_type": "execute_result"
    }
   ],
   "source": [
    "device=torch.device('cuda' if torch.cuda.is_available() else 'cpu')\n",
    "from transformers import BertModel\n",
    "\n",
    "# Load BERT once and freeze\n",
    "bert = BertModel.from_pretrained('bert-base-uncased')\n",
    "for param in bert.parameters():\n",
    "    param.requires_grad = False\n",
    "bert.to(device)"
   ]
  },
  {
   "cell_type": "markdown",
   "metadata": {},
   "source": [
    "### LSTM Architecture"
   ]
  },
  {
   "cell_type": "code",
   "execution_count": 7,
   "metadata": {
    "executionInfo": {
     "elapsed": 20,
     "status": "ok",
     "timestamp": 1749299475393,
     "user": {
      "displayName": "Balaji Pravinya Madala 4-Yr B.Tech.: Pharmaceutical Engg. & Tech.,IIT(BHU",
      "userId": "02023745050169837861"
     },
     "user_tz": -330
    },
    "id": "Rt80X9_QXBld"
   },
   "outputs": [],
   "source": [
    "##Using LSTM\n",
    "\n",
    "class LSTMWithFrozenBert(nn.Module):\n",
    "    def __init__(self, bert_model, hidden_dim, output_dim):\n",
    "        super().__init__()\n",
    "        self.bert=bert_model\n",
    "\n",
    "        self.LSTM=nn.LSTM(self.bert.config.hidden_size,hidden_dim,batch_first=True)\n",
    "        self.fc=nn.Linear(hidden_dim,output_dim)\n",
    "\n",
    "    def forward(self,input_ids,attention_mask):\n",
    "      with torch.no_grad():\n",
    "        bert_output=self.bert(input_ids=input_ids,attention_mask=attention_mask)\n",
    "        embeddings=bert_output.last_hidden_state\n",
    "      out,_=self.LSTM(embeddings)\n",
    "      out = (out[:, -1, :]) # Take the last timestep\n",
    "      out = self.fc(out)\n",
    "\n",
    "      return out"
   ]
  },
  {
   "cell_type": "code",
   "execution_count": null,
   "metadata": {
    "executionInfo": {
     "elapsed": 6,
     "status": "ok",
     "timestamp": 1749301672475,
     "user": {
      "displayName": "Balaji Pravinya Madala 4-Yr B.Tech.: Pharmaceutical Engg. & Tech.,IIT(BHU",
      "userId": "02023745050169837861"
     },
     "user_tz": -330
    },
    "id": "GS05GbpNXHWh"
   },
   "outputs": [],
   "source": [
    "epochs=5\n",
    "lr_rate=0.003\n",
    "# instance of LSTM class\n",
    "\n",
    "model=LSTMWithFrozenBert(bert,128,1)\n",
    "\n",
    "criterion=nn.BCEWithLogitsLoss()\n",
    "optimizer=torch.optim.Adam(model.parameters(),lr=lr_rate) #parameters set for training the rn"
   ]
  },
  {
   "cell_type": "code",
   "execution_count": 20,
   "metadata": {
    "colab": {
     "base_uri": "https://localhost:8080/"
    },
    "executionInfo": {
     "elapsed": 4140975,
     "status": "ok",
     "timestamp": 1749305816106,
     "user": {
      "displayName": "Balaji Pravinya Madala 4-Yr B.Tech.: Pharmaceutical Engg. & Tech.,IIT(BHU",
      "userId": "02023745050169837861"
     },
     "user_tz": -330
    },
    "id": "NToYlw9VXJ04",
    "outputId": "f97b8465-a651-416c-e7b5-66c7e1c0e799"
   },
   "outputs": [
    {
     "name": "stderr",
     "output_type": "stream",
     "text": [
      "100%|██████████| 106/106 [13:49<00:00,  7.82s/it]\n"
     ]
    },
    {
     "name": "stdout",
     "output_type": "stream",
     "text": [
      "Epoch [1/5], Loss: 0.4299\n"
     ]
    },
    {
     "name": "stderr",
     "output_type": "stream",
     "text": [
      "100%|██████████| 106/106 [13:48<00:00,  7.82s/it]\n"
     ]
    },
    {
     "name": "stdout",
     "output_type": "stream",
     "text": [
      "Epoch [2/5], Loss: 0.4134\n"
     ]
    },
    {
     "name": "stderr",
     "output_type": "stream",
     "text": [
      "100%|██████████| 106/106 [13:48<00:00,  7.81s/it]\n"
     ]
    },
    {
     "name": "stdout",
     "output_type": "stream",
     "text": [
      "Epoch [3/5], Loss: 0.3741\n"
     ]
    },
    {
     "name": "stderr",
     "output_type": "stream",
     "text": [
      "100%|██████████| 106/106 [13:47<00:00,  7.81s/it]\n"
     ]
    },
    {
     "name": "stdout",
     "output_type": "stream",
     "text": [
      "Epoch [4/5], Loss: 0.3471\n"
     ]
    },
    {
     "name": "stderr",
     "output_type": "stream",
     "text": [
      "100%|██████████| 106/106 [13:47<00:00,  7.80s/it]"
     ]
    },
    {
     "name": "stdout",
     "output_type": "stream",
     "text": [
      "Epoch [5/5], Loss: 0.3462\n"
     ]
    },
    {
     "name": "stderr",
     "output_type": "stream",
     "text": [
      "\n"
     ]
    }
   ],
   "source": [
    "from tqdm import tqdm #showing the progress bar\n",
    "\n",
    "model.to(device) #efficiently use GPU if available\n",
    "\n",
    "batch_dataset_train=DataLoader(ReviewDataset(dataset_train), batch_size=256, shuffle=True,num_workers=2,pin_memory=True) #enabling multiprocessing and pin memory for gpu\n",
    "\n",
    "for i in (range(epochs)):\n",
    "\n",
    "  model.train()\n",
    "\n",
    "  running_loss = 0.0 #average loss over an epoch\n",
    "\n",
    "  for batch in tqdm(batch_dataset_train):\n",
    "        # Move inputs and labels to device\n",
    "        input_ids = batch['input_ids'].to(device)\n",
    "\n",
    "        labels = batch['rating'].float().to(device)\n",
    "\n",
    "        attention_mask=batch['attention_mask'].to(device)\n",
    "\n",
    "        optimizer.zero_grad()\n",
    "\n",
    "        outputs = model(input_ids,attention_mask)  # forward pass\n",
    "\n",
    "        # outputs shape: (batch_size, 1), labels shape: (batch_size)\n",
    "        outputs = outputs.squeeze()  # remove extra dims if needed\n",
    "\n",
    "        loss = criterion(outputs, labels)\n",
    "\n",
    "        loss.backward()\n",
    "        optimizer.step()\n",
    "\n",
    "        running_loss += loss.item()\n",
    "\n",
    "  avg_loss = running_loss / len(batch_dataset_train)\n",
    "  print(f\"Epoch [{i+1}/{epochs}], Loss: {avg_loss:.4f}\")"
   ]
  },
  {
   "cell_type": "code",
   "execution_count": 21,
   "metadata": {
    "colab": {
     "base_uri": "https://localhost:8080/"
    },
    "executionInfo": {
     "elapsed": 89107,
     "status": "ok",
     "timestamp": 1749305911346,
     "user": {
      "displayName": "Balaji Pravinya Madala 4-Yr B.Tech.: Pharmaceutical Engg. & Tech.,IIT(BHU",
      "userId": "02023745050169837861"
     },
     "user_tz": -330
    },
    "id": "Eq6cNybvXNSE",
    "outputId": "bb4fd0e3-5a91-41b7-822a-6d5694daca7d"
   },
   "outputs": [
    {
     "name": "stderr",
     "output_type": "stream",
     "text": [
      "100%|██████████| 12/12 [01:29<00:00,  7.43s/it]"
     ]
    },
    {
     "name": "stdout",
     "output_type": "stream",
     "text": [
      "Loss: 0.3163\n"
     ]
    },
    {
     "name": "stderr",
     "output_type": "stream",
     "text": [
      "\n"
     ]
    }
   ],
   "source": [
    "model.eval()\n",
    "\n",
    "batch_dataset_test=DataLoader(ReviewDataset(dataset_test), batch_size=256, shuffle=False,num_workers=2,pin_memory=True)\n",
    "\n",
    "running_loss=0.0\n",
    "\n",
    "preds=[]\n",
    "\n",
    "labels_fin=[]\n",
    "\n",
    "for batch in tqdm(batch_dataset_test):\n",
    "        # Move inputs and labels to device\n",
    "        input_ids = batch['input_ids'].to(device)\n",
    "\n",
    "        labels = batch['rating'].float().to(device)\n",
    "\n",
    "        attention_mask=batch['attention_mask'].float().to(device)\n",
    "\n",
    "        with torch.no_grad():\n",
    "           outputs = model(input_ids,attention_mask)  # forward pass\n",
    "\n",
    "          # outputs shape: (batch_size, 1), labels shape: (batch_size)\n",
    "           outputs = outputs.squeeze()  # remove extra dims if needed\n",
    "\n",
    "           preds.extend((torch.sigmoid(outputs)>=0.5).cpu().numpy())\n",
    "\n",
    "           labels_fin.extend(labels.cpu().numpy())\n",
    "\n",
    "           loss = criterion(outputs, labels)\n",
    "\n",
    "           running_loss += loss.item()\n",
    "\n",
    "avg_loss = running_loss / len(batch_dataset_test)\n",
    "print(f\"Loss: {avg_loss:.4f}\")\n"
   ]
  },
  {
   "cell_type": "code",
   "execution_count": null,
   "metadata": {
    "colab": {
     "base_uri": "https://localhost:8080/"
    },
    "executionInfo": {
     "elapsed": 11,
     "status": "ok",
     "timestamp": 1749305920940,
     "user": {
      "displayName": "Balaji Pravinya Madala 4-Yr B.Tech.: Pharmaceutical Engg. & Tech.,IIT(BHU",
      "userId": "02023745050169837861"
     },
     "user_tz": -330
    },
    "id": "qrS0_4M4XQlu",
    "outputId": "04e97c6a-5ae7-493f-ef13-efc96b3f439d"
   },
   "outputs": [
    {
     "name": "stdout",
     "output_type": "stream",
     "text": [
      "Accuracy on test: 0.8660\n",
      "F1-score on test: 0.8542\n"
     ]
    }
   ],
   "source": [
    "from sklearn.metrics import accuracy_score,f1_score\n",
    "\n",
    "print(f\"Accuracy on test: {accuracy_score(labels_fin, preds):0.4f}\") #accuracy on test data\n",
    "\n",
    "print(f\"F1-score on test: {f1_score(labels_fin, preds):0.4f}\") #f1 score on test data"
   ]
  },
  {
   "cell_type": "code",
   "execution_count": 23,
   "metadata": {
    "colab": {
     "base_uri": "https://localhost:8080/"
    },
    "executionInfo": {
     "elapsed": 8,
     "status": "ok",
     "timestamp": 1749305927010,
     "user": {
      "displayName": "Balaji Pravinya Madala 4-Yr B.Tech.: Pharmaceutical Engg. & Tech.,IIT(BHU",
      "userId": "02023745050169837861"
     },
     "user_tz": -330
    },
    "id": "my4s1PIVXTh5",
    "outputId": "03081f73-4354-4468-ed97-b42ceb066cd4"
   },
   "outputs": [
    {
     "name": "stdout",
     "output_type": "stream",
     "text": [
      "LSTMWithFrozenBert(\n",
      "  (bert): BertModel(\n",
      "    (embeddings): BertEmbeddings(\n",
      "      (word_embeddings): Embedding(30522, 768, padding_idx=0)\n",
      "      (position_embeddings): Embedding(512, 768)\n",
      "      (token_type_embeddings): Embedding(2, 768)\n",
      "      (LayerNorm): LayerNorm((768,), eps=1e-12, elementwise_affine=True)\n",
      "      (dropout): Dropout(p=0.1, inplace=False)\n",
      "    )\n",
      "    (encoder): BertEncoder(\n",
      "      (layer): ModuleList(\n",
      "        (0-11): 12 x BertLayer(\n",
      "          (attention): BertAttention(\n",
      "            (self): BertSdpaSelfAttention(\n",
      "              (query): Linear(in_features=768, out_features=768, bias=True)\n",
      "              (key): Linear(in_features=768, out_features=768, bias=True)\n",
      "              (value): Linear(in_features=768, out_features=768, bias=True)\n",
      "              (dropout): Dropout(p=0.1, inplace=False)\n",
      "            )\n",
      "            (output): BertSelfOutput(\n",
      "              (dense): Linear(in_features=768, out_features=768, bias=True)\n",
      "              (LayerNorm): LayerNorm((768,), eps=1e-12, elementwise_affine=True)\n",
      "              (dropout): Dropout(p=0.1, inplace=False)\n",
      "            )\n",
      "          )\n",
      "          (intermediate): BertIntermediate(\n",
      "            (dense): Linear(in_features=768, out_features=3072, bias=True)\n",
      "            (intermediate_act_fn): GELUActivation()\n",
      "          )\n",
      "          (output): BertOutput(\n",
      "            (dense): Linear(in_features=3072, out_features=768, bias=True)\n",
      "            (LayerNorm): LayerNorm((768,), eps=1e-12, elementwise_affine=True)\n",
      "            (dropout): Dropout(p=0.1, inplace=False)\n",
      "          )\n",
      "        )\n",
      "      )\n",
      "    )\n",
      "    (pooler): BertPooler(\n",
      "      (dense): Linear(in_features=768, out_features=768, bias=True)\n",
      "      (activation): Tanh()\n",
      "    )\n",
      "  )\n",
      "  (LSTM): LSTM(768, 128, batch_first=True)\n",
      "  (fc): Linear(in_features=128, out_features=1, bias=True)\n",
      ")\n"
     ]
    }
   ],
   "source": [
    "print(model) # a summary of the model"
   ]
  },
  {
   "cell_type": "markdown",
   "metadata": {},
   "source": [
    "### RNN Architecture"
   ]
  },
  {
   "cell_type": "code",
   "execution_count": 24,
   "metadata": {
    "executionInfo": {
     "elapsed": 3,
     "status": "ok",
     "timestamp": 1749305931108,
     "user": {
      "displayName": "Balaji Pravinya Madala 4-Yr B.Tech.: Pharmaceutical Engg. & Tech.,IIT(BHU",
      "userId": "02023745050169837861"
     },
     "user_tz": -330
    },
    "id": "uMwWH5Cwbj-T"
   },
   "outputs": [],
   "source": [
    "class RNNWithFrozenBert(nn.Module):\n",
    "    def __init__(self, bert_model, hidden_dim, output_dim):\n",
    "        super().__init__()\n",
    "        self.bert = bert_model  # Use externally passed BERT\n",
    "\n",
    "        self.rnn = nn.RNN(self.bert.config.hidden_size, hidden_dim, batch_first=True, nonlinearity='tanh')\n",
    "        self.fc = nn.Linear(hidden_dim, output_dim)\n",
    "        self.sigmoid = nn.Sigmoid()\n",
    "\n",
    "    def forward(self, input_ids, attention_mask):\n",
    "        with torch.no_grad():\n",
    "            bert_output = self.bert(input_ids=input_ids, attention_mask=attention_mask)\n",
    "            embeddings = bert_output.last_hidden_state  # shape: (batch, seq_len, 768)\n",
    "\n",
    "        out, _ = self.rnn(embeddings)\n",
    "        out = out[:, -1, :]  # last timestep\n",
    "        out = self.fc(out)\n",
    "        return out"
   ]
  },
  {
   "cell_type": "code",
   "execution_count": null,
   "metadata": {
    "executionInfo": {
     "elapsed": 5,
     "status": "ok",
     "timestamp": 1749306015976,
     "user": {
      "displayName": "Balaji Pravinya Madala 4-Yr B.Tech.: Pharmaceutical Engg. & Tech.,IIT(BHU",
      "userId": "02023745050169837861"
     },
     "user_tz": -330
    },
    "id": "DY89tDFEcA6j"
   },
   "outputs": [],
   "source": [
    "epochs=5\n",
    "lr_rate=0.003\n",
    "# instance of RNN class\n",
    "\n",
    "model=RNNWithFrozenBert(bert,128,1)\n",
    "\n",
    "criterion=nn.BCEWithLogitsLoss()\n",
    "optimizer=torch.optim.Adam(model.parameters(),lr=lr_rate) #parameters set for training the rn"
   ]
  },
  {
   "cell_type": "code",
   "execution_count": 28,
   "metadata": {
    "colab": {
     "base_uri": "https://localhost:8080/"
    },
    "executionInfo": {
     "elapsed": 4090385,
     "status": "ok",
     "timestamp": 1749310108123,
     "user": {
      "displayName": "Balaji Pravinya Madala 4-Yr B.Tech.: Pharmaceutical Engg. & Tech.,IIT(BHU",
      "userId": "02023745050169837861"
     },
     "user_tz": -330
    },
    "id": "y2X6XA95cCRT",
    "outputId": "c20a7f41-7d9b-4c4c-8468-aa20589aab9b"
   },
   "outputs": [
    {
     "name": "stderr",
     "output_type": "stream",
     "text": [
      "100%|██████████| 106/106 [13:37<00:00,  7.71s/it]\n"
     ]
    },
    {
     "name": "stdout",
     "output_type": "stream",
     "text": [
      "Epoch [1/5], Loss: 0.4564\n"
     ]
    },
    {
     "name": "stderr",
     "output_type": "stream",
     "text": [
      "100%|██████████| 106/106 [13:38<00:00,  7.72s/it]\n"
     ]
    },
    {
     "name": "stdout",
     "output_type": "stream",
     "text": [
      "Epoch [2/5], Loss: 0.3803\n"
     ]
    },
    {
     "name": "stderr",
     "output_type": "stream",
     "text": [
      "100%|██████████| 106/106 [13:37<00:00,  7.72s/it]\n"
     ]
    },
    {
     "name": "stdout",
     "output_type": "stream",
     "text": [
      "Epoch [3/5], Loss: 0.3837\n"
     ]
    },
    {
     "name": "stderr",
     "output_type": "stream",
     "text": [
      "100%|██████████| 106/106 [13:38<00:00,  7.72s/it]\n"
     ]
    },
    {
     "name": "stdout",
     "output_type": "stream",
     "text": [
      "Epoch [4/5], Loss: 0.3725\n"
     ]
    },
    {
     "name": "stderr",
     "output_type": "stream",
     "text": [
      "100%|██████████| 106/106 [13:38<00:00,  7.72s/it]"
     ]
    },
    {
     "name": "stdout",
     "output_type": "stream",
     "text": [
      "Epoch [5/5], Loss: 0.3635\n"
     ]
    },
    {
     "name": "stderr",
     "output_type": "stream",
     "text": [
      "\n"
     ]
    }
   ],
   "source": [
    "model.to(device) #efficiently use GPU if available\n",
    "\n",
    "batch_dataset_train=DataLoader(ReviewDataset(dataset_train), batch_size=256, shuffle=True,num_workers=2,pin_memory=True) #enabling multiprocessing and pin memory for gpu\n",
    "\n",
    "for i in (range(epochs)):\n",
    "\n",
    "  model.train()\n",
    "\n",
    "  running_loss = 0.0 #average loss over an epoch\n",
    "\n",
    "  for batch in tqdm(batch_dataset_train):\n",
    "        # Move inputs and labels to device\n",
    "        input_ids = batch['input_ids'].to(device)\n",
    "\n",
    "        labels = batch['rating'].float().to(device)\n",
    "\n",
    "        attention_mask=batch['attention_mask'].to(device)\n",
    "\n",
    "        optimizer.zero_grad()\n",
    "\n",
    "        outputs = model(input_ids,attention_mask)  # forward pass\n",
    "\n",
    "        # outputs shape: (batch_size, 1), labels shape: (batch_size)\n",
    "        outputs = outputs.squeeze()  # remove extra dims if needed\n",
    "\n",
    "        loss = criterion(outputs, labels)\n",
    "\n",
    "        loss.backward()\n",
    "        optimizer.step()\n",
    "\n",
    "        running_loss += loss.item()\n",
    "\n",
    "  avg_loss = running_loss / len(batch_dataset_train)\n",
    "  print(f\"Epoch [{i+1}/{epochs}], Loss: {avg_loss:.4f}\")"
   ]
  },
  {
   "cell_type": "code",
   "execution_count": 29,
   "metadata": {
    "colab": {
     "base_uri": "https://localhost:8080/"
    },
    "executionInfo": {
     "elapsed": 89199,
     "status": "ok",
     "timestamp": 1749310281570,
     "user": {
      "displayName": "Balaji Pravinya Madala 4-Yr B.Tech.: Pharmaceutical Engg. & Tech.,IIT(BHU",
      "userId": "02023745050169837861"
     },
     "user_tz": -330
    },
    "id": "6rs0_Pf-cL31",
    "outputId": "ff2daad0-8fb5-4728-8ee3-972d4db5fd4e"
   },
   "outputs": [
    {
     "name": "stderr",
     "output_type": "stream",
     "text": [
      "100%|██████████| 12/12 [01:29<00:00,  7.43s/it]"
     ]
    },
    {
     "name": "stdout",
     "output_type": "stream",
     "text": [
      "Loss: 0.3498\n"
     ]
    },
    {
     "name": "stderr",
     "output_type": "stream",
     "text": [
      "\n"
     ]
    }
   ],
   "source": [
    "model.eval()\n",
    "\n",
    "batch_dataset_test=DataLoader(ReviewDataset(dataset_test), batch_size=256, shuffle=False,num_workers=2,pin_memory=True)\n",
    "\n",
    "running_loss=0.0\n",
    "\n",
    "preds=[]\n",
    "\n",
    "labels_fin=[]\n",
    "\n",
    "for batch in tqdm(batch_dataset_test):\n",
    "        # Move inputs and labels to device\n",
    "        input_ids = batch['input_ids'].to(device)\n",
    "\n",
    "        labels = batch['rating'].float().to(device)\n",
    "\n",
    "        attention_mask=batch['attention_mask'].to(device)\n",
    "\n",
    "        with torch.no_grad():\n",
    "           outputs = model(input_ids,attention_mask)  # forward pass\n",
    "\n",
    "          # outputs shape: (batch_size, 1), labels shape: (batch_size)\n",
    "           outputs = outputs.squeeze()  # remove extra dims if needed\n",
    "\n",
    "           preds.extend((torch.sigmoid(outputs)>=0.5).cpu().numpy())\n",
    "\n",
    "           labels_fin.extend(labels.cpu().numpy())\n",
    "\n",
    "           loss = criterion(outputs, labels)\n",
    "\n",
    "           running_loss += loss.item()\n",
    "\n",
    "avg_loss = running_loss / len(batch_dataset_test)\n",
    "print(f\"Loss: {avg_loss:.4f}\")\n"
   ]
  },
  {
   "cell_type": "code",
   "execution_count": null,
   "metadata": {
    "colab": {
     "base_uri": "https://localhost:8080/"
    },
    "executionInfo": {
     "elapsed": 64,
     "status": "ok",
     "timestamp": 1749310394633,
     "user": {
      "displayName": "Balaji Pravinya Madala 4-Yr B.Tech.: Pharmaceutical Engg. & Tech.,IIT(BHU",
      "userId": "02023745050169837861"
     },
     "user_tz": -330
    },
    "id": "XcpFePyZcTgP",
    "outputId": "9aaec0ad-988f-4caa-d32e-460bc207009c"
   },
   "outputs": [
    {
     "name": "stdout",
     "output_type": "stream",
     "text": [
      "Accuracy on test: 0.8510\n",
      "F1-score on test: 0.8480\n"
     ]
    }
   ],
   "source": [
    "from sklearn.metrics import accuracy_score, f1_score\n",
    "\n",
    "print(f\"Accuracy on test: {accuracy_score(labels_fin, preds):0.4f}\") #accuracy on test data\n",
    "\n",
    "print(f\"F1-score on test: {f1_score(labels_fin, preds):0.4f}\") #f1 score on test data"
   ]
  },
  {
   "cell_type": "code",
   "execution_count": null,
   "metadata": {
    "colab": {
     "base_uri": "https://localhost:8080/"
    },
    "executionInfo": {
     "elapsed": 69,
     "status": "ok",
     "timestamp": 1749310401780,
     "user": {
      "displayName": "Balaji Pravinya Madala 4-Yr B.Tech.: Pharmaceutical Engg. & Tech.,IIT(BHU",
      "userId": "02023745050169837861"
     },
     "user_tz": -330
    },
    "id": "VQaBkim5cWaj",
    "outputId": "47784e52-7e17-4e89-b2b0-28d9afb3e6d4"
   },
   "outputs": [
    {
     "name": "stdout",
     "output_type": "stream",
     "text": [
      "RNNWithFrozenBert(\n",
      "  (bert): BertModel(\n",
      "    (embeddings): BertEmbeddings(\n",
      "      (word_embeddings): Embedding(30522, 768, padding_idx=0)\n",
      "      (position_embeddings): Embedding(512, 768)\n",
      "      (token_type_embeddings): Embedding(2, 768)\n",
      "      (LayerNorm): LayerNorm((768,), eps=1e-12, elementwise_affine=True)\n",
      "      (dropout): Dropout(p=0.1, inplace=False)\n",
      "    )\n",
      "    (encoder): BertEncoder(\n",
      "      (layer): ModuleList(\n",
      "        (0-11): 12 x BertLayer(\n",
      "          (attention): BertAttention(\n",
      "            (self): BertSdpaSelfAttention(\n",
      "              (query): Linear(in_features=768, out_features=768, bias=True)\n",
      "              (key): Linear(in_features=768, out_features=768, bias=True)\n",
      "              (value): Linear(in_features=768, out_features=768, bias=True)\n",
      "              (dropout): Dropout(p=0.1, inplace=False)\n",
      "            )\n",
      "            (output): BertSelfOutput(\n",
      "              (dense): Linear(in_features=768, out_features=768, bias=True)\n",
      "              (LayerNorm): LayerNorm((768,), eps=1e-12, elementwise_affine=True)\n",
      "              (dropout): Dropout(p=0.1, inplace=False)\n",
      "            )\n",
      "          )\n",
      "          (intermediate): BertIntermediate(\n",
      "            (dense): Linear(in_features=768, out_features=3072, bias=True)\n",
      "            (intermediate_act_fn): GELUActivation()\n",
      "          )\n",
      "          (output): BertOutput(\n",
      "            (dense): Linear(in_features=3072, out_features=768, bias=True)\n",
      "            (LayerNorm): LayerNorm((768,), eps=1e-12, elementwise_affine=True)\n",
      "            (dropout): Dropout(p=0.1, inplace=False)\n",
      "          )\n",
      "        )\n",
      "      )\n",
      "    )\n",
      "    (pooler): BertPooler(\n",
      "      (dense): Linear(in_features=768, out_features=768, bias=True)\n",
      "      (activation): Tanh()\n",
      "    )\n",
      "  )\n",
      "  (rnn): RNN(768, 128, batch_first=True)\n",
      "  (fc): Linear(in_features=128, out_features=1, bias=True)\n",
      "  (sigmoid): Sigmoid()\n",
      ")\n"
     ]
    }
   ],
   "source": [
    "print(model) #model summary"
   ]
  }
 ],
 "metadata": {
  "accelerator": "GPU",
  "colab": {
   "authorship_tag": "ABX9TyNftJyQeS3fHiMAVLIhBdYY",
   "gpuType": "T4",
   "provenance": []
  },
  "kernelspec": {
   "display_name": "Python 3",
   "name": "python3"
  },
  "language_info": {
   "name": "python"
  }
 },
 "nbformat": 4,
 "nbformat_minor": 0
}
