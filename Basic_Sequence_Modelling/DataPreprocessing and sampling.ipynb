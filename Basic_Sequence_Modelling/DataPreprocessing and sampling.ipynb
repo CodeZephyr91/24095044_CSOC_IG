{
 "cells": [
  {
   "cell_type": "code",
   "execution_count": 73,
   "id": "05e58f45-4592-4feb-89e4-43a33007bb67",
   "metadata": {},
   "outputs": [],
   "source": [
    " #importing the necessary libraries\n",
    "import matplotlib.pyplot as plt\n",
    "import seaborn as sns\n",
    "import pandas as pd\n",
    "import numpy as np"
   ]
  },
  {
   "cell_type": "code",
   "execution_count": 75,
   "id": "c3150bbd-d7f9-48ea-ba12-bb0e355fe04b",
   "metadata": {},
   "outputs": [],
   "source": [
    "train_df=pd.read_csv('train.csv')\n",
    "test_df=pd.read_csv('test.csv') #first reading into pandas\n",
    "\n",
    "train_df.columns=['rating','title','review']\n",
    "test_df.columns=['rating','title','review']\n",
    "\n",
    "train_df.dropna(inplace=True)\n",
    "test_df.dropna(inplace=True) #dropping null values\n",
    "\n",
    "train_df['text_review']=train_df['title']+' '+train_df['review']\n",
    "test_df['text_review']=test_df['title']+' '+test_df['review'] #combining title and review into one column\n",
    "\n",
    "train_df.drop(['title','review'],axis=1,inplace=True)\n",
    "\n",
    "test_df.drop(['title','review'],axis=1,inplace=True)"
   ]
  },
  {
   "cell_type": "code",
   "execution_count": 77,
   "id": "3faa5cff-f669-41a9-aa9b-bedb9fd2c47c",
   "metadata": {},
   "outputs": [
    {
     "data": {
      "text/plain": [
       "rating\n",
       "2    1799912\n",
       "1    1799880\n",
       "Name: count, dtype: int64"
      ]
     },
     "execution_count": 77,
     "metadata": {},
     "output_type": "execute_result"
    }
   ],
   "source": [
    "train_df['rating'].value_counts() #its nearly a 1:1 ratio"
   ]
  },
  {
   "cell_type": "code",
   "execution_count": 79,
   "id": "c11932c6-6f7a-4698-92d0-6a9674bd7934",
   "metadata": {},
   "outputs": [
    {
     "data": {
      "text/html": [
       "<div>\n",
       "<style scoped>\n",
       "    .dataframe tbody tr th:only-of-type {\n",
       "        vertical-align: middle;\n",
       "    }\n",
       "\n",
       "    .dataframe tbody tr th {\n",
       "        vertical-align: top;\n",
       "    }\n",
       "\n",
       "    .dataframe thead th {\n",
       "        text-align: right;\n",
       "    }\n",
       "</style>\n",
       "<table border=\"1\" class=\"dataframe\">\n",
       "  <thead>\n",
       "    <tr style=\"text-align: right;\">\n",
       "      <th></th>\n",
       "      <th>rating</th>\n",
       "      <th>text_review</th>\n",
       "    </tr>\n",
       "  </thead>\n",
       "  <tbody>\n",
       "    <tr>\n",
       "      <th>0</th>\n",
       "      <td>2</td>\n",
       "      <td>Earcuff Product arived so quickly and I love i...</td>\n",
       "    </tr>\n",
       "    <tr>\n",
       "      <th>1</th>\n",
       "      <td>2</td>\n",
       "      <td>Hearts in Atlantis This is Stephen King at his...</td>\n",
       "    </tr>\n",
       "    <tr>\n",
       "      <th>2</th>\n",
       "      <td>2</td>\n",
       "      <td>The Faces of Gettysburg-Awesome! This is a won...</td>\n",
       "    </tr>\n",
       "    <tr>\n",
       "      <th>3</th>\n",
       "      <td>1</td>\n",
       "      <td>would have been better is not for marketing Th...</td>\n",
       "    </tr>\n",
       "    <tr>\n",
       "      <th>4</th>\n",
       "      <td>2</td>\n",
       "      <td>wonderful film!!!! A wonderful film, just one ...</td>\n",
       "    </tr>\n",
       "  </tbody>\n",
       "</table>\n",
       "</div>"
      ],
      "text/plain": [
       "   rating                                        text_review\n",
       "0       2  Earcuff Product arived so quickly and I love i...\n",
       "1       2  Hearts in Atlantis This is Stephen King at his...\n",
       "2       2  The Faces of Gettysburg-Awesome! This is a won...\n",
       "3       1  would have been better is not for marketing Th...\n",
       "4       2  wonderful film!!!! A wonderful film, just one ..."
      ]
     },
     "execution_count": 79,
     "metadata": {},
     "output_type": "execute_result"
    }
   ],
   "source": [
    "#applying startified sampling...keeping the 1:1 ratio intact\n",
    "#first take 3.75 % samples of class 1 and 2 individually\n",
    "#then combine that and shuffle to introduce disorderedness\n",
    "\n",
    "df_class_1=train_df.loc[train_df['rating']==2].sample(frac=0.0075,random_state=42)\n",
    "\n",
    "df_class_2=train_df.loc[train_df['rating']==1].sample(frac=0.0075,random_state=42)\n",
    "\n",
    "train_df_sampled=pd.concat([df_class_1,df_class_2]).sample(frac=1,random_state=42).reset_index(drop=True)\n",
    "\n",
    "train_df_sampled.head()"
   ]
  },
  {
   "cell_type": "code",
   "execution_count": 81,
   "id": "a3ff3e37-ba39-4d0d-9832-1de6f7f2ec7f",
   "metadata": {},
   "outputs": [
    {
     "data": {
      "text/plain": [
       "rating\n",
       "2    0.5\n",
       "1    0.5\n",
       "Name: proportion, dtype: float64"
      ]
     },
     "execution_count": 81,
     "metadata": {},
     "output_type": "execute_result"
    }
   ],
   "source": [
    "train_df_sampled['rating'].value_counts(normalize=True) #classes well balanced, consistent with original data sample proportion"
   ]
  },
  {
   "cell_type": "code",
   "execution_count": 83,
   "id": "93320639-c159-4a91-bd54-ddb523bbba51",
   "metadata": {},
   "outputs": [
    {
     "data": {
      "text/html": [
       "<div>\n",
       "<style scoped>\n",
       "    .dataframe tbody tr th:only-of-type {\n",
       "        vertical-align: middle;\n",
       "    }\n",
       "\n",
       "    .dataframe tbody tr th {\n",
       "        vertical-align: top;\n",
       "    }\n",
       "\n",
       "    .dataframe thead th {\n",
       "        text-align: right;\n",
       "    }\n",
       "</style>\n",
       "<table border=\"1\" class=\"dataframe\">\n",
       "  <thead>\n",
       "    <tr style=\"text-align: right;\">\n",
       "      <th></th>\n",
       "      <th>rating</th>\n",
       "      <th>text_review</th>\n",
       "    </tr>\n",
       "  </thead>\n",
       "  <tbody>\n",
       "    <tr>\n",
       "      <th>0</th>\n",
       "      <td>1</td>\n",
       "      <td>Beware..junk Cheaply made and rushed onto the ...</td>\n",
       "    </tr>\n",
       "    <tr>\n",
       "      <th>1</th>\n",
       "      <td>2</td>\n",
       "      <td>Great Insight My boss (self-made restaurant ow...</td>\n",
       "    </tr>\n",
       "    <tr>\n",
       "      <th>2</th>\n",
       "      <td>1</td>\n",
       "      <td>Design flaw renders unit unusable Before you b...</td>\n",
       "    </tr>\n",
       "    <tr>\n",
       "      <th>3</th>\n",
       "      <td>2</td>\n",
       "      <td>Good resource This is a good resource that ser...</td>\n",
       "    </tr>\n",
       "    <tr>\n",
       "      <th>4</th>\n",
       "      <td>1</td>\n",
       "      <td>Very Disappointed Considering Speedo's reputat...</td>\n",
       "    </tr>\n",
       "  </tbody>\n",
       "</table>\n",
       "</div>"
      ],
      "text/plain": [
       "   rating                                        text_review\n",
       "0       1  Beware..junk Cheaply made and rushed onto the ...\n",
       "1       2  Great Insight My boss (self-made restaurant ow...\n",
       "2       1  Design flaw renders unit unusable Before you b...\n",
       "3       2  Good resource This is a good resource that ser...\n",
       "4       1  Very Disappointed Considering Speedo's reputat..."
      ]
     },
     "execution_count": 83,
     "metadata": {},
     "output_type": "execute_result"
    }
   ],
   "source": [
    "df_class_1=test_df.loc[test_df['rating']==2].sample(frac=0.0075,random_state=42)\n",
    "\n",
    "df_class_2=test_df.loc[test_df['rating']==1].sample(frac=0.0075,random_state=42)\n",
    "\n",
    "test_df_sampled=pd.concat([df_class_1,df_class_2]).sample(frac=1,random_state=42).reset_index(drop=True)\n",
    "\n",
    "test_df_sampled.head()"
   ]
  },
  {
   "cell_type": "code",
   "execution_count": 85,
   "id": "28259eb4-cc0b-49f3-9fcf-19dba056354b",
   "metadata": {},
   "outputs": [
    {
     "data": {
      "text/plain": [
       "rating\n",
       "1    0.5\n",
       "2    0.5\n",
       "Name: proportion, dtype: float64"
      ]
     },
     "execution_count": 85,
     "metadata": {},
     "output_type": "execute_result"
    }
   ],
   "source": [
    "test_df_sampled['rating'].value_counts(normalize=True) #classes well balanced, consistent with original data sample proportion"
   ]
  },
  {
   "cell_type": "code",
   "execution_count": 87,
   "id": "fc5ac440-95ef-4e65-a40d-504ba6f802fb",
   "metadata": {},
   "outputs": [
    {
     "name": "stdout",
     "output_type": "stream",
     "text": [
      "3000\n"
     ]
    }
   ],
   "source": [
    "print(len(test_df_sampled))"
   ]
  },
  {
   "cell_type": "code",
   "execution_count": 89,
   "id": "69bbda80-649e-4b66-891a-61da13e4bc67",
   "metadata": {},
   "outputs": [],
   "source": [
    "from datasets import Dataset\n",
    "\n",
    "dataset=Dataset.from_pandas(train_df_sampled) #converting to hugging face dataset now\n",
    "dataset_test=Dataset.from_pandas(test_df_sampled)"
   ]
  },
  {
   "cell_type": "code",
   "execution_count": 91,
   "id": "01b24157-7405-4528-9302-131dc97e5d67",
   "metadata": {},
   "outputs": [
    {
     "data": {
      "application/vnd.jupyter.widget-view+json": {
       "model_id": "c14564e49ca24683bfffb172cb7e8d82",
       "version_major": 2,
       "version_minor": 0
      },
      "text/plain": [
       "Map:   0%|          | 0/26998 [00:00<?, ? examples/s]"
      ]
     },
     "metadata": {},
     "output_type": "display_data"
    },
    {
     "data": {
      "application/vnd.jupyter.widget-view+json": {
       "model_id": "6f78d4b6b0ca4729b96c3edc8b836032",
       "version_major": 2,
       "version_minor": 0
      },
      "text/plain": [
       "Map:   0%|          | 0/3000 [00:00<?, ? examples/s]"
      ]
     },
     "metadata": {},
     "output_type": "display_data"
    }
   ],
   "source": [
    "import re\n",
    "def remove_punc(batch):\n",
    "  batch['text_review']=[re.sub(r'[^\\w\\s]','',example) for example in batch['text_review']] #removing punctuation\n",
    "  return batch\n",
    "\n",
    "dataset=dataset.map(remove_punc,batched=True)\n",
    "dataset_test=dataset_test.map(remove_punc,batched=True)"
   ]
  },
  {
   "cell_type": "code",
   "execution_count": 93,
   "id": "b3f88438-58cc-4ef7-8edc-4f732ca9aa87",
   "metadata": {},
   "outputs": [],
   "source": [
    "from transformers import AutoTokenizer\n",
    "\n",
    "model='bert-base-uncased' #using pre trained tokenizer of BERT\n",
    "\n",
    "tokenizer=AutoTokenizer.from_pretrained(model)\n"
   ]
  },
  {
   "cell_type": "code",
   "execution_count": 95,
   "id": "c784e6bc-9b3b-4a2a-87cd-a02ba31aff57",
   "metadata": {},
   "outputs": [
    {
     "data": {
      "application/vnd.jupyter.widget-view+json": {
       "model_id": "dff165576cb746cfb7f720500a36d47c",
       "version_major": 2,
       "version_minor": 0
      },
      "text/plain": [
       "Map:   0%|          | 0/26998 [00:00<?, ? examples/s]"
      ]
     },
     "metadata": {},
     "output_type": "display_data"
    },
    {
     "data": {
      "application/vnd.jupyter.widget-view+json": {
       "model_id": "cac791c4cdf64a668573d1baf3bf27ed",
       "version_major": 2,
       "version_minor": 0
      },
      "text/plain": [
       "Map:   0%|          | 0/3000 [00:00<?, ? examples/s]"
      ]
     },
     "metadata": {},
     "output_type": "display_data"
    }
   ],
   "source": [
    "def tokenize_text(batch):\n",
    "  return tokenizer(batch['text_review'],padding='max_length',max_length=512,truncation=True)\n",
    "\n",
    "dataset=dataset.map(tokenize_text,batched=True) #batch tokenization\n",
    "dataset_test=dataset_test.map(tokenize_text,batched=True)"
   ]
  },
  {
   "cell_type": "code",
   "execution_count": 97,
   "id": "0382dc28-594f-45ea-bf51-3afb5c771dd0",
   "metadata": {},
   "outputs": [
    {
     "data": {
      "application/vnd.jupyter.widget-view+json": {
       "model_id": "253a37c7963049ea95b2e94a6cacf7c3",
       "version_major": 2,
       "version_minor": 0
      },
      "text/plain": [
       "Saving the dataset (0/1 shards):   0%|          | 0/26998 [00:00<?, ? examples/s]"
      ]
     },
     "metadata": {},
     "output_type": "display_data"
    },
    {
     "data": {
      "application/vnd.jupyter.widget-view+json": {
       "model_id": "a5d8798cf87d430399e44e6effe1c6d9",
       "version_major": 2,
       "version_minor": 0
      },
      "text/plain": [
       "Saving the dataset (0/1 shards):   0%|          | 0/3000 [00:00<?, ? examples/s]"
      ]
     },
     "metadata": {},
     "output_type": "display_data"
    }
   ],
   "source": [
    "dataset.save_to_disk('./dataset_train') #saving the preprocessed dataset to disk \n",
    "dataset_test.save_to_disk('./dataset_test')"
   ]
  },
  {
   "cell_type": "code",
   "execution_count": 99,
   "id": "c614910c-eeb4-49d1-b5bc-19a06039602f",
   "metadata": {},
   "outputs": [
    {
     "name": "stdout",
     "output_type": "stream",
     "text": [
      "30522\n"
     ]
    }
   ],
   "source": [
    "print(tokenizer.vocab_size)"
   ]
  }
 ],
 "metadata": {
  "kernelspec": {
   "display_name": "Python 3 (ipykernel)",
   "language": "python",
   "name": "python3"
  },
  "language_info": {
   "codemirror_mode": {
    "name": "ipython",
    "version": 3
   },
   "file_extension": ".py",
   "mimetype": "text/x-python",
   "name": "python",
   "nbconvert_exporter": "python",
   "pygments_lexer": "ipython3",
   "version": "3.12.7"
  }
 },
 "nbformat": 4,
 "nbformat_minor": 5
}
