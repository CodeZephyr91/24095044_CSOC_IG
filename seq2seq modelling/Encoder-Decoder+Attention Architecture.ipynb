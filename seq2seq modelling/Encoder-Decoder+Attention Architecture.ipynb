{
 "cells": [
  {
   "cell_type": "code",
   "execution_count": 1,
   "metadata": {
    "colab": {
     "base_uri": "https://localhost:8080/"
    },
    "executionInfo": {
     "elapsed": 22919,
     "status": "ok",
     "timestamp": 1750412288322,
     "user": {
      "displayName": "Shalini Saxena",
      "userId": "02706439085145338721"
     },
     "user_tz": -330
    },
    "id": "hcI1dC_OrdEp",
    "outputId": "e6306b7f-6727-46ce-9a11-3737fc331ec9"
   },
   "outputs": [
    {
     "name": "stdout",
     "output_type": "stream",
     "text": [
      "Requirement already satisfied: datasets in /usr/local/lib/python3.11/dist-packages (2.14.4)\n",
      "Collecting datasets\n",
      "  Downloading datasets-3.6.0-py3-none-any.whl.metadata (19 kB)\n",
      "Requirement already satisfied: huggingface_hub in /usr/local/lib/python3.11/dist-packages (0.33.0)\n",
      "Requirement already satisfied: fsspec in /usr/local/lib/python3.11/dist-packages (2025.3.2)\n",
      "Collecting fsspec\n",
      "  Downloading fsspec-2025.5.1-py3-none-any.whl.metadata (11 kB)\n",
      "Requirement already satisfied: filelock in /usr/local/lib/python3.11/dist-packages (from datasets) (3.18.0)\n",
      "Requirement already satisfied: numpy>=1.17 in /usr/local/lib/python3.11/dist-packages (from datasets) (2.0.2)\n",
      "Requirement already satisfied: pyarrow>=15.0.0 in /usr/local/lib/python3.11/dist-packages (from datasets) (18.1.0)\n",
      "Requirement already satisfied: dill<0.3.9,>=0.3.0 in /usr/local/lib/python3.11/dist-packages (from datasets) (0.3.7)\n",
      "Requirement already satisfied: pandas in /usr/local/lib/python3.11/dist-packages (from datasets) (2.2.2)\n",
      "Requirement already satisfied: requests>=2.32.2 in /usr/local/lib/python3.11/dist-packages (from datasets) (2.32.3)\n",
      "Requirement already satisfied: tqdm>=4.66.3 in /usr/local/lib/python3.11/dist-packages (from datasets) (4.67.1)\n",
      "Requirement already satisfied: xxhash in /usr/local/lib/python3.11/dist-packages (from datasets) (3.5.0)\n",
      "Requirement already satisfied: multiprocess<0.70.17 in /usr/local/lib/python3.11/dist-packages (from datasets) (0.70.15)\n",
      "  Downloading fsspec-2025.3.0-py3-none-any.whl.metadata (11 kB)\n",
      "Requirement already satisfied: packaging in /usr/local/lib/python3.11/dist-packages (from datasets) (24.2)\n",
      "Requirement already satisfied: pyyaml>=5.1 in /usr/local/lib/python3.11/dist-packages (from datasets) (6.0.2)\n",
      "Requirement already satisfied: typing-extensions>=3.7.4.3 in /usr/local/lib/python3.11/dist-packages (from huggingface_hub) (4.14.0)\n",
      "Requirement already satisfied: hf-xet<2.0.0,>=1.1.2 in /usr/local/lib/python3.11/dist-packages (from huggingface_hub) (1.1.3)\n",
      "Requirement already satisfied: aiohttp!=4.0.0a0,!=4.0.0a1 in /usr/local/lib/python3.11/dist-packages (from fsspec[http]<=2025.3.0,>=2023.1.0->datasets) (3.11.15)\n",
      "Requirement already satisfied: charset-normalizer<4,>=2 in /usr/local/lib/python3.11/dist-packages (from requests>=2.32.2->datasets) (3.4.2)\n",
      "Requirement already satisfied: idna<4,>=2.5 in /usr/local/lib/python3.11/dist-packages (from requests>=2.32.2->datasets) (3.10)\n",
      "Requirement already satisfied: urllib3<3,>=1.21.1 in /usr/local/lib/python3.11/dist-packages (from requests>=2.32.2->datasets) (2.4.0)\n",
      "Requirement already satisfied: certifi>=2017.4.17 in /usr/local/lib/python3.11/dist-packages (from requests>=2.32.2->datasets) (2025.6.15)\n",
      "Requirement already satisfied: python-dateutil>=2.8.2 in /usr/local/lib/python3.11/dist-packages (from pandas->datasets) (2.9.0.post0)\n",
      "Requirement already satisfied: pytz>=2020.1 in /usr/local/lib/python3.11/dist-packages (from pandas->datasets) (2025.2)\n",
      "Requirement already satisfied: tzdata>=2022.7 in /usr/local/lib/python3.11/dist-packages (from pandas->datasets) (2025.2)\n",
      "Requirement already satisfied: aiohappyeyeballs>=2.3.0 in /usr/local/lib/python3.11/dist-packages (from aiohttp!=4.0.0a0,!=4.0.0a1->fsspec[http]<=2025.3.0,>=2023.1.0->datasets) (2.6.1)\n",
      "Requirement already satisfied: aiosignal>=1.1.2 in /usr/local/lib/python3.11/dist-packages (from aiohttp!=4.0.0a0,!=4.0.0a1->fsspec[http]<=2025.3.0,>=2023.1.0->datasets) (1.3.2)\n",
      "Requirement already satisfied: attrs>=17.3.0 in /usr/local/lib/python3.11/dist-packages (from aiohttp!=4.0.0a0,!=4.0.0a1->fsspec[http]<=2025.3.0,>=2023.1.0->datasets) (25.3.0)\n",
      "Requirement already satisfied: frozenlist>=1.1.1 in /usr/local/lib/python3.11/dist-packages (from aiohttp!=4.0.0a0,!=4.0.0a1->fsspec[http]<=2025.3.0,>=2023.1.0->datasets) (1.7.0)\n",
      "Requirement already satisfied: multidict<7.0,>=4.5 in /usr/local/lib/python3.11/dist-packages (from aiohttp!=4.0.0a0,!=4.0.0a1->fsspec[http]<=2025.3.0,>=2023.1.0->datasets) (6.4.4)\n",
      "Requirement already satisfied: propcache>=0.2.0 in /usr/local/lib/python3.11/dist-packages (from aiohttp!=4.0.0a0,!=4.0.0a1->fsspec[http]<=2025.3.0,>=2023.1.0->datasets) (0.3.2)\n",
      "Requirement already satisfied: yarl<2.0,>=1.17.0 in /usr/local/lib/python3.11/dist-packages (from aiohttp!=4.0.0a0,!=4.0.0a1->fsspec[http]<=2025.3.0,>=2023.1.0->datasets) (1.20.1)\n",
      "Requirement already satisfied: six>=1.5 in /usr/local/lib/python3.11/dist-packages (from python-dateutil>=2.8.2->pandas->datasets) (1.17.0)\n",
      "Downloading datasets-3.6.0-py3-none-any.whl (491 kB)\n",
      "\u001b[2K   \u001b[90m━━━━━━━━━━━━━━━━━━━━━━━━━━━━━━━━━━━━━━━━\u001b[0m \u001b[32m491.5/491.5 kB\u001b[0m \u001b[31m12.4 MB/s\u001b[0m eta \u001b[36m0:00:00\u001b[0m\n",
      "\u001b[?25hDownloading fsspec-2025.3.0-py3-none-any.whl (193 kB)\n",
      "\u001b[2K   \u001b[90m━━━━━━━━━━━━━━━━━━━━━━━━━━━━━━━━━━━━━━━━\u001b[0m \u001b[32m193.6/193.6 kB\u001b[0m \u001b[31m10.1 MB/s\u001b[0m eta \u001b[36m0:00:00\u001b[0m\n",
      "\u001b[?25hInstalling collected packages: fsspec, datasets\n",
      "  Attempting uninstall: fsspec\n",
      "    Found existing installation: fsspec 2025.3.2\n",
      "    Uninstalling fsspec-2025.3.2:\n",
      "      Successfully uninstalled fsspec-2025.3.2\n",
      "  Attempting uninstall: datasets\n",
      "    Found existing installation: datasets 2.14.4\n",
      "    Uninstalling datasets-2.14.4:\n",
      "      Successfully uninstalled datasets-2.14.4\n",
      "\u001b[31mERROR: pip's dependency resolver does not currently take into account all the packages that are installed. This behaviour is the source of the following dependency conflicts.\n",
      "torch 2.6.0+cu124 requires nvidia-cublas-cu12==12.4.5.8; platform_system == \"Linux\" and platform_machine == \"x86_64\", but you have nvidia-cublas-cu12 12.5.3.2 which is incompatible.\n",
      "torch 2.6.0+cu124 requires nvidia-cuda-cupti-cu12==12.4.127; platform_system == \"Linux\" and platform_machine == \"x86_64\", but you have nvidia-cuda-cupti-cu12 12.5.82 which is incompatible.\n",
      "torch 2.6.0+cu124 requires nvidia-cuda-nvrtc-cu12==12.4.127; platform_system == \"Linux\" and platform_machine == \"x86_64\", but you have nvidia-cuda-nvrtc-cu12 12.5.82 which is incompatible.\n",
      "torch 2.6.0+cu124 requires nvidia-cuda-runtime-cu12==12.4.127; platform_system == \"Linux\" and platform_machine == \"x86_64\", but you have nvidia-cuda-runtime-cu12 12.5.82 which is incompatible.\n",
      "torch 2.6.0+cu124 requires nvidia-cudnn-cu12==9.1.0.70; platform_system == \"Linux\" and platform_machine == \"x86_64\", but you have nvidia-cudnn-cu12 9.3.0.75 which is incompatible.\n",
      "torch 2.6.0+cu124 requires nvidia-cufft-cu12==11.2.1.3; platform_system == \"Linux\" and platform_machine == \"x86_64\", but you have nvidia-cufft-cu12 11.2.3.61 which is incompatible.\n",
      "torch 2.6.0+cu124 requires nvidia-curand-cu12==10.3.5.147; platform_system == \"Linux\" and platform_machine == \"x86_64\", but you have nvidia-curand-cu12 10.3.6.82 which is incompatible.\n",
      "torch 2.6.0+cu124 requires nvidia-cusolver-cu12==11.6.1.9; platform_system == \"Linux\" and platform_machine == \"x86_64\", but you have nvidia-cusolver-cu12 11.6.3.83 which is incompatible.\n",
      "torch 2.6.0+cu124 requires nvidia-cusparse-cu12==12.3.1.170; platform_system == \"Linux\" and platform_machine == \"x86_64\", but you have nvidia-cusparse-cu12 12.5.1.3 which is incompatible.\n",
      "torch 2.6.0+cu124 requires nvidia-nvjitlink-cu12==12.4.127; platform_system == \"Linux\" and platform_machine == \"x86_64\", but you have nvidia-nvjitlink-cu12 12.5.82 which is incompatible.\n",
      "gcsfs 2025.3.2 requires fsspec==2025.3.2, but you have fsspec 2025.3.0 which is incompatible.\u001b[0m\u001b[31m\n",
      "\u001b[0mSuccessfully installed datasets-3.6.0 fsspec-2025.3.0\n"
     ]
    }
   ],
   "source": [
    "!pip install -U datasets huggingface_hub fsspec"
   ]
  },
  {
   "cell_type": "code",
   "execution_count": 2,
   "metadata": {
    "colab": {
     "base_uri": "https://localhost:8080/",
     "height": 475,
     "referenced_widgets": [
      "4c7b1a6157e24e14b86ee72dd3e3e9f9",
      "4a868d2f561c4542b76f1f85ee1e2f6e",
      "c81d74750865400dae65ce7a02abd4fe",
      "e570c247ed3d4f83ac0d9b5813780f5d",
      "230ccf212cfb4f11b90e00958206d098",
      "dafac5501be54215a218ae83de06dd43",
      "c4406e0ff0b0490486de4c6be636b00a",
      "c722218393b54de4a7b89ee5dc0664c8",
      "6747f50d5648436e82e378cda0e10de6",
      "5ecad5445d344636ab2674528e36de6a",
      "c11e662e27544eb0920a0173aa21c1a8",
      "80bc79405fad4dc8b12ee0bb296e21b6",
      "30d44ed94e3746cba56da096f15421a3",
      "b7992c53ef544a9190288da8674e3175",
      "f1b9efbdc4fb44d0a35d31ac1134c3f1",
      "cba3117fb4304a84bddf06ec9c3d713d",
      "bb358a41b86b4a09b91a693d81a855ad",
      "ac902d7cef7d46a2ab61ddcf74e356cb",
      "66482a3c9d4b4c9186c1aed98c43c30d",
      "d1fed30abea2473994fad031726d746d",
      "658a9cae2b7e4bdbbbe254dcd07e5f18",
      "2465c7d58ac949cdbcb9e281e3f53339",
      "eb3c9145d2ca4105a05a1228286126e7",
      "aa58732eacaf4ff198b7de34de7fa31e",
      "8a2c84487fc2477d80238c7f7b92747a",
      "4296815abd25460c806d05e922597d0e",
      "1abcd9f123ff4d8e8a34a5ddcdf1136d",
      "76f48a3944e948e3abdd1f93ade1c696",
      "a7e715aa6bab4ed88e74fbb42827572a",
      "f344931458ee4640bedad957cadbda8e",
      "914d109cf6ea4afdb70bc80010ba12ef",
      "6960ffaea2094ddbadfa83338a578b5e",
      "d682b21cb5a14418a2193c6b5307e471",
      "bb3b4f69a8da43218007dc35c531c8b8",
      "96a621d748504488855ac6e8de21afff",
      "0193f492d9424de38d1c654d9e18a4a7",
      "3ef35dbc48e8470e9594d507ab5d44e9",
      "16b81b4f1a5a4027aa057f8724ba32f2",
      "d46ebe84465a45ac96bd72e46fd6f1ea",
      "1beb173028254cebb867bbac1c293550",
      "d59f1429eb774408b67445819b6418b0",
      "0294fd1de435421e972ab82d62d325d0",
      "c3faf865925c4a29ac6db8f6e900712d",
      "9b12676f5c784e4483467233518e5f5a",
      "492fe6e1867e496fab0e0830fb53c8b1",
      "fa431e99f187489f89b6728bf90bc2ee",
      "bb0fe5c98ca0471eba338244e61e56ef",
      "ebdec24a0ea84c5c976c94300b78edc4",
      "fcd29d78045044c68ad05e2559067883",
      "7fdcc5bebb7349419dba27b51f8f4f7e",
      "657f87f0928742e1a92f34d59ccf50ec",
      "5b9f4258c3384e4983d2358d3889a6b6",
      "cee401c829684333b38830415e86b5a3",
      "1a3dd87e168b4405b8c80706e1ff5de5",
      "12adab1ac9a84c5290a6e5ce38ef543b"
     ]
    },
    "executionInfo": {
     "elapsed": 21076,
     "status": "ok",
     "timestamp": 1750412309421,
     "user": {
      "displayName": "Shalini Saxena",
      "userId": "02706439085145338721"
     },
     "user_tz": -330
    },
    "id": "6HZZ8MAhrrvI",
    "outputId": "65bd7418-24fb-4aee-a34b-26e770538d8e"
   },
   "outputs": [
    {
     "name": "stderr",
     "output_type": "stream",
     "text": [
      "/usr/local/lib/python3.11/dist-packages/huggingface_hub/utils/_auth.py:94: UserWarning: \n",
      "The secret `HF_TOKEN` does not exist in your Colab secrets.\n",
      "To authenticate with the Hugging Face Hub, create a token in your settings tab (https://huggingface.co/settings/tokens), set it as secret in your Google Colab and restart your session.\n",
      "You will be able to reuse this secret in all of your notebooks.\n",
      "Please note that authentication is recommended but still optional to access public models or datasets.\n",
      "  warnings.warn(\n"
     ]
    },
    {
     "data": {
      "application/vnd.jupyter.widget-view+json": {
       "model_id": "4c7b1a6157e24e14b86ee72dd3e3e9f9",
       "version_major": 2,
       "version_minor": 0
      },
      "text/plain": [
       "README.md:   0%|          | 0.00/7.72k [00:00<?, ?B/s]"
      ]
     },
     "metadata": {},
     "output_type": "display_data"
    },
    {
     "data": {
      "application/vnd.jupyter.widget-view+json": {
       "model_id": "80bc79405fad4dc8b12ee0bb296e21b6",
       "version_major": 2,
       "version_minor": 0
      },
      "text/plain": [
       "train.jsonl.zst:   0%|          | 0.00/149M [00:00<?, ?B/s]"
      ]
     },
     "metadata": {},
     "output_type": "display_data"
    },
    {
     "data": {
      "application/vnd.jupyter.widget-view+json": {
       "model_id": "eb3c9145d2ca4105a05a1228286126e7",
       "version_major": 2,
       "version_minor": 0
      },
      "text/plain": [
       "test.jsonl.zst:   0%|          | 0.00/37.3M [00:00<?, ?B/s]"
      ]
     },
     "metadata": {},
     "output_type": "display_data"
    },
    {
     "data": {
      "application/vnd.jupyter.widget-view+json": {
       "model_id": "bb3b4f69a8da43218007dc35c531c8b8",
       "version_major": 2,
       "version_minor": 0
      },
      "text/plain": [
       "Generating train split:   0%|          | 0/1686856 [00:00<?, ? examples/s]"
      ]
     },
     "metadata": {},
     "output_type": "display_data"
    },
    {
     "data": {
      "application/vnd.jupyter.widget-view+json": {
       "model_id": "492fe6e1867e496fab0e0830fb53c8b1",
       "version_major": 2,
       "version_minor": 0
      },
      "text/plain": [
       "Generating test split:   0%|          | 0/421715 [00:00<?, ? examples/s]"
      ]
     },
     "metadata": {},
     "output_type": "display_data"
    },
    {
     "name": "stdout",
     "output_type": "stream",
     "text": [
      "DatasetDict({\n",
      "    train: Dataset({\n",
      "        features: ['id', 'english', 'french', 'source', 'translation_quality', 'readability_grade'],\n",
      "        num_rows: 1686856\n",
      "    })\n",
      "    test: Dataset({\n",
      "        features: ['id', 'english', 'french', 'source', 'translation_quality', 'readability_grade'],\n",
      "        num_rows: 421715\n",
      "    })\n",
      "})\n"
     ]
    }
   ],
   "source": [
    "from datasets import load_dataset\n",
    "\n",
    "# Loads train/validation/test splits with translation field\n",
    "dataset = load_dataset(\"agentlans/en-fr\")\n",
    "print(dataset)"
   ]
  },
  {
   "cell_type": "code",
   "execution_count": 3,
   "metadata": {
    "executionInfo": {
     "elapsed": 847,
     "status": "ok",
     "timestamp": 1750412310273,
     "user": {
      "displayName": "Shalini Saxena",
      "userId": "02706439085145338721"
     },
     "user_tz": -330
    },
    "id": "0IyU9JIFrtw-"
   },
   "outputs": [],
   "source": [
    "small_train = dataset[\"train\"].shuffle(seed=42).select(range(14_000))\n",
    "small_test = dataset[\"test\"].shuffle(seed=42).select(range(4_000))"
   ]
  },
  {
   "cell_type": "code",
   "execution_count": 4,
   "metadata": {
    "executionInfo": {
     "elapsed": 27,
     "status": "ok",
     "timestamp": 1750412310296,
     "user": {
      "displayName": "Shalini Saxena",
      "userId": "02706439085145338721"
     },
     "user_tz": -330
    },
    "id": "5_NAUd3NruZ5"
   },
   "outputs": [],
   "source": [
    "small_dataset = {\n",
    "    \"train\": small_train,\n",
    "    \"test\": small_test\n",
    "}"
   ]
  },
  {
   "cell_type": "code",
   "execution_count": 5,
   "metadata": {
    "colab": {
     "base_uri": "https://localhost:8080/"
    },
    "executionInfo": {
     "elapsed": 20,
     "status": "ok",
     "timestamp": 1750412310315,
     "user": {
      "displayName": "Shalini Saxena",
      "userId": "02706439085145338721"
     },
     "user_tz": -330
    },
    "id": "LwfH75SIrwU9",
    "outputId": "eccfbafc-a785-431d-8936-8bad6f820cb6"
   },
   "outputs": [
    {
     "name": "stdout",
     "output_type": "stream",
     "text": [
      "{'id': 526884, 'english': 'The project will also involve extensive demonstration carried out within the framework of TEN-TELECOM, which provides a series of guidelines for developing trans-European telecommunications networks.', 'french': \"Le projet fera également appel à d'importantes activités de démonstration menées dans le cadre de RTE-TELECOM, qui fournit un ensemble d'orientations pour le développement des réseaux transeuropéens de télécommunications.\", 'source': 'ELRC-1118-CORDIS_News', 'translation_quality': 0.8736, 'readability_grade': 19.24}\n",
      "14000\n",
      "4000\n"
     ]
    }
   ],
   "source": [
    "print(small_dataset[\"train\"][0])\n",
    "print(len(small_dataset[\"train\"]))\n",
    "print(len(small_dataset[\"test\"]))"
   ]
  },
  {
   "cell_type": "code",
   "execution_count": 6,
   "metadata": {
    "colab": {
     "base_uri": "https://localhost:8080/"
    },
    "executionInfo": {
     "elapsed": 6,
     "status": "ok",
     "timestamp": 1750412310347,
     "user": {
      "displayName": "Shalini Saxena",
      "userId": "02706439085145338721"
     },
     "user_tz": -330
    },
    "id": "KVEoBgDqrylO",
    "outputId": "ad27e17f-28f9-4662-ac68-b149f10890fb"
   },
   "outputs": [
    {
     "name": "stdout",
     "output_type": "stream",
     "text": [
      "Length of the validation dataset: 2000\n",
      "Length of the test dataset: 2000\n"
     ]
    }
   ],
   "source": [
    "split_2=small_dataset['test'].train_test_split(test_size=0.5,seed=42)\n",
    "\n",
    "validation_dataset=split_2[\"train\"]\n",
    "\n",
    "test_dataset=split_2[\"test\"]\n",
    "\n",
    "print(f\"Length of the validation dataset: {len(validation_dataset)}\")\n",
    "\n",
    "print(f\"Length of the test dataset: {len(test_dataset)}\")"
   ]
  },
  {
   "cell_type": "code",
   "execution_count": 7,
   "metadata": {
    "colab": {
     "base_uri": "https://localhost:8080/"
    },
    "executionInfo": {
     "elapsed": 30,
     "status": "ok",
     "timestamp": 1750412310379,
     "user": {
      "displayName": "Shalini Saxena",
      "userId": "02706439085145338721"
     },
     "user_tz": -330
    },
    "id": "IeO7X1UVr0l_",
    "outputId": "8b6f8237-b43a-4539-ac2c-9034daf2c862"
   },
   "outputs": [
    {
     "name": "stdout",
     "output_type": "stream",
     "text": [
      "Dataset({\n",
      "    features: ['id', 'english', 'french', 'source', 'translation_quality', 'readability_grade'],\n",
      "    num_rows: 14000\n",
      "})\n"
     ]
    }
   ],
   "source": [
    "train_dataset=small_dataset[\"train\"]\n",
    "print(train_dataset)"
   ]
  },
  {
   "cell_type": "code",
   "execution_count": 8,
   "metadata": {
    "colab": {
     "base_uri": "https://localhost:8080/"
    },
    "executionInfo": {
     "elapsed": 100,
     "status": "ok",
     "timestamp": 1750412310481,
     "user": {
      "displayName": "Shalini Saxena",
      "userId": "02706439085145338721"
     },
     "user_tz": -330
    },
    "id": "8ydN4LaFr3_N",
    "outputId": "6c3f812d-9b0f-4489-c787-7ed38009a351"
   },
   "outputs": [
    {
     "name": "stdout",
     "output_type": "stream",
     "text": [
      "DatasetDict({\n",
      "    train: Dataset({\n",
      "        features: ['id', 'english', 'french', 'source', 'translation_quality', 'readability_grade'],\n",
      "        num_rows: 14000\n",
      "    })\n",
      "    validation: Dataset({\n",
      "        features: ['id', 'english', 'french', 'source', 'translation_quality', 'readability_grade'],\n",
      "        num_rows: 2000\n",
      "    })\n",
      "    test: Dataset({\n",
      "        features: ['id', 'english', 'french', 'source', 'translation_quality', 'readability_grade'],\n",
      "        num_rows: 2000\n",
      "    })\n",
      "})\n"
     ]
    }
   ],
   "source": [
    "from datasets import DatasetDict\n",
    "\n",
    "final_dataset=DatasetDict({\n",
    "    \"train\":train_dataset,\n",
    "    \"validation\":validation_dataset,\n",
    "    \"test\":test_dataset\n",
    "})\n",
    "\n",
    "print(final_dataset)"
   ]
  },
  {
   "cell_type": "code",
   "execution_count": 9,
   "metadata": {
    "executionInfo": {
     "elapsed": 198,
     "status": "ok",
     "timestamp": 1750412310681,
     "user": {
      "displayName": "Shalini Saxena",
      "userId": "02706439085145338721"
     },
     "user_tz": -330
    },
    "id": "C0tpLDuar5DJ"
   },
   "outputs": [],
   "source": [
    "##converting to csv for flexible usage\n",
    "\n",
    "train_dataset=final_dataset[\"train\"].to_pandas()\n",
    "\n",
    "validation_dataset=final_dataset[\"validation\"].to_pandas()\n",
    "\n",
    "test_dataset=final_dataset[\"test\"].to_pandas()"
   ]
  },
  {
   "cell_type": "code",
   "execution_count": 10,
   "metadata": {
    "executionInfo": {
     "elapsed": 8,
     "status": "ok",
     "timestamp": 1750412310684,
     "user": {
      "displayName": "Shalini Saxena",
      "userId": "02706439085145338721"
     },
     "user_tz": -330
    },
    "id": "cPkinSu7r8DT"
   },
   "outputs": [],
   "source": [
    "train_dataset.drop(['id','source','translation_quality','readability_grade'],axis=1,inplace=True)\n",
    "\n",
    "validation_dataset.drop(['id','source','translation_quality','readability_grade'],axis=1,inplace=True)\n",
    "\n",
    "test_dataset.drop(['id','source','translation_quality','readability_grade'],axis=1,inplace=True)"
   ]
  },
  {
   "cell_type": "code",
   "execution_count": 11,
   "metadata": {
    "executionInfo": {
     "elapsed": 22,
     "status": "ok",
     "timestamp": 1750412310700,
     "user": {
      "displayName": "Shalini Saxena",
      "userId": "02706439085145338721"
     },
     "user_tz": -330
    },
    "id": "pWE7SKyTr-Rt"
   },
   "outputs": [],
   "source": [
    "train_dataset.columns=['en','fr']\n",
    "\n",
    "validation_dataset.columns=['en','fr']\n",
    "\n",
    "test_dataset.columns=['en','fr']"
   ]
  },
  {
   "cell_type": "code",
   "execution_count": 12,
   "metadata": {
    "colab": {
     "base_uri": "https://localhost:8080/"
    },
    "executionInfo": {
     "elapsed": 16917,
     "status": "ok",
     "timestamp": 1750412327597,
     "user": {
      "displayName": "Shalini Saxena",
      "userId": "02706439085145338721"
     },
     "user_tz": -330
    },
    "id": "GF-i7tDusAba",
    "outputId": "17db2b65-95b9-4220-9105-e1c19ada1602"
   },
   "outputs": [
    {
     "name": "stdout",
     "output_type": "stream",
     "text": [
      "Collecting fr-core-news-sm==3.8.0\n",
      "  Downloading https://github.com/explosion/spacy-models/releases/download/fr_core_news_sm-3.8.0/fr_core_news_sm-3.8.0-py3-none-any.whl (16.3 MB)\n",
      "\u001b[2K     \u001b[90m━━━━━━━━━━━━━━━━━━━━━━━━━━━━━━━━━━━━━━━━\u001b[0m \u001b[32m16.3/16.3 MB\u001b[0m \u001b[31m33.9 MB/s\u001b[0m eta \u001b[36m0:00:00\u001b[0m\n",
      "\u001b[?25hInstalling collected packages: fr-core-news-sm\n",
      "Successfully installed fr-core-news-sm-3.8.0\n",
      "\u001b[38;5;2m✔ Download and installation successful\u001b[0m\n",
      "You can now load the package via spacy.load('fr_core_news_sm')\n",
      "\u001b[38;5;3m⚠ Restart to reload dependencies\u001b[0m\n",
      "If you are in a Jupyter or Colab notebook, you may need to restart Python in\n",
      "order to load all the package's dependencies. You can do this by selecting the\n",
      "'Restart kernel' or 'Restart runtime' option.\n"
     ]
    }
   ],
   "source": [
    "!python -m spacy download fr_core_news_sm"
   ]
  },
  {
   "cell_type": "code",
   "execution_count": 13,
   "metadata": {
    "executionInfo": {
     "elapsed": 15697,
     "status": "ok",
     "timestamp": 1750412343299,
     "user": {
      "displayName": "Shalini Saxena",
      "userId": "02706439085145338721"
     },
     "user_tz": -330
    },
    "id": "nPvLOTy_sCak"
   },
   "outputs": [],
   "source": [
    "import spacy\n",
    "\n",
    "# Load SpaCy tokenizers\n",
    "nlp_en = spacy.load(\"en_core_web_sm\")\n",
    "nlp_fr = spacy.load(\"fr_core_news_sm\")"
   ]
  },
  {
   "cell_type": "code",
   "execution_count": 14,
   "metadata": {
    "executionInfo": {
     "elapsed": 8,
     "status": "ok",
     "timestamp": 1750412343318,
     "user": {
      "displayName": "Shalini Saxena",
      "userId": "02706439085145338721"
     },
     "user_tz": -330
    },
    "id": "lCg0YdDWsEem"
   },
   "outputs": [],
   "source": [
    "def tokenize_spacy(text, nlp):\n",
    "    return [token.text for token in nlp(text.strip()) if not token.is_space]"
   ]
  },
  {
   "cell_type": "code",
   "execution_count": 15,
   "metadata": {
    "executionInfo": {
     "elapsed": 4,
     "status": "ok",
     "timestamp": 1750412343333,
     "user": {
      "displayName": "Shalini Saxena",
      "userId": "02706439085145338721"
     },
     "user_tz": -330
    },
    "id": "FXYHuSHOsGyU"
   },
   "outputs": [],
   "source": [
    "from collections import Counter\n",
    "\n",
    "def build_vocab_spacy(sentences, nlp, min_freq=1):\n",
    "    counter = Counter()\n",
    "    for sentence in sentences:\n",
    "        tokens = tokenize_spacy(sentence, nlp)\n",
    "        counter.update(tokens)\n",
    "\n",
    "    vocab = {\"<pad>\": 0, \"<unk>\": 1, \"<sos>\": 2, \"<eos>\": 3}\n",
    "    for word, freq in counter.items():\n",
    "        if freq >= min_freq:\n",
    "            vocab[word] = len(vocab)\n",
    "    return vocab"
   ]
  },
  {
   "cell_type": "code",
   "execution_count": 16,
   "metadata": {
    "executionInfo": {
     "elapsed": 6,
     "status": "ok",
     "timestamp": 1750412343445,
     "user": {
      "displayName": "Shalini Saxena",
      "userId": "02706439085145338721"
     },
     "user_tz": -330
    },
    "id": "4JqYAA0tsI-9"
   },
   "outputs": [],
   "source": [
    "from torch.utils.data import Dataset,DataLoader\n",
    "import torch.nn as nn"
   ]
  },
  {
   "cell_type": "code",
   "execution_count": 17,
   "metadata": {
    "executionInfo": {
     "elapsed": 244913,
     "status": "ok",
     "timestamp": 1750412588367,
     "user": {
      "displayName": "Shalini Saxena",
      "userId": "02706439085145338721"
     },
     "user_tz": -330
    },
    "id": "V1QSaEhesMBV"
   },
   "outputs": [],
   "source": [
    "en_vocab = build_vocab_spacy(train_dataset[\"en\"], nlp_en)\n",
    "fr_vocab = build_vocab_spacy(train_dataset[\"fr\"], nlp_fr)"
   ]
  },
  {
   "cell_type": "code",
   "execution_count": 18,
   "metadata": {
    "executionInfo": {
     "elapsed": 23,
     "status": "ok",
     "timestamp": 1750412588378,
     "user": {
      "displayName": "Shalini Saxena",
      "userId": "02706439085145338721"
     },
     "user_tz": -330
    },
    "id": "q_siZ6EAsOCr"
   },
   "outputs": [],
   "source": [
    "MAX_LEN = 100\n",
    "\n",
    "def encode_spacy(sentence, vocab, nlp, max_len=MAX_LEN):\n",
    "    tokens = [\"<sos>\"] + tokenize_spacy(sentence, nlp) + [\"<eos>\"]\n",
    "    token_ids = [vocab.get(token, vocab[\"<unk>\"]) for token in tokens]\n",
    "    token_ids = token_ids[:max_len]\n",
    "    token_ids += [vocab[\"<pad>\"]] * (max_len - len(token_ids))\n",
    "    return token_ids"
   ]
  },
  {
   "cell_type": "code",
   "execution_count": 19,
   "metadata": {
    "executionInfo": {
     "elapsed": 277723,
     "status": "ok",
     "timestamp": 1750412866085,
     "user": {
      "displayName": "Shalini Saxena",
      "userId": "02706439085145338721"
     },
     "user_tz": -330
    },
    "id": "-l1fb3bXsQT4"
   },
   "outputs": [],
   "source": [
    "# Train Set\n",
    "train_dataset[\"input_ids_en\"] = train_dataset[\"en\"].apply(lambda x: encode_spacy(x, en_vocab, nlp_en))\n",
    "train_dataset[\"input_ids_fr\"] = train_dataset[\"fr\"].apply(lambda x: encode_spacy(x, fr_vocab, nlp_fr))\n",
    "\n",
    "# Validation Set\n",
    "validation_dataset[\"input_ids_en\"] = validation_dataset[\"en\"].apply(lambda x: encode_spacy(x, en_vocab, nlp_en))\n",
    "validation_dataset[\"input_ids_fr\"] = validation_dataset[\"fr\"].apply(lambda x: encode_spacy(x, fr_vocab, nlp_fr))\n",
    "\n",
    "# Test Set\n",
    "test_dataset[\"input_ids_en\"] = test_dataset[\"en\"].apply(lambda x: encode_spacy(x, en_vocab, nlp_en))\n",
    "test_dataset[\"input_ids_fr\"] = test_dataset[\"fr\"].apply(lambda x: encode_spacy(x, fr_vocab, nlp_fr))\n"
   ]
  },
  {
   "cell_type": "code",
   "execution_count": 20,
   "metadata": {
    "executionInfo": {
     "elapsed": 36,
     "status": "ok",
     "timestamp": 1750412866127,
     "user": {
      "displayName": "Shalini Saxena",
      "userId": "02706439085145338721"
     },
     "user_tz": -330
    },
    "id": "CG429g86sSSc"
   },
   "outputs": [],
   "source": [
    "class TranslationDataset(Dataset):\n",
    "    def __init__(self, encoded_en, encoded_fr):\n",
    "        self.en_data = encoded_en\n",
    "        self.fr_data = encoded_fr\n",
    "\n",
    "    def __len__(self):\n",
    "        return len(self.en_data)\n",
    "\n",
    "    def __getitem__(self, idx):\n",
    "        return {\n",
    "            \"input_ids_en\": torch.tensor(self.en_data[idx], dtype=torch.long),\n",
    "            \"input_ids_fr\": torch.tensor(self.fr_data[idx], dtype=torch.long)\n",
    "        }\n"
   ]
  },
  {
   "cell_type": "code",
   "execution_count": 21,
   "metadata": {
    "colab": {
     "base_uri": "https://localhost:8080/"
    },
    "executionInfo": {
     "elapsed": 35,
     "status": "ok",
     "timestamp": 1750412866131,
     "user": {
      "displayName": "Shalini Saxena",
      "userId": "02706439085145338721"
     },
     "user_tz": -330
    },
    "id": "Z37YY2d8sWO3",
    "outputId": "f7dbbff9-5590-4c02-a4cc-eddfd95ef18c"
   },
   "outputs": [
    {
     "name": "stdout",
     "output_type": "stream",
     "text": [
      "cuda\n"
     ]
    }
   ],
   "source": [
    "\"\"\"Okay-system calculations very important-utilizing the GPU\"\"\"\n",
    "import torch\n",
    "\n",
    "device='cuda' if torch.cuda.is_available() else 'cpu'\n",
    "\n",
    "print(device)"
   ]
  },
  {
   "cell_type": "code",
   "execution_count": 22,
   "metadata": {
    "executionInfo": {
     "elapsed": 20,
     "status": "ok",
     "timestamp": 1750412866140,
     "user": {
      "displayName": "Shalini Saxena",
      "userId": "02706439085145338721"
     },
     "user_tz": -330
    },
    "id": "613frw27sZgv"
   },
   "outputs": [],
   "source": [
    "\"\"\"Generating iterators for the dataloader that would load the data in batches whilst training, first lets just create a cutom dataset from the encoded_train\n",
    "(tokenized pre-processed dataset)\"\"\"\n",
    "\n",
    "train_dataset_pt = TranslationDataset(\n",
    "    train_dataset[\"input_ids_en\"].tolist(),\n",
    "    train_dataset[\"input_ids_fr\"].tolist()\n",
    ")\n",
    "\n",
    "train_loader = DataLoader(train_dataset_pt, batch_size=4, shuffle=True,num_workers=2,pin_memory='cuda')\n"
   ]
  },
  {
   "cell_type": "code",
   "execution_count": 23,
   "metadata": {
    "executionInfo": {
     "elapsed": 10,
     "status": "ok",
     "timestamp": 1750412866143,
     "user": {
      "displayName": "Shalini Saxena",
      "userId": "02706439085145338721"
     },
     "user_tz": -330
    },
    "id": "WoYDIdbSsaM0"
   },
   "outputs": [],
   "source": [
    "import torch\n",
    "import torch.nn as nn\n",
    "\n",
    "class Encoder(nn.Module):\n",
    "    def __init__(self, vocab_size, hidden_dim, num_layers=2, embed_dim=768, pad_token_id=0):\n",
    "        super().__init__()\n",
    "\n",
    "        self.embedding = nn.Embedding(\n",
    "            num_embeddings=vocab_size,\n",
    "            embedding_dim=embed_dim,\n",
    "            padding_idx=pad_token_id\n",
    "        )\n",
    "\n",
    "        self.bilstm = nn.LSTM(\n",
    "            input_size=embed_dim,\n",
    "            hidden_size=hidden_dim,\n",
    "            num_layers=num_layers,\n",
    "            bidirectional=True,\n",
    "            batch_first=True\n",
    "        )\n",
    "\n",
    "    def forward(self, input_ids):\n",
    "        embedded = self.embedding(input_ids)  # (batch_size, seq_len, embed_dim)\n",
    "        output, _ = self.bilstm(embedded)     # output: (batch_size, seq_len, hidden_dim*2)\n",
    "        return output  # Return all time-step outputs for attention\n"
   ]
  },
  {
   "cell_type": "code",
   "execution_count": 24,
   "metadata": {
    "executionInfo": {
     "elapsed": 10,
     "status": "ok",
     "timestamp": 1750412866146,
     "user": {
      "displayName": "Shalini Saxena",
      "userId": "02706439085145338721"
     },
     "user_tz": -330
    },
    "id": "Lwta6e5SscMZ"
   },
   "outputs": [],
   "source": [
    "class BridgeLayer(nn.Module):\n",
    "    def __init__(self, encoder_output_dim, decoder_hidden_dim, num_layers=2):\n",
    "        super().__init__()\n",
    "        self.hidden_fc = nn.Linear(encoder_output_dim, decoder_hidden_dim)\n",
    "        self.cell_fc = nn.Linear(encoder_output_dim, decoder_hidden_dim)\n",
    "        self.num_layers = num_layers\n",
    "\n",
    "    def forward(self, encoder_outputs):\n",
    "        # encoder_outputs: (batch, seq_len, hidden_dim * 2)\n",
    "        pooled = encoder_outputs.mean(dim=1)  # mean over time steps → (batch, encoder_output_dim)\n",
    "\n",
    "        h_0_single = self.hidden_fc(pooled).unsqueeze(0)  # (1, batch, hidden_dim)\n",
    "        c_0_single = self.cell_fc(pooled).unsqueeze(0)\n",
    "\n",
    "        h_0 = h_0_single.repeat(self.num_layers, 1, 1)  # (num_layers, batch, hidden_dim)\n",
    "        c_0 = c_0_single.repeat(self.num_layers, 1, 1)\n",
    "        return h_0, c_0\n"
   ]
  },
  {
   "cell_type": "code",
   "execution_count": 25,
   "metadata": {
    "executionInfo": {
     "elapsed": 4,
     "status": "ok",
     "timestamp": 1750412866151,
     "user": {
      "displayName": "Shalini Saxena",
      "userId": "02706439085145338721"
     },
     "user_tz": -330
    },
    "id": "jZKkWjh-seJ7"
   },
   "outputs": [],
   "source": [
    "class LuongAttentionDecoder(nn.Module):\n",
    "    def __init__(self, hidden_dim, output_dim, pad_token_id, bos_token_id, eos_token_id,\n",
    "                 num_layers=2, max_len=90, embed_dim=768, device='cuda'):\n",
    "        super().__init__()\n",
    "\n",
    "        self.device = device\n",
    "        self.vocab_size = output_dim\n",
    "        self.hidden_dim = hidden_dim\n",
    "        self.embed_dim = embed_dim\n",
    "        self.max_len = max_len\n",
    "        self.num_layers = num_layers\n",
    "\n",
    "        self.embedding = nn.Embedding(self.vocab_size, self.embed_dim, padding_idx=pad_token_id)\n",
    "\n",
    "        self.lstm = nn.LSTM(\n",
    "            input_size=self.embed_dim,\n",
    "            hidden_size=hidden_dim,\n",
    "            num_layers=num_layers,\n",
    "            batch_first=True\n",
    "        )\n",
    "\n",
    "        self.attn = nn.Linear(hidden_dim, hidden_dim * 2)\n",
    "        self.context_combine = nn.Linear(hidden_dim + hidden_dim * 2, hidden_dim)\n",
    "        self.fc_out = nn.Linear(hidden_dim, output_dim)\n",
    "\n",
    "        self.pad_token_id = pad_token_id\n",
    "        self.bos_token_id = bos_token_id\n",
    "        self.eos_token_id = eos_token_id\n",
    "\n",
    "    def _compute_attention(self, decoder_hidden, encoder_outputs):\n",
    "        # decoder_hidden: (batch, hidden_dim)\n",
    "        # encoder_outputs: (batch, src_len, hidden_dim*2)\n",
    "        attn_scores = torch.bmm(encoder_outputs, self.attn(decoder_hidden).unsqueeze(2)).squeeze(2)\n",
    "        attn_weights = torch.softmax(attn_scores, dim=1)  # (batch, src_len)\n",
    "        context = torch.bmm(attn_weights.unsqueeze(1), encoder_outputs).squeeze(1)  # (batch, hidden_dim*2)\n",
    "        return context\n",
    "\n",
    "    def forward(self, input_ids_decoder, encoder_outputs, h_0, c_0):\n",
    "        embeddings = self.embedding(input_ids_decoder)  # (batch, tgt_len, embed_dim)\n",
    "        outputs = []\n",
    "        hidden, cell = h_0, c_0\n",
    "\n",
    "        for t in range(embeddings.size(1)):\n",
    "            emb_t = embeddings[:, t:t+1, :]  # (batch, 1, embed_dim)\n",
    "            lstm_out, (hidden, cell) = self.lstm(emb_t, (hidden, cell))\n",
    "            dec_hidden = lstm_out[:, -1, :]  # (batch, hidden_dim)\n",
    "\n",
    "            context = self._compute_attention(dec_hidden, encoder_outputs)  # (batch, hidden_dim*2)\n",
    "\n",
    "            combined = torch.cat((dec_hidden, context), dim=1)  # (batch, hidden_dim + hidden_dim*2)\n",
    "            out = torch.tanh(self.context_combine(combined))    # (batch, hidden_dim)\n",
    "            logits = self.fc_out(out)  # (batch, vocab_size)\n",
    "\n",
    "            outputs.append(logits.unsqueeze(1))\n",
    "\n",
    "        return torch.cat(outputs, dim=1)  # (batch, tgt_len, vocab)\n",
    "\n",
    "    def generate(self, encoder_outputs, h_0, c_0):\n",
    "        batch_size = encoder_outputs.size(0)\n",
    "        generated_ids = torch.full((batch_size, 1), self.bos_token_id, dtype=torch.long).to(self.device)\n",
    "        hidden, cell = h_0, c_0\n",
    "\n",
    "        for _ in range(self.max_len):\n",
    "            emb = self.embedding(generated_ids[:, -1:])  # (batch, 1, embed_dim)\n",
    "            lstm_out, (hidden, cell) = self.lstm(emb, (hidden, cell))\n",
    "            dec_hidden = lstm_out[:, -1, :]  # (batch, hidden_dim)\n",
    "\n",
    "            context = self._compute_attention(dec_hidden, encoder_outputs)\n",
    "            combined = torch.cat((dec_hidden, context), dim=1)\n",
    "            out = torch.tanh(self.context_combine(combined))\n",
    "            logits = self.fc_out(out)\n",
    "\n",
    "            next_token_id = torch.argmax(logits, dim=-1).unsqueeze(1)\n",
    "            generated_ids = torch.cat((generated_ids, next_token_id), dim=1)\n",
    "\n",
    "            if (next_token_id == self.eos_token_id).all():\n",
    "                break\n",
    "\n",
    "        return generated_ids[:, 1:]  # Remove <bos>\n"
   ]
  },
  {
   "cell_type": "code",
   "execution_count": 26,
   "metadata": {
    "colab": {
     "base_uri": "https://localhost:8080/"
    },
    "executionInfo": {
     "elapsed": 2063,
     "status": "ok",
     "timestamp": 1750412868216,
     "user": {
      "displayName": "Shalini Saxena",
      "userId": "02706439085145338721"
     },
     "user_tz": -330
    },
    "id": "y1fSNmUtsgba",
    "outputId": "ba9a95a2-52d5-43d5-eb6d-566ba74f0620"
   },
   "outputs": [
    {
     "name": "stderr",
     "output_type": "stream",
     "text": [
      "[nltk_data] Downloading package punkt to /root/nltk_data...\n",
      "[nltk_data]   Unzipping tokenizers/punkt.zip.\n"
     ]
    }
   ],
   "source": [
    "import nltk\n",
    "nltk.download('punkt')\n",
    "\n",
    "from nltk.translate.bleu_score import sentence_bleu, corpus_bleu\n",
    "from nltk.tokenize import word_tokenize"
   ]
  },
  {
   "cell_type": "code",
   "execution_count": null,
   "metadata": {
    "colab": {
     "base_uri": "https://localhost:8080/"
    },
    "executionInfo": {
     "elapsed": 9872793,
     "status": "ok",
     "timestamp": 1750426338872,
     "user": {
      "displayName": "Shalini Saxena",
      "userId": "02706439085145338721"
     },
     "user_tz": -330
    },
    "id": "wz-lN4v7sipI",
    "outputId": "561bc00b-5dea-41b3-d18e-27872c1c41a3"
   },
   "outputs": [
    {
     "name": "stderr",
     "output_type": "stream",
     "text": [
      "100%|██████████| 3500/3500 [22:29<00:00,  2.59it/s]\n"
     ]
    },
    {
     "name": "stdout",
     "output_type": "stream",
     "text": [
      "Epoch 1 - Avg Loss: 6.2328\n"
     ]
    },
    {
     "name": "stderr",
     "output_type": "stream",
     "text": [
      "100%|██████████| 3500/3500 [22:26<00:00,  2.60it/s]\n"
     ]
    },
    {
     "name": "stdout",
     "output_type": "stream",
     "text": [
      "Epoch 2 - Avg Loss: 5.1377\n"
     ]
    },
    {
     "name": "stderr",
     "output_type": "stream",
     "text": [
      "100%|██████████| 3500/3500 [22:29<00:00,  2.59it/s]\n"
     ]
    },
    {
     "name": "stdout",
     "output_type": "stream",
     "text": [
      "Epoch 3 - Avg Loss: 4.6383\n"
     ]
    },
    {
     "name": "stderr",
     "output_type": "stream",
     "text": [
      "100%|██████████| 3500/3500 [22:27<00:00,  2.60it/s]\n"
     ]
    },
    {
     "name": "stdout",
     "output_type": "stream",
     "text": [
      "Epoch 4 - Avg Loss: 4.1622\n"
     ]
    },
    {
     "name": "stderr",
     "output_type": "stream",
     "text": [
      "100%|██████████| 3500/3500 [22:26<00:00,  2.60it/s]\n"
     ]
    },
    {
     "name": "stdout",
     "output_type": "stream",
     "text": [
      "Epoch 5 - Avg Loss: 3.6710\n"
     ]
    },
    {
     "name": "stderr",
     "output_type": "stream",
     "text": [
      "100%|██████████| 3500/3500 [22:23<00:00,  2.60it/s]\n"
     ]
    },
    {
     "name": "stdout",
     "output_type": "stream",
     "text": [
      "Epoch 6 - Avg Loss: 3.1678\n"
     ]
    },
    {
     "name": "stderr",
     "output_type": "stream",
     "text": [
      "100%|██████████| 3500/3500 [22:23<00:00,  2.61it/s]\n"
     ]
    },
    {
     "name": "stdout",
     "output_type": "stream",
     "text": [
      "Epoch 7 - Avg Loss: 2.6725\n"
     ]
    },
    {
     "name": "stderr",
     "output_type": "stream",
     "text": [
      "100%|██████████| 3500/3500 [22:24<00:00,  2.60it/s]\n"
     ]
    },
    {
     "name": "stdout",
     "output_type": "stream",
     "text": [
      "Epoch 8 - Avg Loss: 2.1936\n"
     ]
    },
    {
     "name": "stderr",
     "output_type": "stream",
     "text": [
      "100%|██████████| 3500/3500 [22:26<00:00,  2.60it/s]\n"
     ]
    },
    {
     "name": "stdout",
     "output_type": "stream",
     "text": [
      "Epoch 9 - Avg Loss: 1.7520\n"
     ]
    },
    {
     "name": "stderr",
     "output_type": "stream",
     "text": [
      "100%|██████████| 3500/3500 [22:26<00:00,  2.60it/s]"
     ]
    },
    {
     "name": "stdout",
     "output_type": "stream",
     "text": [
      "Epoch 10 - Avg Loss: 1.3517\n"
     ]
    },
    {
     "name": "stderr",
     "output_type": "stream",
     "text": [
      "\n"
     ]
    }
   ],
   "source": [
    "device = torch.device(\"cuda\" if torch.cuda.is_available() else \"cpu\")\n",
    "from tqdm import tqdm\n",
    "\n",
    "# Models\n",
    "encoder_model = Encoder(\n",
    "    vocab_size=len(en_vocab),\n",
    "    hidden_dim=512,\n",
    "    num_layers=2,\n",
    "    embed_dim=768,\n",
    "    pad_token_id=en_vocab[\"<pad>\"]\n",
    ").to(device)\n",
    "\n",
    "bridge_layer = BridgeLayer(\n",
    "    encoder_output_dim=1024,\n",
    "    decoder_hidden_dim=512,\n",
    "    num_layers=2\n",
    ").to(device)\n",
    "\n",
    "decoder_model = LuongAttentionDecoder(\n",
    "    hidden_dim=512,\n",
    "    output_dim=len(fr_vocab),\n",
    "    pad_token_id=fr_vocab[\"<pad>\"],\n",
    "    bos_token_id=fr_vocab[\"<sos>\"],\n",
    "    eos_token_id=fr_vocab[\"<eos>\"],\n",
    "    embed_dim=768,\n",
    "    num_layers=2,\n",
    "    max_len=90,\n",
    "    device=device\n",
    ").to(device)\n",
    "\n",
    "# Optimizer & Loss\n",
    "params = list(encoder_model.parameters()) + \\\n",
    "         list(bridge_layer.parameters()) + \\\n",
    "         list(decoder_model.parameters())\n",
    "\n",
    "optimizer = torch.optim.Adam(params, lr=0.0003)\n",
    "criterion = nn.CrossEntropyLoss(ignore_index=fr_vocab[\"<pad>\"])\n",
    "\n",
    "# Training\n",
    "epochs = 12\n",
    "losses = []\n",
    "\n",
    "for epoch in range(epochs):\n",
    "    encoder_model.train()\n",
    "    bridge_layer.train()\n",
    "    decoder_model.train()\n",
    "\n",
    "    total_loss = 0\n",
    "    for batch in tqdm(train_loader):\n",
    "        input_ids_en = batch[\"input_ids_en\"].to(device)\n",
    "        input_ids_fr = batch[\"input_ids_fr\"].to(device)\n",
    "\n",
    "        optimizer.zero_grad()\n",
    "\n",
    "        # Encode input\n",
    "        encoder_outputs = encoder_model(input_ids_en)   # (batch, src_len, 1024)\n",
    "\n",
    "        #Bridge to decoder initial states\n",
    "        h_0, c_0 = bridge_layer(encoder_outputs)        # (num_layers, batch, 512)\n",
    "\n",
    "        #Decode with attention\n",
    "        decoder_out = decoder_model(input_ids_fr, encoder_outputs, h_0, c_0)  # (batch, tgt_len, vocab)\n",
    "\n",
    "        # Shift targets\n",
    "        target_ids = input_ids_fr[:, 1:]            # remove <sos>\n",
    "        predicted_logits = decoder_out[:, :-1, :]   # shift predictions to align\n",
    "\n",
    "        loss = criterion(\n",
    "            predicted_logits.reshape(-1, predicted_logits.size(-1)),\n",
    "            target_ids.reshape(-1)\n",
    "        )\n",
    "\n",
    "        loss.backward()\n",
    "        optimizer.step()\n",
    "        total_loss += loss.item()\n",
    "\n",
    "    avg_loss = total_loss / len(train_loader)\n",
    "    losses.append(avg_loss)\n",
    "    print(f\"Epoch {epoch+1} - Avg Loss: {avg_loss:.4f}\")"
   ]
  },
  {
   "cell_type": "code",
   "execution_count": 29,
   "metadata": {
    "colab": {
     "base_uri": "https://localhost:8080/",
     "height": 430
    },
    "executionInfo": {
     "elapsed": 9,
     "status": "ok",
     "timestamp": 1750426429144,
     "user": {
      "displayName": "Shalini Saxena",
      "userId": "02706439085145338721"
     },
     "user_tz": -330
    },
    "id": "mFKDHxxkslEE",
    "outputId": "43ef6457-a301-4e25-e654-a678b861642a"
   },
   "outputs": [
    {
     "data": {
      "image/png": "[encoded data removed]",
      "text/plain": [
       "<Figure size 640x480 with 1 Axes>"
      ]
     },
     "metadata": {},
     "output_type": "display_data"
    }
   ],
   "source": [
    "import matplotlib.pyplot as plt\n",
    "plt.plot(range(10),losses)\n",
    "plt.show()"
   ]
  },
  {
   "cell_type": "code",
   "execution_count": 34,
   "metadata": {
    "executionInfo": {
     "elapsed": 4,
     "status": "ok",
     "timestamp": 1750426460604,
     "user": {
      "displayName": "Shalini Saxena",
      "userId": "02706439085145338721"
     },
     "user_tz": -330
    },
    "id": "4jpm8sz8snP4"
   },
   "outputs": [],
   "source": [
    "val_dataset_pt = TranslationDataset(\n",
    "    validation_dataset[\"input_ids_en\"].tolist(),\n",
    "    validation_dataset[\"input_ids_fr\"].tolist()\n",
    ")\n",
    "\n",
    "test_dataset_pt = TranslationDataset(\n",
    "    test_dataset[\"input_ids_en\"].tolist(),\n",
    "    test_dataset[\"input_ids_fr\"].tolist()\n",
    ")"
   ]
  },
  {
   "cell_type": "code",
   "execution_count": 35,
   "metadata": {
    "executionInfo": {
     "elapsed": 4,
     "status": "ok",
     "timestamp": 1750426462041,
     "user": {
      "displayName": "Shalini Saxena",
      "userId": "02706439085145338721"
     },
     "user_tz": -330
    },
    "id": "HDrRdVNbsqtY"
   },
   "outputs": [],
   "source": [
    "val_loader = DataLoader(val_dataset_pt, batch_size=2, shuffle=False)\n",
    "test_loader = DataLoader(test_dataset_pt, batch_size=2, shuffle=False)"
   ]
  },
  {
   "cell_type": "code",
   "execution_count": null,
   "metadata": {
    "executionInfo": {
     "elapsed": 11,
     "status": "ok",
     "timestamp": 1750426447540,
     "user": {
      "displayName": "Shalini Saxena",
      "userId": "02706439085145338721"
     },
     "user_tz": -330
    },
    "id": "nQZNatClsrfg"
   },
   "outputs": [],
   "source": [
    "from nltk.translate.bleu_score import corpus_bleu, SmoothingFunction\n",
    "from tqdm import tqdm\n",
    "\n",
    "def decode_sentence(token_ids, vocab):\n",
    "    inv_vocab = {v: k for k, v in vocab.items()}\n",
    "    tokens = []\n",
    "    for token_id in token_ids:\n",
    "        token = inv_vocab.get(token_id.item(), \"<unk>\")\n",
    "        if token in [\"<pad>\", \"<sos>\"]:\n",
    "            continue\n",
    "        if token == \"<eos>\":\n",
    "            break\n",
    "        tokens.append(token)\n",
    "    return tokens\n",
    "\n",
    "def evaluate_bleu(encoder_model, bridge_layer, decoder_model, dataloader, en_vocab, fr_vocab, device):\n",
    "    encoder_model.eval()\n",
    "    bridge_layer.eval()\n",
    "    decoder_model.eval()\n",
    "\n",
    "    references = []\n",
    "    hypotheses = []\n",
    "\n",
    "    smoothie = SmoothingFunction().method4  # BLEU smoothing\n",
    "\n",
    "    with torch.no_grad():\n",
    "        for batch in tqdm(dataloader):\n",
    "            input_ids_en = batch[\"input_ids_en\"].to(device)\n",
    "            input_ids_fr = batch[\"input_ids_fr\"].to(device)\n",
    "\n",
    "            #Encoder returns all hidden states (for attention)\n",
    "            encoder_outputs = encoder_model(input_ids_en)  # (batch, src_len, hidden*2)\n",
    "\n",
    "            # Bridge layer initializes decoder hidden/cell states\n",
    "            h_0, c_0 = bridge_layer(encoder_outputs)  # (num_layers, batch, hidden)\n",
    "\n",
    "            # Decoder now needs encoder_outputs for attention\n",
    "            generated_ids = decoder_model.generate(encoder_outputs, h_0, c_0)\n",
    "\n",
    "            for gen, tgt in zip(generated_ids, input_ids_fr):\n",
    "                pred_tokens = decode_sentence(gen, fr_vocab)\n",
    "                tgt_tokens = decode_sentence(tgt, fr_vocab)\n",
    "\n",
    "                hypotheses.append(pred_tokens)\n",
    "                references.append([tgt_tokens])\n",
    "\n",
    "    bleu_score = corpus_bleu(references, hypotheses, smoothing_function=smoothie)\n",
    "    return bleu_score\n"
   ]
  },
  {
   "cell_type": "code",
   "execution_count": 36,
   "metadata": {
    "colab": {
     "base_uri": "https://localhost:8080/"
    },
    "executionInfo": {
     "elapsed": 149717,
     "status": "ok",
     "timestamp": 1750426616357,
     "user": {
      "displayName": "Shalini Saxena",
      "userId": "02706439085145338721"
     },
     "user_tz": -330
    },
    "id": "xpRpEAFestjN",
    "outputId": "787d4c9f-c913-4a17-b4c6-519d7339eff9"
   },
   "outputs": [
    {
     "name": "stderr",
     "output_type": "stream",
     "text": [
      "100%|██████████| 1000/1000 [01:15<00:00, 13.30it/s]\n"
     ]
    },
    {
     "name": "stdout",
     "output_type": "stream",
     "text": [
      "Validation BLEU Score: 0.0209\n"
     ]
    },
    {
     "name": "stderr",
     "output_type": "stream",
     "text": [
      "100%|██████████| 1000/1000 [01:13<00:00, 13.53it/s]\n"
     ]
    },
    {
     "name": "stdout",
     "output_type": "stream",
     "text": [
      "Test BLEU Score: 0.0201\n"
     ]
    }
   ],
   "source": [
    "val_bleu = evaluate_bleu(\n",
    "    encoder_model,\n",
    "    bridge_layer,\n",
    "    decoder_model,\n",
    "    val_loader,\n",
    "    en_vocab,\n",
    "    fr_vocab,\n",
    "    device\n",
    ")\n",
    "print(f\"Validation BLEU Score: {val_bleu:.4f}\")\n",
    "\n",
    "test_bleu = evaluate_bleu(\n",
    "    encoder_model,\n",
    "    bridge_layer,\n",
    "    decoder_model,\n",
    "    test_loader,\n",
    "    en_vocab,\n",
    "    fr_vocab,\n",
    "    device\n",
    ")\n",
    "print(f\"Test BLEU Score: {test_bleu:.4f}\")\n"
   ]
  }
 ],
 "metadata": {
  "accelerator": "GPU",
  "colab": {
   "authorship_tag": "ABX9TyO/QLbFwN6StZksPRswaF5r",
   "gpuType": "T4",
   "provenance": []
  },
  "kernelspec": {
   "display_name": "Python 3",
   "name": "python3"
  },
  "language_info": {
   "name": "python"
  },
  "widgets": {
   "application/vnd.jupyter.widget-state+json": {
    "0193f492d9424de38d1c654d9e18a4a7": {
     "model_module": "@jupyter-widgets/controls",
     "model_module_version": "1.5.0",
     "model_name": "FloatProgressModel",
     "state": {
      "_dom_classes": [],
      "_model_module": "@jupyter-widgets/controls",
      "_model_module_version": "1.5.0",
      "_model_name": "FloatProgressModel",
      "_view_count": null,
      "_view_module": "@jupyter-widgets/controls",
      "_view_module_version": "1.5.0",
      "_view_name": "ProgressView",
      "bar_style": "success",
      "description": "",
      "description_tooltip": null,
      "layout": "IPY_MODEL_d59f1429eb774408b67445819b6418b0",
      "max": 1686856,
      "min": 0,
      "orientation": "horizontal",
      "style": "IPY_MODEL_0294fd1de435421e972ab82d62d325d0",
      "value": 1686856
     }
    },
    "0294fd1de435421e972ab82d62d325d0": {
     "model_module": "@jupyter-widgets/controls",
     "model_module_version": "1.5.0",
     "model_name": "ProgressStyleModel",
     "state": {
      "_model_module": "@jupyter-widgets/controls",
      "_model_module_version": "1.5.0",
      "_model_name": "ProgressStyleModel",
      "_view_count": null,
      "_view_module": "@jupyter-widgets/base",
      "_view_module_version": "1.2.0",
      "_view_name": "StyleView",
      "bar_color": null,
      "description_width": ""
     }
    },
    "12adab1ac9a84c5290a6e5ce38ef543b": {
     "model_module": "@jupyter-widgets/controls",
     "model_module_version": "1.5.0",
     "model_name": "DescriptionStyleModel",
     "state": {
      "_model_module": "@jupyter-widgets/controls",
      "_model_module_version": "1.5.0",
      "_model_name": "DescriptionStyleModel",
      "_view_count": null,
      "_view_module": "@jupyter-widgets/base",
      "_view_module_version": "1.2.0",
      "_view_name": "StyleView",
      "description_width": ""
     }
    },
    "16b81b4f1a5a4027aa057f8724ba32f2": {
     "model_module": "@jupyter-widgets/base",
     "model_module_version": "1.2.0",
     "model_name": "LayoutModel",
     "state": {
      "_model_module": "@jupyter-widgets/base",
      "_model_module_version": "1.2.0",
      "_model_name": "LayoutModel",
      "_view_count": null,
      "_view_module": "@jupyter-widgets/base",
      "_view_module_version": "1.2.0",
      "_view_name": "LayoutView",
      "align_content": null,
      "align_items": null,
      "align_self": null,
      "border": null,
      "bottom": null,
      "display": null,
      "flex": null,
      "flex_flow": null,
      "grid_area": null,
      "grid_auto_columns": null,
      "grid_auto_flow": null,
      "grid_auto_rows": null,
      "grid_column": null,
      "grid_gap": null,
      "grid_row": null,
      "grid_template_areas": null,
      "grid_template_columns": null,
      "grid_template_rows": null,
      "height": null,
      "justify_content": null,
      "justify_items": null,
      "left": null,
      "margin": null,
      "max_height": null,
      "max_width": null,
      "min_height": null,
      "min_width": null,
      "object_fit": null,
      "object_position": null,
      "order": null,
      "overflow": null,
      "overflow_x": null,
      "overflow_y": null,
      "padding": null,
      "right": null,
      "top": null,
      "visibility": null,
      "width": null
     }
    },
    "1a3dd87e168b4405b8c80706e1ff5de5": {
     "model_module": "@jupyter-widgets/base",
     "model_module_version": "1.2.0",
     "model_name": "LayoutModel",
     "state": {
      "_model_module": "@jupyter-widgets/base",
      "_model_module_version": "1.2.0",
      "_model_name": "LayoutModel",
      "_view_count": null,
      "_view_module": "@jupyter-widgets/base",
      "_view_module_version": "1.2.0",
      "_view_name": "LayoutView",
      "align_content": null,
      "align_items": null,
      "align_self": null,
      "border": null,
      "bottom": null,
      "display": null,
      "flex": null,
      "flex_flow": null,
      "grid_area": null,
      "grid_auto_columns": null,
      "grid_auto_flow": null,
      "grid_auto_rows": null,
      "grid_column": null,
      "grid_gap": null,
      "grid_row": null,
      "grid_template_areas": null,
      "grid_template_columns": null,
      "grid_template_rows": null,
      "height": null,
      "justify_content": null,
      "justify_items": null,
      "left": null,
      "margin": null,
      "max_height": null,
      "max_width": null,
      "min_height": null,
      "min_width": null,
      "object_fit": null,
      "object_position": null,
      "order": null,
      "overflow": null,
      "overflow_x": null,
      "overflow_y": null,
      "padding": null,
      "right": null,
      "top": null,
      "visibility": null,
      "width": null
     }
    },
    "1abcd9f123ff4d8e8a34a5ddcdf1136d": {
     "model_module": "@jupyter-widgets/base",
     "model_module_version": "1.2.0",
     "model_name": "LayoutModel",
     "state": {
      "_model_module": "@jupyter-widgets/base",
      "_model_module_version": "1.2.0",
      "_model_name": "LayoutModel",
      "_view_count": null,
      "_view_module": "@jupyter-widgets/base",
      "_view_module_version": "1.2.0",
      "_view_name": "LayoutView",
      "align_content": null,
      "align_items": null,
      "align_self": null,
      "border": null,
      "bottom": null,
      "display": null,
      "flex": null,
      "flex_flow": null,
      "grid_area": null,
      "grid_auto_columns": null,
      "grid_auto_flow": null,
      "grid_auto_rows": null,
      "grid_column": null,
      "grid_gap": null,
      "grid_row": null,
      "grid_template_areas": null,
      "grid_template_columns": null,
      "grid_template_rows": null,
      "height": null,
      "justify_content": null,
      "justify_items": null,
      "left": null,
      "margin": null,
      "max_height": null,
      "max_width": null,
      "min_height": null,
      "min_width": null,
      "object_fit": null,
      "object_position": null,
      "order": null,
      "overflow": null,
      "overflow_x": null,
      "overflow_y": null,
      "padding": null,
      "right": null,
      "top": null,
      "visibility": null,
      "width": null
     }
    },
    "1beb173028254cebb867bbac1c293550": {
     "model_module": "@jupyter-widgets/controls",
     "model_module_version": "1.5.0",
     "model_name": "DescriptionStyleModel",
     "state": {
      "_model_module": "@jupyter-widgets/controls",
      "_model_module_version": "1.5.0",
      "_model_name": "DescriptionStyleModel",
      "_view_count": null,
      "_view_module": "@jupyter-widgets/base",
      "_view_module_version": "1.2.0",
      "_view_name": "StyleView",
      "description_width": ""
     }
    },
    "230ccf212cfb4f11b90e00958206d098": {
     "model_module": "@jupyter-widgets/base",
     "model_module_version": "1.2.0",
     "model_name": "LayoutModel",
     "state": {
      "_model_module": "@jupyter-widgets/base",
      "_model_module_version": "1.2.0",
      "_model_name": "LayoutModel",
      "_view_count": null,
      "_view_module": "@jupyter-widgets/base",
      "_view_module_version": "1.2.0",
      "_view_name": "LayoutView",
      "align_content": null,
      "align_items": null,
      "align_self": null,
      "border": null,
      "bottom": null,
      "display": null,
      "flex": null,
      "flex_flow": null,
      "grid_area": null,
      "grid_auto_columns": null,
      "grid_auto_flow": null,
      "grid_auto_rows": null,
      "grid_column": null,
      "grid_gap": null,
      "grid_row": null,
      "grid_template_areas": null,
      "grid_template_columns": null,
      "grid_template_rows": null,
      "height": null,
      "justify_content": null,
      "justify_items": null,
      "left": null,
      "margin": null,
      "max_height": null,
      "max_width": null,
      "min_height": null,
      "min_width": null,
      "object_fit": null,
      "object_position": null,
      "order": null,
      "overflow": null,
      "overflow_x": null,
      "overflow_y": null,
      "padding": null,
      "right": null,
      "top": null,
      "visibility": null,
      "width": null
     }
    },
    "2465c7d58ac949cdbcb9e281e3f53339": {
     "model_module": "@jupyter-widgets/controls",
     "model_module_version": "1.5.0",
     "model_name": "DescriptionStyleModel",
     "state": {
      "_model_module": "@jupyter-widgets/controls",
      "_model_module_version": "1.5.0",
      "_model_name": "DescriptionStyleModel",
      "_view_count": null,
      "_view_module": "@jupyter-widgets/base",
      "_view_module_version": "1.2.0",
      "_view_name": "StyleView",
      "description_width": ""
     }
    },
    "30d44ed94e3746cba56da096f15421a3": {
     "model_module": "@jupyter-widgets/controls",
     "model_module_version": "1.5.0",
     "model_name": "HTMLModel",
     "state": {
      "_dom_classes": [],
      "_model_module": "@jupyter-widgets/controls",
      "_model_module_version": "1.5.0",
      "_model_name": "HTMLModel",
      "_view_count": null,
      "_view_module": "@jupyter-widgets/controls",
      "_view_module_version": "1.5.0",
      "_view_name": "HTMLView",
      "description": "",
      "description_tooltip": null,
      "layout": "IPY_MODEL_bb358a41b86b4a09b91a693d81a855ad",
      "placeholder": "​",
      "style": "IPY_MODEL_ac902d7cef7d46a2ab61ddcf74e356cb",
      "value": "train.jsonl.zst: 100%"
     }
    },
    "3ef35dbc48e8470e9594d507ab5d44e9": {
     "model_module": "@jupyter-widgets/controls",
     "model_module_version": "1.5.0",
     "model_name": "HTMLModel",
     "state": {
      "_dom_classes": [],
      "_model_module": "@jupyter-widgets/controls",
      "_model_module_version": "1.5.0",
      "_model_name": "HTMLModel",
      "_view_count": null,
      "_view_module": "@jupyter-widgets/controls",
      "_view_module_version": "1.5.0",
      "_view_name": "HTMLView",
      "description": "",
      "description_tooltip": null,
      "layout": "IPY_MODEL_c3faf865925c4a29ac6db8f6e900712d",
      "placeholder": "​",
      "style": "IPY_MODEL_9b12676f5c784e4483467233518e5f5a",
      "value": " 1686856/1686856 [00:06&lt;00:00, 257364.42 examples/s]"
     }
    },
    "4296815abd25460c806d05e922597d0e": {
     "model_module": "@jupyter-widgets/controls",
     "model_module_version": "1.5.0",
     "model_name": "HTMLModel",
     "state": {
      "_dom_classes": [],
      "_model_module": "@jupyter-widgets/controls",
      "_model_module_version": "1.5.0",
      "_model_name": "HTMLModel",
      "_view_count": null,
      "_view_module": "@jupyter-widgets/controls",
      "_view_module_version": "1.5.0",
      "_view_name": "HTMLView",
      "description": "",
      "description_tooltip": null,
      "layout": "IPY_MODEL_6960ffaea2094ddbadfa83338a578b5e",
      "placeholder": "​",
      "style": "IPY_MODEL_d682b21cb5a14418a2193c6b5307e471",
      "value": " 37.3M/37.3M [00:01&lt;00:00, 24.7MB/s]"
     }
    },
    "492fe6e1867e496fab0e0830fb53c8b1": {
     "model_module": "@jupyter-widgets/controls",
     "model_module_version": "1.5.0",
     "model_name": "HBoxModel",
     "state": {
      "_dom_classes": [],
      "_model_module": "@jupyter-widgets/controls",
      "_model_module_version": "1.5.0",
      "_model_name": "HBoxModel",
      "_view_count": null,
      "_view_module": "@jupyter-widgets/controls",
      "_view_module_version": "1.5.0",
      "_view_name": "HBoxView",
      "box_style": "",
      "children": [
       "IPY_MODEL_fa431e99f187489f89b6728bf90bc2ee",
       "IPY_MODEL_bb0fe5c98ca0471eba338244e61e56ef",
       "IPY_MODEL_ebdec24a0ea84c5c976c94300b78edc4"
      ],
      "layout": "IPY_MODEL_fcd29d78045044c68ad05e2559067883"
     }
    },
    "4a868d2f561c4542b76f1f85ee1e2f6e": {
     "model_module": "@jupyter-widgets/controls",
     "model_module_version": "1.5.0",
     "model_name": "HTMLModel",
     "state": {
      "_dom_classes": [],
      "_model_module": "@jupyter-widgets/controls",
      "_model_module_version": "1.5.0",
      "_model_name": "HTMLModel",
      "_view_count": null,
      "_view_module": "@jupyter-widgets/controls",
      "_view_module_version": "1.5.0",
      "_view_name": "HTMLView",
      "description": "",
      "description_tooltip": null,
      "layout": "IPY_MODEL_dafac5501be54215a218ae83de06dd43",
      "placeholder": "​",
      "style": "IPY_MODEL_c4406e0ff0b0490486de4c6be636b00a",
      "value": "README.md: 100%"
     }
    },
    "4c7b1a6157e24e14b86ee72dd3e3e9f9": {
     "model_module": "@jupyter-widgets/controls",
     "model_module_version": "1.5.0",
     "model_name": "HBoxModel",
     "state": {
      "_dom_classes": [],
      "_model_module": "@jupyter-widgets/controls",
      "_model_module_version": "1.5.0",
      "_model_name": "HBoxModel",
      "_view_count": null,
      "_view_module": "@jupyter-widgets/controls",
      "_view_module_version": "1.5.0",
      "_view_name": "HBoxView",
      "box_style": "",
      "children": [
       "IPY_MODEL_4a868d2f561c4542b76f1f85ee1e2f6e",
       "IPY_MODEL_c81d74750865400dae65ce7a02abd4fe",
       "IPY_MODEL_e570c247ed3d4f83ac0d9b5813780f5d"
      ],
      "layout": "IPY_MODEL_230ccf212cfb4f11b90e00958206d098"
     }
    },
    "5b9f4258c3384e4983d2358d3889a6b6": {
     "model_module": "@jupyter-widgets/base",
     "model_module_version": "1.2.0",
     "model_name": "LayoutModel",
     "state": {
      "_model_module": "@jupyter-widgets/base",
      "_model_module_version": "1.2.0",
      "_model_name": "LayoutModel",
      "_view_count": null,
      "_view_module": "@jupyter-widgets/base",
      "_view_module_version": "1.2.0",
      "_view_name": "LayoutView",
      "align_content": null,
      "align_items": null,
      "align_self": null,
      "border": null,
      "bottom": null,
      "display": null,
      "flex": null,
      "flex_flow": null,
      "grid_area": null,
      "grid_auto_columns": null,
      "grid_auto_flow": null,
      "grid_auto_rows": null,
      "grid_column": null,
      "grid_gap": null,
      "grid_row": null,
      "grid_template_areas": null,
      "grid_template_columns": null,
      "grid_template_rows": null,
      "height": null,
      "justify_content": null,
      "justify_items": null,
      "left": null,
      "margin": null,
      "max_height": null,
      "max_width": null,
      "min_height": null,
      "min_width": null,
      "object_fit": null,
      "object_position": null,
      "order": null,
      "overflow": null,
      "overflow_x": null,
      "overflow_y": null,
      "padding": null,
      "right": null,
      "top": null,
      "visibility": null,
      "width": null
     }
    },
    "5ecad5445d344636ab2674528e36de6a": {
     "model_module": "@jupyter-widgets/base",
     "model_module_version": "1.2.0",
     "model_name": "LayoutModel",
     "state": {
      "_model_module": "@jupyter-widgets/base",
      "_model_module_version": "1.2.0",
      "_model_name": "LayoutModel",
      "_view_count": null,
      "_view_module": "@jupyter-widgets/base",
      "_view_module_version": "1.2.0",
      "_view_name": "LayoutView",
      "align_content": null,
      "align_items": null,
      "align_self": null,
      "border": null,
      "bottom": null,
      "display": null,
      "flex": null,
      "flex_flow": null,
      "grid_area": null,
      "grid_auto_columns": null,
      "grid_auto_flow": null,
      "grid_auto_rows": null,
      "grid_column": null,
      "grid_gap": null,
      "grid_row": null,
      "grid_template_areas": null,
      "grid_template_columns": null,
      "grid_template_rows": null,
      "height": null,
      "justify_content": null,
      "justify_items": null,
      "left": null,
      "margin": null,
      "max_height": null,
      "max_width": null,
      "min_height": null,
      "min_width": null,
      "object_fit": null,
      "object_position": null,
      "order": null,
      "overflow": null,
      "overflow_x": null,
      "overflow_y": null,
      "padding": null,
      "right": null,
      "top": null,
      "visibility": null,
      "width": null
     }
    },
    "657f87f0928742e1a92f34d59ccf50ec": {
     "model_module": "@jupyter-widgets/controls",
     "model_module_version": "1.5.0",
     "model_name": "DescriptionStyleModel",
     "state": {
      "_model_module": "@jupyter-widgets/controls",
      "_model_module_version": "1.5.0",
      "_model_name": "DescriptionStyleModel",
      "_view_count": null,
      "_view_module": "@jupyter-widgets/base",
      "_view_module_version": "1.2.0",
      "_view_name": "StyleView",
      "description_width": ""
     }
    },
    "658a9cae2b7e4bdbbbe254dcd07e5f18": {
     "model_module": "@jupyter-widgets/base",
     "model_module_version": "1.2.0",
     "model_name": "LayoutModel",
     "state": {
      "_model_module": "@jupyter-widgets/base",
      "_model_module_version": "1.2.0",
      "_model_name": "LayoutModel",
      "_view_count": null,
      "_view_module": "@jupyter-widgets/base",
      "_view_module_version": "1.2.0",
      "_view_name": "LayoutView",
      "align_content": null,
      "align_items": null,
      "align_self": null,
      "border": null,
      "bottom": null,
      "display": null,
      "flex": null,
      "flex_flow": null,
      "grid_area": null,
      "grid_auto_columns": null,
      "grid_auto_flow": null,
      "grid_auto_rows": null,
      "grid_column": null,
      "grid_gap": null,
      "grid_row": null,
      "grid_template_areas": null,
      "grid_template_columns": null,
      "grid_template_rows": null,
      "height": null,
      "justify_content": null,
      "justify_items": null,
      "left": null,
      "margin": null,
      "max_height": null,
      "max_width": null,
      "min_height": null,
      "min_width": null,
      "object_fit": null,
      "object_position": null,
      "order": null,
      "overflow": null,
      "overflow_x": null,
      "overflow_y": null,
      "padding": null,
      "right": null,
      "top": null,
      "visibility": null,
      "width": null
     }
    },
    "66482a3c9d4b4c9186c1aed98c43c30d": {
     "model_module": "@jupyter-widgets/base",
     "model_module_version": "1.2.0",
     "model_name": "LayoutModel",
     "state": {
      "_model_module": "@jupyter-widgets/base",
      "_model_module_version": "1.2.0",
      "_model_name": "LayoutModel",
      "_view_count": null,
      "_view_module": "@jupyter-widgets/base",
      "_view_module_version": "1.2.0",
      "_view_name": "LayoutView",
      "align_content": null,
      "align_items": null,
      "align_self": null,
      "border": null,
      "bottom": null,
      "display": null,
      "flex": null,
      "flex_flow": null,
      "grid_area": null,
      "grid_auto_columns": null,
      "grid_auto_flow": null,
      "grid_auto_rows": null,
      "grid_column": null,
      "grid_gap": null,
      "grid_row": null,
      "grid_template_areas": null,
      "grid_template_columns": null,
      "grid_template_rows": null,
      "height": null,
      "justify_content": null,
      "justify_items": null,
      "left": null,
      "margin": null,
      "max_height": null,
      "max_width": null,
      "min_height": null,
      "min_width": null,
      "object_fit": null,
      "object_position": null,
      "order": null,
      "overflow": null,
      "overflow_x": null,
      "overflow_y": null,
      "padding": null,
      "right": null,
      "top": null,
      "visibility": null,
      "width": null
     }
    },
    "6747f50d5648436e82e378cda0e10de6": {
     "model_module": "@jupyter-widgets/controls",
     "model_module_version": "1.5.0",
     "model_name": "ProgressStyleModel",
     "state": {
      "_model_module": "@jupyter-widgets/controls",
      "_model_module_version": "1.5.0",
      "_model_name": "ProgressStyleModel",
      "_view_count": null,
      "_view_module": "@jupyter-widgets/base",
      "_view_module_version": "1.2.0",
      "_view_name": "StyleView",
      "bar_color": null,
      "description_width": ""
     }
    },
    "6960ffaea2094ddbadfa83338a578b5e": {
     "model_module": "@jupyter-widgets/base",
     "model_module_version": "1.2.0",
     "model_name": "LayoutModel",
     "state": {
      "_model_module": "@jupyter-widgets/base",
      "_model_module_version": "1.2.0",
      "_model_name": "LayoutModel",
      "_view_count": null,
      "_view_module": "@jupyter-widgets/base",
      "_view_module_version": "1.2.0",
      "_view_name": "LayoutView",
      "align_content": null,
      "align_items": null,
      "align_self": null,
      "border": null,
      "bottom": null,
      "display": null,
      "flex": null,
      "flex_flow": null,
      "grid_area": null,
      "grid_auto_columns": null,
      "grid_auto_flow": null,
      "grid_auto_rows": null,
      "grid_column": null,
      "grid_gap": null,
      "grid_row": null,
      "grid_template_areas": null,
      "grid_template_columns": null,
      "grid_template_rows": null,
      "height": null,
      "justify_content": null,
      "justify_items": null,
      "left": null,
      "margin": null,
      "max_height": null,
      "max_width": null,
      "min_height": null,
      "min_width": null,
      "object_fit": null,
      "object_position": null,
      "order": null,
      "overflow": null,
      "overflow_x": null,
      "overflow_y": null,
      "padding": null,
      "right": null,
      "top": null,
      "visibility": null,
      "width": null
     }
    },
    "76f48a3944e948e3abdd1f93ade1c696": {
     "model_module": "@jupyter-widgets/base",
     "model_module_version": "1.2.0",
     "model_name": "LayoutModel",
     "state": {
      "_model_module": "@jupyter-widgets/base",
      "_model_module_version": "1.2.0",
      "_model_name": "LayoutModel",
      "_view_count": null,
      "_view_module": "@jupyter-widgets/base",
      "_view_module_version": "1.2.0",
      "_view_name": "LayoutView",
      "align_content": null,
      "align_items": null,
      "align_self": null,
      "border": null,
      "bottom": null,
      "display": null,
      "flex": null,
      "flex_flow": null,
      "grid_area": null,
      "grid_auto_columns": null,
      "grid_auto_flow": null,
      "grid_auto_rows": null,
      "grid_column": null,
      "grid_gap": null,
      "grid_row": null,
      "grid_template_areas": null,
      "grid_template_columns": null,
      "grid_template_rows": null,
      "height": null,
      "justify_content": null,
      "justify_items": null,
      "left": null,
      "margin": null,
      "max_height": null,
      "max_width": null,
      "min_height": null,
      "min_width": null,
      "object_fit": null,
      "object_position": null,
      "order": null,
      "overflow": null,
      "overflow_x": null,
      "overflow_y": null,
      "padding": null,
      "right": null,
      "top": null,
      "visibility": null,
      "width": null
     }
    },
    "7fdcc5bebb7349419dba27b51f8f4f7e": {
     "model_module": "@jupyter-widgets/base",
     "model_module_version": "1.2.0",
     "model_name": "LayoutModel",
     "state": {
      "_model_module": "@jupyter-widgets/base",
      "_model_module_version": "1.2.0",
      "_model_name": "LayoutModel",
      "_view_count": null,
      "_view_module": "@jupyter-widgets/base",
      "_view_module_version": "1.2.0",
      "_view_name": "LayoutView",
      "align_content": null,
      "align_items": null,
      "align_self": null,
      "border": null,
      "bottom": null,
      "display": null,
      "flex": null,
      "flex_flow": null,
      "grid_area": null,
      "grid_auto_columns": null,
      "grid_auto_flow": null,
      "grid_auto_rows": null,
      "grid_column": null,
      "grid_gap": null,
      "grid_row": null,
      "grid_template_areas": null,
      "grid_template_columns": null,
      "grid_template_rows": null,
      "height": null,
      "justify_content": null,
      "justify_items": null,
      "left": null,
      "margin": null,
      "max_height": null,
      "max_width": null,
      "min_height": null,
      "min_width": null,
      "object_fit": null,
      "object_position": null,
      "order": null,
      "overflow": null,
      "overflow_x": null,
      "overflow_y": null,
      "padding": null,
      "right": null,
      "top": null,
      "visibility": null,
      "width": null
     }
    },
    "80bc79405fad4dc8b12ee0bb296e21b6": {
     "model_module": "@jupyter-widgets/controls",
     "model_module_version": "1.5.0",
     "model_name": "HBoxModel",
     "state": {
      "_dom_classes": [],
      "_model_module": "@jupyter-widgets/controls",
      "_model_module_version": "1.5.0",
      "_model_name": "HBoxModel",
      "_view_count": null,
      "_view_module": "@jupyter-widgets/controls",
      "_view_module_version": "1.5.0",
      "_view_name": "HBoxView",
      "box_style": "",
      "children": [
       "IPY_MODEL_30d44ed94e3746cba56da096f15421a3",
       "IPY_MODEL_b7992c53ef544a9190288da8674e3175",
       "IPY_MODEL_f1b9efbdc4fb44d0a35d31ac1134c3f1"
      ],
      "layout": "IPY_MODEL_cba3117fb4304a84bddf06ec9c3d713d"
     }
    },
    "8a2c84487fc2477d80238c7f7b92747a": {
     "model_module": "@jupyter-widgets/controls",
     "model_module_version": "1.5.0",
     "model_name": "FloatProgressModel",
     "state": {
      "_dom_classes": [],
      "_model_module": "@jupyter-widgets/controls",
      "_model_module_version": "1.5.0",
      "_model_name": "FloatProgressModel",
      "_view_count": null,
      "_view_module": "@jupyter-widgets/controls",
      "_view_module_version": "1.5.0",
      "_view_name": "ProgressView",
      "bar_style": "success",
      "description": "",
      "description_tooltip": null,
      "layout": "IPY_MODEL_f344931458ee4640bedad957cadbda8e",
      "max": 37268856,
      "min": 0,
      "orientation": "horizontal",
      "style": "IPY_MODEL_914d109cf6ea4afdb70bc80010ba12ef",
      "value": 37268856
     }
    },
    "914d109cf6ea4afdb70bc80010ba12ef": {
     "model_module": "@jupyter-widgets/controls",
     "model_module_version": "1.5.0",
     "model_name": "ProgressStyleModel",
     "state": {
      "_model_module": "@jupyter-widgets/controls",
      "_model_module_version": "1.5.0",
      "_model_name": "ProgressStyleModel",
      "_view_count": null,
      "_view_module": "@jupyter-widgets/base",
      "_view_module_version": "1.2.0",
      "_view_name": "StyleView",
      "bar_color": null,
      "description_width": ""
     }
    },
    "96a621d748504488855ac6e8de21afff": {
     "model_module": "@jupyter-widgets/controls",
     "model_module_version": "1.5.0",
     "model_name": "HTMLModel",
     "state": {
      "_dom_classes": [],
      "_model_module": "@jupyter-widgets/controls",
      "_model_module_version": "1.5.0",
      "_model_name": "HTMLModel",
      "_view_count": null,
      "_view_module": "@jupyter-widgets/controls",
      "_view_module_version": "1.5.0",
      "_view_name": "HTMLView",
      "description": "",
      "description_tooltip": null,
      "layout": "IPY_MODEL_d46ebe84465a45ac96bd72e46fd6f1ea",
      "placeholder": "​",
      "style": "IPY_MODEL_1beb173028254cebb867bbac1c293550",
      "value": "Generating train split: 100%"
     }
    },
    "9b12676f5c784e4483467233518e5f5a": {
     "model_module": "@jupyter-widgets/controls",
     "model_module_version": "1.5.0",
     "model_name": "DescriptionStyleModel",
     "state": {
      "_model_module": "@jupyter-widgets/controls",
      "_model_module_version": "1.5.0",
      "_model_name": "DescriptionStyleModel",
      "_view_count": null,
      "_view_module": "@jupyter-widgets/base",
      "_view_module_version": "1.2.0",
      "_view_name": "StyleView",
      "description_width": ""
     }
    },
    "a7e715aa6bab4ed88e74fbb42827572a": {
     "model_module": "@jupyter-widgets/controls",
     "model_module_version": "1.5.0",
     "model_name": "DescriptionStyleModel",
     "state": {
      "_model_module": "@jupyter-widgets/controls",
      "_model_module_version": "1.5.0",
      "_model_name": "DescriptionStyleModel",
      "_view_count": null,
      "_view_module": "@jupyter-widgets/base",
      "_view_module_version": "1.2.0",
      "_view_name": "StyleView",
      "description_width": ""
     }
    },
    "aa58732eacaf4ff198b7de34de7fa31e": {
     "model_module": "@jupyter-widgets/controls",
     "model_module_version": "1.5.0",
     "model_name": "HTMLModel",
     "state": {
      "_dom_classes": [],
      "_model_module": "@jupyter-widgets/controls",
      "_model_module_version": "1.5.0",
      "_model_name": "HTMLModel",
      "_view_count": null,
      "_view_module": "@jupyter-widgets/controls",
      "_view_module_version": "1.5.0",
      "_view_name": "HTMLView",
      "description": "",
      "description_tooltip": null,
      "layout": "IPY_MODEL_76f48a3944e948e3abdd1f93ade1c696",
      "placeholder": "​",
      "style": "IPY_MODEL_a7e715aa6bab4ed88e74fbb42827572a",
      "value": "test.jsonl.zst: 100%"
     }
    },
    "ac902d7cef7d46a2ab61ddcf74e356cb": {
     "model_module": "@jupyter-widgets/controls",
     "model_module_version": "1.5.0",
     "model_name": "DescriptionStyleModel",
     "state": {
      "_model_module": "@jupyter-widgets/controls",
      "_model_module_version": "1.5.0",
      "_model_name": "DescriptionStyleModel",
      "_view_count": null,
      "_view_module": "@jupyter-widgets/base",
      "_view_module_version": "1.2.0",
      "_view_name": "StyleView",
      "description_width": ""
     }
    },
    "b7992c53ef544a9190288da8674e3175": {
     "model_module": "@jupyter-widgets/controls",
     "model_module_version": "1.5.0",
     "model_name": "FloatProgressModel",
     "state": {
      "_dom_classes": [],
      "_model_module": "@jupyter-widgets/controls",
      "_model_module_version": "1.5.0",
      "_model_name": "FloatProgressModel",
      "_view_count": null,
      "_view_module": "@jupyter-widgets/controls",
      "_view_module_version": "1.5.0",
      "_view_name": "ProgressView",
      "bar_style": "success",
      "description": "",
      "description_tooltip": null,
      "layout": "IPY_MODEL_66482a3c9d4b4c9186c1aed98c43c30d",
      "max": 148895212,
      "min": 0,
      "orientation": "horizontal",
      "style": "IPY_MODEL_d1fed30abea2473994fad031726d746d",
      "value": 148895212
     }
    },
    "bb0fe5c98ca0471eba338244e61e56ef": {
     "model_module": "@jupyter-widgets/controls",
     "model_module_version": "1.5.0",
     "model_name": "FloatProgressModel",
     "state": {
      "_dom_classes": [],
      "_model_module": "@jupyter-widgets/controls",
      "_model_module_version": "1.5.0",
      "_model_name": "FloatProgressModel",
      "_view_count": null,
      "_view_module": "@jupyter-widgets/controls",
      "_view_module_version": "1.5.0",
      "_view_name": "ProgressView",
      "bar_style": "success",
      "description": "",
      "description_tooltip": null,
      "layout": "IPY_MODEL_5b9f4258c3384e4983d2358d3889a6b6",
      "max": 421715,
      "min": 0,
      "orientation": "horizontal",
      "style": "IPY_MODEL_cee401c829684333b38830415e86b5a3",
      "value": 421715
     }
    },
    "bb358a41b86b4a09b91a693d81a855ad": {
     "model_module": "@jupyter-widgets/base",
     "model_module_version": "1.2.0",
     "model_name": "LayoutModel",
     "state": {
      "_model_module": "@jupyter-widgets/base",
      "_model_module_version": "1.2.0",
      "_model_name": "LayoutModel",
      "_view_count": null,
      "_view_module": "@jupyter-widgets/base",
      "_view_module_version": "1.2.0",
      "_view_name": "LayoutView",
      "align_content": null,
      "align_items": null,
      "align_self": null,
      "border": null,
      "bottom": null,
      "display": null,
      "flex": null,
      "flex_flow": null,
      "grid_area": null,
      "grid_auto_columns": null,
      "grid_auto_flow": null,
      "grid_auto_rows": null,
      "grid_column": null,
      "grid_gap": null,
      "grid_row": null,
      "grid_template_areas": null,
      "grid_template_columns": null,
      "grid_template_rows": null,
      "height": null,
      "justify_content": null,
      "justify_items": null,
      "left": null,
      "margin": null,
      "max_height": null,
      "max_width": null,
      "min_height": null,
      "min_width": null,
      "object_fit": null,
      "object_position": null,
      "order": null,
      "overflow": null,
      "overflow_x": null,
      "overflow_y": null,
      "padding": null,
      "right": null,
      "top": null,
      "visibility": null,
      "width": null
     }
    },
    "bb3b4f69a8da43218007dc35c531c8b8": {
     "model_module": "@jupyter-widgets/controls",
     "model_module_version": "1.5.0",
     "model_name": "HBoxModel",
     "state": {
      "_dom_classes": [],
      "_model_module": "@jupyter-widgets/controls",
      "_model_module_version": "1.5.0",
      "_model_name": "HBoxModel",
      "_view_count": null,
      "_view_module": "@jupyter-widgets/controls",
      "_view_module_version": "1.5.0",
      "_view_name": "HBoxView",
      "box_style": "",
      "children": [
       "IPY_MODEL_96a621d748504488855ac6e8de21afff",
       "IPY_MODEL_0193f492d9424de38d1c654d9e18a4a7",
       "IPY_MODEL_3ef35dbc48e8470e9594d507ab5d44e9"
      ],
      "layout": "IPY_MODEL_16b81b4f1a5a4027aa057f8724ba32f2"
     }
    },
    "c11e662e27544eb0920a0173aa21c1a8": {
     "model_module": "@jupyter-widgets/controls",
     "model_module_version": "1.5.0",
     "model_name": "DescriptionStyleModel",
     "state": {
      "_model_module": "@jupyter-widgets/controls",
      "_model_module_version": "1.5.0",
      "_model_name": "DescriptionStyleModel",
      "_view_count": null,
      "_view_module": "@jupyter-widgets/base",
      "_view_module_version": "1.2.0",
      "_view_name": "StyleView",
      "description_width": ""
     }
    },
    "c3faf865925c4a29ac6db8f6e900712d": {
     "model_module": "@jupyter-widgets/base",
     "model_module_version": "1.2.0",
     "model_name": "LayoutModel",
     "state": {
      "_model_module": "@jupyter-widgets/base",
      "_model_module_version": "1.2.0",
      "_model_name": "LayoutModel",
      "_view_count": null,
      "_view_module": "@jupyter-widgets/base",
      "_view_module_version": "1.2.0",
      "_view_name": "LayoutView",
      "align_content": null,
      "align_items": null,
      "align_self": null,
      "border": null,
      "bottom": null,
      "display": null,
      "flex": null,
      "flex_flow": null,
      "grid_area": null,
      "grid_auto_columns": null,
      "grid_auto_flow": null,
      "grid_auto_rows": null,
      "grid_column": null,
      "grid_gap": null,
      "grid_row": null,
      "grid_template_areas": null,
      "grid_template_columns": null,
      "grid_template_rows": null,
      "height": null,
      "justify_content": null,
      "justify_items": null,
      "left": null,
      "margin": null,
      "max_height": null,
      "max_width": null,
      "min_height": null,
      "min_width": null,
      "object_fit": null,
      "object_position": null,
      "order": null,
      "overflow": null,
      "overflow_x": null,
      "overflow_y": null,
      "padding": null,
      "right": null,
      "top": null,
      "visibility": null,
      "width": null
     }
    },
    "c4406e0ff0b0490486de4c6be636b00a": {
     "model_module": "@jupyter-widgets/controls",
     "model_module_version": "1.5.0",
     "model_name": "DescriptionStyleModel",
     "state": {
      "_model_module": "@jupyter-widgets/controls",
      "_model_module_version": "1.5.0",
      "_model_name": "DescriptionStyleModel",
      "_view_count": null,
      "_view_module": "@jupyter-widgets/base",
      "_view_module_version": "1.2.0",
      "_view_name": "StyleView",
      "description_width": ""
     }
    },
    "c722218393b54de4a7b89ee5dc0664c8": {
     "model_module": "@jupyter-widgets/base",
     "model_module_version": "1.2.0",
     "model_name": "LayoutModel",
     "state": {
      "_model_module": "@jupyter-widgets/base",
      "_model_module_version": "1.2.0",
      "_model_name": "LayoutModel",
      "_view_count": null,
      "_view_module": "@jupyter-widgets/base",
      "_view_module_version": "1.2.0",
      "_view_name": "LayoutView",
      "align_content": null,
      "align_items": null,
      "align_self": null,
      "border": null,
      "bottom": null,
      "display": null,
      "flex": null,
      "flex_flow": null,
      "grid_area": null,
      "grid_auto_columns": null,
      "grid_auto_flow": null,
      "grid_auto_rows": null,
      "grid_column": null,
      "grid_gap": null,
      "grid_row": null,
      "grid_template_areas": null,
      "grid_template_columns": null,
      "grid_template_rows": null,
      "height": null,
      "justify_content": null,
      "justify_items": null,
      "left": null,
      "margin": null,
      "max_height": null,
      "max_width": null,
      "min_height": null,
      "min_width": null,
      "object_fit": null,
      "object_position": null,
      "order": null,
      "overflow": null,
      "overflow_x": null,
      "overflow_y": null,
      "padding": null,
      "right": null,
      "top": null,
      "visibility": null,
      "width": null
     }
    },
    "c81d74750865400dae65ce7a02abd4fe": {
     "model_module": "@jupyter-widgets/controls",
     "model_module_version": "1.5.0",
     "model_name": "FloatProgressModel",
     "state": {
      "_dom_classes": [],
      "_model_module": "@jupyter-widgets/controls",
      "_model_module_version": "1.5.0",
      "_model_name": "FloatProgressModel",
      "_view_count": null,
      "_view_module": "@jupyter-widgets/controls",
      "_view_module_version": "1.5.0",
      "_view_name": "ProgressView",
      "bar_style": "success",
      "description": "",
      "description_tooltip": null,
      "layout": "IPY_MODEL_c722218393b54de4a7b89ee5dc0664c8",
      "max": 7719,
      "min": 0,
      "orientation": "horizontal",
      "style": "IPY_MODEL_6747f50d5648436e82e378cda0e10de6",
      "value": 7719
     }
    },
    "cba3117fb4304a84bddf06ec9c3d713d": {
     "model_module": "@jupyter-widgets/base",
     "model_module_version": "1.2.0",
     "model_name": "LayoutModel",
     "state": {
      "_model_module": "@jupyter-widgets/base",
      "_model_module_version": "1.2.0",
      "_model_name": "LayoutModel",
      "_view_count": null,
      "_view_module": "@jupyter-widgets/base",
      "_view_module_version": "1.2.0",
      "_view_name": "LayoutView",
      "align_content": null,
      "align_items": null,
      "align_self": null,
      "border": null,
      "bottom": null,
      "display": null,
      "flex": null,
      "flex_flow": null,
      "grid_area": null,
      "grid_auto_columns": null,
      "grid_auto_flow": null,
      "grid_auto_rows": null,
      "grid_column": null,
      "grid_gap": null,
      "grid_row": null,
      "grid_template_areas": null,
      "grid_template_columns": null,
      "grid_template_rows": null,
      "height": null,
      "justify_content": null,
      "justify_items": null,
      "left": null,
      "margin": null,
      "max_height": null,
      "max_width": null,
      "min_height": null,
      "min_width": null,
      "object_fit": null,
      "object_position": null,
      "order": null,
      "overflow": null,
      "overflow_x": null,
      "overflow_y": null,
      "padding": null,
      "right": null,
      "top": null,
      "visibility": null,
      "width": null
     }
    },
    "cee401c829684333b38830415e86b5a3": {
     "model_module": "@jupyter-widgets/controls",
     "model_module_version": "1.5.0",
     "model_name": "ProgressStyleModel",
     "state": {
      "_model_module": "@jupyter-widgets/controls",
      "_model_module_version": "1.5.0",
      "_model_name": "ProgressStyleModel",
      "_view_count": null,
      "_view_module": "@jupyter-widgets/base",
      "_view_module_version": "1.2.0",
      "_view_name": "StyleView",
      "bar_color": null,
      "description_width": ""
     }
    },
    "d1fed30abea2473994fad031726d746d": {
     "model_module": "@jupyter-widgets/controls",
     "model_module_version": "1.5.0",
     "model_name": "ProgressStyleModel",
     "state": {
      "_model_module": "@jupyter-widgets/controls",
      "_model_module_version": "1.5.0",
      "_model_name": "ProgressStyleModel",
      "_view_count": null,
      "_view_module": "@jupyter-widgets/base",
      "_view_module_version": "1.2.0",
      "_view_name": "StyleView",
      "bar_color": null,
      "description_width": ""
     }
    },
    "d46ebe84465a45ac96bd72e46fd6f1ea": {
     "model_module": "@jupyter-widgets/base",
     "model_module_version": "1.2.0",
     "model_name": "LayoutModel",
     "state": {
      "_model_module": "@jupyter-widgets/base",
      "_model_module_version": "1.2.0",
      "_model_name": "LayoutModel",
      "_view_count": null,
      "_view_module": "@jupyter-widgets/base",
      "_view_module_version": "1.2.0",
      "_view_name": "LayoutView",
      "align_content": null,
      "align_items": null,
      "align_self": null,
      "border": null,
      "bottom": null,
      "display": null,
      "flex": null,
      "flex_flow": null,
      "grid_area": null,
      "grid_auto_columns": null,
      "grid_auto_flow": null,
      "grid_auto_rows": null,
      "grid_column": null,
      "grid_gap": null,
      "grid_row": null,
      "grid_template_areas": null,
      "grid_template_columns": null,
      "grid_template_rows": null,
      "height": null,
      "justify_content": null,
      "justify_items": null,
      "left": null,
      "margin": null,
      "max_height": null,
      "max_width": null,
      "min_height": null,
      "min_width": null,
      "object_fit": null,
      "object_position": null,
      "order": null,
      "overflow": null,
      "overflow_x": null,
      "overflow_y": null,
      "padding": null,
      "right": null,
      "top": null,
      "visibility": null,
      "width": null
     }
    },
    "d59f1429eb774408b67445819b6418b0": {
     "model_module": "@jupyter-widgets/base",
     "model_module_version": "1.2.0",
     "model_name": "LayoutModel",
     "state": {
      "_model_module": "@jupyter-widgets/base",
      "_model_module_version": "1.2.0",
      "_model_name": "LayoutModel",
      "_view_count": null,
      "_view_module": "@jupyter-widgets/base",
      "_view_module_version": "1.2.0",
      "_view_name": "LayoutView",
      "align_content": null,
      "align_items": null,
      "align_self": null,
      "border": null,
      "bottom": null,
      "display": null,
      "flex": null,
      "flex_flow": null,
      "grid_area": null,
      "grid_auto_columns": null,
      "grid_auto_flow": null,
      "grid_auto_rows": null,
      "grid_column": null,
      "grid_gap": null,
      "grid_row": null,
      "grid_template_areas": null,
      "grid_template_columns": null,
      "grid_template_rows": null,
      "height": null,
      "justify_content": null,
      "justify_items": null,
      "left": null,
      "margin": null,
      "max_height": null,
      "max_width": null,
      "min_height": null,
      "min_width": null,
      "object_fit": null,
      "object_position": null,
      "order": null,
      "overflow": null,
      "overflow_x": null,
      "overflow_y": null,
      "padding": null,
      "right": null,
      "top": null,
      "visibility": null,
      "width": null
     }
    },
    "d682b21cb5a14418a2193c6b5307e471": {
     "model_module": "@jupyter-widgets/controls",
     "model_module_version": "1.5.0",
     "model_name": "DescriptionStyleModel",
     "state": {
      "_model_module": "@jupyter-widgets/controls",
      "_model_module_version": "1.5.0",
      "_model_name": "DescriptionStyleModel",
      "_view_count": null,
      "_view_module": "@jupyter-widgets/base",
      "_view_module_version": "1.2.0",
      "_view_name": "StyleView",
      "description_width": ""
     }
    },
    "dafac5501be54215a218ae83de06dd43": {
     "model_module": "@jupyter-widgets/base",
     "model_module_version": "1.2.0",
     "model_name": "LayoutModel",
     "state": {
      "_model_module": "@jupyter-widgets/base",
      "_model_module_version": "1.2.0",
      "_model_name": "LayoutModel",
      "_view_count": null,
      "_view_module": "@jupyter-widgets/base",
      "_view_module_version": "1.2.0",
      "_view_name": "LayoutView",
      "align_content": null,
      "align_items": null,
      "align_self": null,
      "border": null,
      "bottom": null,
      "display": null,
      "flex": null,
      "flex_flow": null,
      "grid_area": null,
      "grid_auto_columns": null,
      "grid_auto_flow": null,
      "grid_auto_rows": null,
      "grid_column": null,
      "grid_gap": null,
      "grid_row": null,
      "grid_template_areas": null,
      "grid_template_columns": null,
      "grid_template_rows": null,
      "height": null,
      "justify_content": null,
      "justify_items": null,
      "left": null,
      "margin": null,
      "max_height": null,
      "max_width": null,
      "min_height": null,
      "min_width": null,
      "object_fit": null,
      "object_position": null,
      "order": null,
      "overflow": null,
      "overflow_x": null,
      "overflow_y": null,
      "padding": null,
      "right": null,
      "top": null,
      "visibility": null,
      "width": null
     }
    },
    "e570c247ed3d4f83ac0d9b5813780f5d": {
     "model_module": "@jupyter-widgets/controls",
     "model_module_version": "1.5.0",
     "model_name": "HTMLModel",
     "state": {
      "_dom_classes": [],
      "_model_module": "@jupyter-widgets/controls",
      "_model_module_version": "1.5.0",
      "_model_name": "HTMLModel",
      "_view_count": null,
      "_view_module": "@jupyter-widgets/controls",
      "_view_module_version": "1.5.0",
      "_view_name": "HTMLView",
      "description": "",
      "description_tooltip": null,
      "layout": "IPY_MODEL_5ecad5445d344636ab2674528e36de6a",
      "placeholder": "​",
      "style": "IPY_MODEL_c11e662e27544eb0920a0173aa21c1a8",
      "value": " 7.72k/7.72k [00:00&lt;00:00, 128kB/s]"
     }
    },
    "eb3c9145d2ca4105a05a1228286126e7": {
     "model_module": "@jupyter-widgets/controls",
     "model_module_version": "1.5.0",
     "model_name": "HBoxModel",
     "state": {
      "_dom_classes": [],
      "_model_module": "@jupyter-widgets/controls",
      "_model_module_version": "1.5.0",
      "_model_name": "HBoxModel",
      "_view_count": null,
      "_view_module": "@jupyter-widgets/controls",
      "_view_module_version": "1.5.0",
      "_view_name": "HBoxView",
      "box_style": "",
      "children": [
       "IPY_MODEL_aa58732eacaf4ff198b7de34de7fa31e",
       "IPY_MODEL_8a2c84487fc2477d80238c7f7b92747a",
       "IPY_MODEL_4296815abd25460c806d05e922597d0e"
      ],
      "layout": "IPY_MODEL_1abcd9f123ff4d8e8a34a5ddcdf1136d"
     }
    },
    "ebdec24a0ea84c5c976c94300b78edc4": {
     "model_module": "@jupyter-widgets/controls",
     "model_module_version": "1.5.0",
     "model_name": "HTMLModel",
     "state": {
      "_dom_classes": [],
      "_model_module": "@jupyter-widgets/controls",
      "_model_module_version": "1.5.0",
      "_model_name": "HTMLModel",
      "_view_count": null,
      "_view_module": "@jupyter-widgets/controls",
      "_view_module_version": "1.5.0",
      "_view_name": "HTMLView",
      "description": "",
      "description_tooltip": null,
      "layout": "IPY_MODEL_1a3dd87e168b4405b8c80706e1ff5de5",
      "placeholder": "​",
      "style": "IPY_MODEL_12adab1ac9a84c5290a6e5ce38ef543b",
      "value": " 421715/421715 [00:01&lt;00:00, 246913.11 examples/s]"
     }
    },
    "f1b9efbdc4fb44d0a35d31ac1134c3f1": {
     "model_module": "@jupyter-widgets/controls",
     "model_module_version": "1.5.0",
     "model_name": "HTMLModel",
     "state": {
      "_dom_classes": [],
      "_model_module": "@jupyter-widgets/controls",
      "_model_module_version": "1.5.0",
      "_model_name": "HTMLModel",
      "_view_count": null,
      "_view_module": "@jupyter-widgets/controls",
      "_view_module_version": "1.5.0",
      "_view_name": "HTMLView",
      "description": "",
      "description_tooltip": null,
      "layout": "IPY_MODEL_658a9cae2b7e4bdbbbe254dcd07e5f18",
      "placeholder": "​",
      "style": "IPY_MODEL_2465c7d58ac949cdbcb9e281e3f53339",
      "value": " 149M/149M [00:03&lt;00:00, 62.4MB/s]"
     }
    },
    "f344931458ee4640bedad957cadbda8e": {
     "model_module": "@jupyter-widgets/base",
     "model_module_version": "1.2.0",
     "model_name": "LayoutModel",
     "state": {
      "_model_module": "@jupyter-widgets/base",
      "_model_module_version": "1.2.0",
      "_model_name": "LayoutModel",
      "_view_count": null,
      "_view_module": "@jupyter-widgets/base",
      "_view_module_version": "1.2.0",
      "_view_name": "LayoutView",
      "align_content": null,
      "align_items": null,
      "align_self": null,
      "border": null,
      "bottom": null,
      "display": null,
      "flex": null,
      "flex_flow": null,
      "grid_area": null,
      "grid_auto_columns": null,
      "grid_auto_flow": null,
      "grid_auto_rows": null,
      "grid_column": null,
      "grid_gap": null,
      "grid_row": null,
      "grid_template_areas": null,
      "grid_template_columns": null,
      "grid_template_rows": null,
      "height": null,
      "justify_content": null,
      "justify_items": null,
      "left": null,
      "margin": null,
      "max_height": null,
      "max_width": null,
      "min_height": null,
      "min_width": null,
      "object_fit": null,
      "object_position": null,
      "order": null,
      "overflow": null,
      "overflow_x": null,
      "overflow_y": null,
      "padding": null,
      "right": null,
      "top": null,
      "visibility": null,
      "width": null
     }
    },
    "fa431e99f187489f89b6728bf90bc2ee": {
     "model_module": "@jupyter-widgets/controls",
     "model_module_version": "1.5.0",
     "model_name": "HTMLModel",
     "state": {
      "_dom_classes": [],
      "_model_module": "@jupyter-widgets/controls",
      "_model_module_version": "1.5.0",
      "_model_name": "HTMLModel",
      "_view_count": null,
      "_view_module": "@jupyter-widgets/controls",
      "_view_module_version": "1.5.0",
      "_view_name": "HTMLView",
      "description": "",
      "description_tooltip": null,
      "layout": "IPY_MODEL_7fdcc5bebb7349419dba27b51f8f4f7e",
      "placeholder": "​",
      "style": "IPY_MODEL_657f87f0928742e1a92f34d59ccf50ec",
      "value": "Generating test split: 100%"
     }
    },
    "fcd29d78045044c68ad05e2559067883": {
     "model_module": "@jupyter-widgets/base",
     "model_module_version": "1.2.0",
     "model_name": "LayoutModel",
     "state": {
      "_model_module": "@jupyter-widgets/base",
      "_model_module_version": "1.2.0",
      "_model_name": "LayoutModel",
      "_view_count": null,
      "_view_module": "@jupyter-widgets/base",
      "_view_module_version": "1.2.0",
      "_view_name": "LayoutView",
      "align_content": null,
      "align_items": null,
      "align_self": null,
      "border": null,
      "bottom": null,
      "display": null,
      "flex": null,
      "flex_flow": null,
      "grid_area": null,
      "grid_auto_columns": null,
      "grid_auto_flow": null,
      "grid_auto_rows": null,
      "grid_column": null,
      "grid_gap": null,
      "grid_row": null,
      "grid_template_areas": null,
      "grid_template_columns": null,
      "grid_template_rows": null,
      "height": null,
      "justify_content": null,
      "justify_items": null,
      "left": null,
      "margin": null,
      "max_height": null,
      "max_width": null,
      "min_height": null,
      "min_width": null,
      "object_fit": null,
      "object_position": null,
      "order": null,
      "overflow": null,
      "overflow_x": null,
      "overflow_y": null,
      "padding": null,
      "right": null,
      "top": null,
      "visibility": null,
      "width": null
     }
    }
   }
  }
 },
 "nbformat": 4,
 "nbformat_minor": 0
}
