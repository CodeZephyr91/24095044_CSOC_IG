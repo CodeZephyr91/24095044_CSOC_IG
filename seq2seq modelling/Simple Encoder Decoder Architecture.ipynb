{
 "cells": [
  {
   "cell_type": "code",
   "execution_count": null,
   "metadata": {
    "colab": {
     "base_uri": "https://localhost:8080/"
    },
    "executionInfo": {
     "elapsed": 16395,
     "status": "ok",
     "timestamp": 1750304432825,
     "user": {
      "displayName": "Balaji Pravinya Madala 4-Yr B.Tech.: Pharmaceutical Engg. & Tech.,IIT(BHU",
      "userId": "02023745050169837861"
     },
     "user_tz": -330
    },
    "id": "TjmQR-L33jIg",
    "outputId": "1e80c697-55ad-4345-dc8e-0ba6822f2e13"
   },
   "outputs": [
    {
     "name": "stdout",
     "output_type": "stream",
     "text": [
      "Requirement already satisfied: datasets in /usr/local/lib/python3.11/dist-packages (2.14.4)\n",
      "Collecting datasets\n",
      "  Downloading datasets-3.6.0-py3-none-any.whl.metadata (19 kB)\n",
      "Requirement already satisfied: huggingface_hub in /usr/local/lib/python3.11/dist-packages (0.33.0)\n",
      "Requirement already satisfied: fsspec in /usr/local/lib/python3.11/dist-packages (2025.3.2)\n",
      "Collecting fsspec\n",
      "  Downloading fsspec-2025.5.1-py3-none-any.whl.metadata (11 kB)\n",
      "Requirement already satisfied: filelock in /usr/local/lib/python3.11/dist-packages (from datasets) (3.18.0)\n",
      "Requirement already satisfied: numpy>=1.17 in /usr/local/lib/python3.11/dist-packages (from datasets) (2.0.2)\n",
      "Requirement already satisfied: pyarrow>=15.0.0 in /usr/local/lib/python3.11/dist-packages (from datasets) (18.1.0)\n",
      "Requirement already satisfied: dill<0.3.9,>=0.3.0 in /usr/local/lib/python3.11/dist-packages (from datasets) (0.3.7)\n",
      "Requirement already satisfied: pandas in /usr/local/lib/python3.11/dist-packages (from datasets) (2.2.2)\n",
      "Requirement already satisfied: requests>=2.32.2 in /usr/local/lib/python3.11/dist-packages (from datasets) (2.32.3)\n",
      "Requirement already satisfied: tqdm>=4.66.3 in /usr/local/lib/python3.11/dist-packages (from datasets) (4.67.1)\n",
      "Requirement already satisfied: xxhash in /usr/local/lib/python3.11/dist-packages (from datasets) (3.5.0)\n",
      "Requirement already satisfied: multiprocess<0.70.17 in /usr/local/lib/python3.11/dist-packages (from datasets) (0.70.15)\n",
      "  Downloading fsspec-2025.3.0-py3-none-any.whl.metadata (11 kB)\n",
      "Requirement already satisfied: packaging in /usr/local/lib/python3.11/dist-packages (from datasets) (24.2)\n",
      "Requirement already satisfied: pyyaml>=5.1 in /usr/local/lib/python3.11/dist-packages (from datasets) (6.0.2)\n",
      "Requirement already satisfied: typing-extensions>=3.7.4.3 in /usr/local/lib/python3.11/dist-packages (from huggingface_hub) (4.14.0)\n",
      "Requirement already satisfied: hf-xet<2.0.0,>=1.1.2 in /usr/local/lib/python3.11/dist-packages (from huggingface_hub) (1.1.3)\n",
      "Requirement already satisfied: aiohttp!=4.0.0a0,!=4.0.0a1 in /usr/local/lib/python3.11/dist-packages (from fsspec[http]<=2025.3.0,>=2023.1.0->datasets) (3.11.15)\n",
      "Requirement already satisfied: charset-normalizer<4,>=2 in /usr/local/lib/python3.11/dist-packages (from requests>=2.32.2->datasets) (3.4.2)\n",
      "Requirement already satisfied: idna<4,>=2.5 in /usr/local/lib/python3.11/dist-packages (from requests>=2.32.2->datasets) (3.10)\n",
      "Requirement already satisfied: urllib3<3,>=1.21.1 in /usr/local/lib/python3.11/dist-packages (from requests>=2.32.2->datasets) (2.4.0)\n",
      "Requirement already satisfied: certifi>=2017.4.17 in /usr/local/lib/python3.11/dist-packages (from requests>=2.32.2->datasets) (2025.6.15)\n",
      "Requirement already satisfied: python-dateutil>=2.8.2 in /usr/local/lib/python3.11/dist-packages (from pandas->datasets) (2.9.0.post0)\n",
      "Requirement already satisfied: pytz>=2020.1 in /usr/local/lib/python3.11/dist-packages (from pandas->datasets) (2025.2)\n",
      "Requirement already satisfied: tzdata>=2022.7 in /usr/local/lib/python3.11/dist-packages (from pandas->datasets) (2025.2)\n",
      "Requirement already satisfied: aiohappyeyeballs>=2.3.0 in /usr/local/lib/python3.11/dist-packages (from aiohttp!=4.0.0a0,!=4.0.0a1->fsspec[http]<=2025.3.0,>=2023.1.0->datasets) (2.6.1)\n",
      "Requirement already satisfied: aiosignal>=1.1.2 in /usr/local/lib/python3.11/dist-packages (from aiohttp!=4.0.0a0,!=4.0.0a1->fsspec[http]<=2025.3.0,>=2023.1.0->datasets) (1.3.2)\n",
      "Requirement already satisfied: attrs>=17.3.0 in /usr/local/lib/python3.11/dist-packages (from aiohttp!=4.0.0a0,!=4.0.0a1->fsspec[http]<=2025.3.0,>=2023.1.0->datasets) (25.3.0)\n",
      "Requirement already satisfied: frozenlist>=1.1.1 in /usr/local/lib/python3.11/dist-packages (from aiohttp!=4.0.0a0,!=4.0.0a1->fsspec[http]<=2025.3.0,>=2023.1.0->datasets) (1.7.0)\n",
      "Requirement already satisfied: multidict<7.0,>=4.5 in /usr/local/lib/python3.11/dist-packages (from aiohttp!=4.0.0a0,!=4.0.0a1->fsspec[http]<=2025.3.0,>=2023.1.0->datasets) (6.4.4)\n",
      "Requirement already satisfied: propcache>=0.2.0 in /usr/local/lib/python3.11/dist-packages (from aiohttp!=4.0.0a0,!=4.0.0a1->fsspec[http]<=2025.3.0,>=2023.1.0->datasets) (0.3.2)\n",
      "Requirement already satisfied: yarl<2.0,>=1.17.0 in /usr/local/lib/python3.11/dist-packages (from aiohttp!=4.0.0a0,!=4.0.0a1->fsspec[http]<=2025.3.0,>=2023.1.0->datasets) (1.20.1)\n",
      "Requirement already satisfied: six>=1.5 in /usr/local/lib/python3.11/dist-packages (from python-dateutil>=2.8.2->pandas->datasets) (1.17.0)\n",
      "Downloading datasets-3.6.0-py3-none-any.whl (491 kB)\n",
      "\u001b[2K   \u001b[90m━━━━━━━━━━━━━━━━━━━━━━━━━━━━━━━━━━━━━━━━\u001b[0m \u001b[32m491.5/491.5 kB\u001b[0m \u001b[31m10.4 MB/s\u001b[0m eta \u001b[36m0:00:00\u001b[0m\n",
      "\u001b[?25hDownloading fsspec-2025.3.0-py3-none-any.whl (193 kB)\n",
      "\u001b[2K   \u001b[90m━━━━━━━━━━━━━━━━━━━━━━━━━━━━━━━━━━━━━━━━\u001b[0m \u001b[32m193.6/193.6 kB\u001b[0m \u001b[31m9.6 MB/s\u001b[0m eta \u001b[36m0:00:00\u001b[0m\n",
      "\u001b[?25hInstalling collected packages: fsspec, datasets\n",
      "  Attempting uninstall: fsspec\n",
      "    Found existing installation: fsspec 2025.3.2\n",
      "    Uninstalling fsspec-2025.3.2:\n",
      "      Successfully uninstalled fsspec-2025.3.2\n",
      "  Attempting uninstall: datasets\n",
      "    Found existing installation: datasets 2.14.4\n",
      "    Uninstalling datasets-2.14.4:\n",
      "      Successfully uninstalled datasets-2.14.4\n",
      "\u001b[31mERROR: pip's dependency resolver does not currently take into account all the packages that are installed. This behaviour is the source of the following dependency conflicts.\n",
      "torch 2.6.0+cu124 requires nvidia-cublas-cu12==12.4.5.8; platform_system == \"Linux\" and platform_machine == \"x86_64\", but you have nvidia-cublas-cu12 12.5.3.2 which is incompatible.\n",
      "torch 2.6.0+cu124 requires nvidia-cuda-cupti-cu12==12.4.127; platform_system == \"Linux\" and platform_machine == \"x86_64\", but you have nvidia-cuda-cupti-cu12 12.5.82 which is incompatible.\n",
      "torch 2.6.0+cu124 requires nvidia-cuda-nvrtc-cu12==12.4.127; platform_system == \"Linux\" and platform_machine == \"x86_64\", but you have nvidia-cuda-nvrtc-cu12 12.5.82 which is incompatible.\n",
      "torch 2.6.0+cu124 requires nvidia-cuda-runtime-cu12==12.4.127; platform_system == \"Linux\" and platform_machine == \"x86_64\", but you have nvidia-cuda-runtime-cu12 12.5.82 which is incompatible.\n",
      "torch 2.6.0+cu124 requires nvidia-cudnn-cu12==9.1.0.70; platform_system == \"Linux\" and platform_machine == \"x86_64\", but you have nvidia-cudnn-cu12 9.3.0.75 which is incompatible.\n",
      "torch 2.6.0+cu124 requires nvidia-cufft-cu12==11.2.1.3; platform_system == \"Linux\" and platform_machine == \"x86_64\", but you have nvidia-cufft-cu12 11.2.3.61 which is incompatible.\n",
      "torch 2.6.0+cu124 requires nvidia-curand-cu12==10.3.5.147; platform_system == \"Linux\" and platform_machine == \"x86_64\", but you have nvidia-curand-cu12 10.3.6.82 which is incompatible.\n",
      "torch 2.6.0+cu124 requires nvidia-cusolver-cu12==11.6.1.9; platform_system == \"Linux\" and platform_machine == \"x86_64\", but you have nvidia-cusolver-cu12 11.6.3.83 which is incompatible.\n",
      "torch 2.6.0+cu124 requires nvidia-cusparse-cu12==12.3.1.170; platform_system == \"Linux\" and platform_machine == \"x86_64\", but you have nvidia-cusparse-cu12 12.5.1.3 which is incompatible.\n",
      "torch 2.6.0+cu124 requires nvidia-nvjitlink-cu12==12.4.127; platform_system == \"Linux\" and platform_machine == \"x86_64\", but you have nvidia-nvjitlink-cu12 12.5.82 which is incompatible.\n",
      "gcsfs 2025.3.2 requires fsspec==2025.3.2, but you have fsspec 2025.3.0 which is incompatible.\u001b[0m\u001b[31m\n",
      "\u001b[0mSuccessfully installed datasets-3.6.0 fsspec-2025.3.0\n"
     ]
    }
   ],
   "source": [
    "!pip install -U datasets huggingface_hub fsspec"
   ]
  },
  {
   "cell_type": "code",
   "execution_count": null,
   "metadata": {
    "colab": {
     "base_uri": "https://localhost:8080/",
     "height": 475,
     "referenced_widgets": [
      "ab3a4271f9d446ba9b7acb2c6957c19f",
      "ea19a468f9844edea7a31e079bdaf8a0",
      "0cda12ed98cb46399354e2bb61758b19",
      "ece9482678bc40fcaa903aafe77d8c5a",
      "676c2130493a4d98a591fdebcbeb7815",
      "ac55db8d1437404981ce1f48d56ea4c2",
      "22a0e92f641d4b7f99f1b22ff85fefc4",
      "d3ff4b66fb8c4c83a2735f9bf25ced87",
      "d8358b999522419a8869b3757f53cba2",
      "a6013096290a44b68ffa90a9a7aa349c",
      "9bcaa8c7e4e140fb98d7d481fe571739",
      "1721bcc3edb2427b9558410ffc140efa",
      "300d76510b8044f798ea7204a44d933c",
      "5582cf7666ce40b68757a5ef01e499fd",
      "c07f1aa276da44b990dd60748cd8edd1",
      "ecf273ba6a26445ebd986bbf082ba507",
      "e3a0799247fc4436bbcb8f3e2cd36a82",
      "b18880ac05384b7abeaf540a60ee43b9",
      "9ae30b267fe2466998aba1d4c51d059d",
      "855c3ee65e0b41e286ce91b1e227fe1f",
      "3540e75d661240ceacc9ec0725bbae91",
      "7b9579fd41a944929eff6f263d1f09eb",
      "0915c05099174b7c86363433252a2ad5",
      "e670a24b3d104f1cb8ab95b7adcea567",
      "0160044de56f4ec6a268b5d51391bb5a",
      "3cd19b393c704fd6881d9dda1c5de36a",
      "9125f1f6b94d4a4f935d330425eb3ff0",
      "8f5076d5b4844593ac808caddd9ee455",
      "17dccba7d15b47cd854d4fcf2cfe8710",
      "7144d34645f741ddb6f21261a1b58434",
      "219bdd5b8d9e4c459ec1cca67d821b48",
      "67d3e81176b545e89ac2b245955fe90d",
      "3f784565c46e4ca98d273f3a44453c9b",
      "29d6de2ee8694af8a5777d9f69de771f",
      "2eca390c95c441f6b4aba670ca60fa6b",
      "0403f29efa524d65856c77a78b437ad4",
      "7a0d365710a94746ba8859ebd3ec03ab",
      "29e098669f3a4a9aa6b508cc352731a5",
      "162bc6a50b584f009673b0abbb27c158",
      "dcd882f15cf44b25aab052ba70da3910",
      "cb14d36fd14f4964b89fae0f4758ffcf",
      "d49134ea0831483db17752a434aeef80",
      "6687917c72c8401aa961961b22fc6351",
      "937c636f76f340f3a096782ff3027008",
      "b8dc4d702bcf4a64bd3bbbb58b5383bf",
      "c613781671914e2896fa5f301815792e",
      "82b83bc6b933447c9e54914edf3778ec",
      "ff2a853faf7043799888833b98bfc9ab",
      "3b6afda90d9b4f988ba107cf015dcabc",
      "56b3dc74b82c4d90926add9bb7c276aa",
      "de62d05b5ba74b73b57ddb99f8de80ca",
      "4efa4728f9584de58ce28d76a6264378",
      "1828ea1ee83e40a48423b1984f7d1d71",
      "df2fce3585e94dc99cdf86222200cfb6",
      "475f62d806504f66a5638144944e8945"
     ]
    },
    "executionInfo": {
     "elapsed": 22099,
     "status": "ok",
     "timestamp": 1750304454926,
     "user": {
      "displayName": "Balaji Pravinya Madala 4-Yr B.Tech.: Pharmaceutical Engg. & Tech.,IIT(BHU",
      "userId": "02023745050169837861"
     },
     "user_tz": -330
    },
    "id": "ZaX9u46a30A_",
    "outputId": "3d4d6bbb-fe2b-4dae-8c2c-9b48c6195ca1"
   },
   "outputs": [
    {
     "name": "stderr",
     "output_type": "stream",
     "text": [
      "/usr/local/lib/python3.11/dist-packages/huggingface_hub/utils/_auth.py:94: UserWarning: \n",
      "The secret `HF_TOKEN` does not exist in your Colab secrets.\n",
      "To authenticate with the Hugging Face Hub, create a token in your settings tab (https://huggingface.co/settings/tokens), set it as secret in your Google Colab and restart your session.\n",
      "You will be able to reuse this secret in all of your notebooks.\n",
      "Please note that authentication is recommended but still optional to access public models or datasets.\n",
      "  warnings.warn(\n"
     ]
    },
    {
     "data": {
      "application/vnd.jupyter.widget-view+json": {
       "model_id": "ab3a4271f9d446ba9b7acb2c6957c19f",
       "version_major": 2,
       "version_minor": 0
      },
      "text/plain": [
       "README.md:   0%|          | 0.00/7.72k [00:00<?, ?B/s]"
      ]
     },
     "metadata": {},
     "output_type": "display_data"
    },
    {
     "data": {
      "application/vnd.jupyter.widget-view+json": {
       "model_id": "1721bcc3edb2427b9558410ffc140efa",
       "version_major": 2,
       "version_minor": 0
      },
      "text/plain": [
       "train.jsonl.zst:   0%|          | 0.00/149M [00:00<?, ?B/s]"
      ]
     },
     "metadata": {},
     "output_type": "display_data"
    },
    {
     "data": {
      "application/vnd.jupyter.widget-view+json": {
       "model_id": "0915c05099174b7c86363433252a2ad5",
       "version_major": 2,
       "version_minor": 0
      },
      "text/plain": [
       "test.jsonl.zst:   0%|          | 0.00/37.3M [00:00<?, ?B/s]"
      ]
     },
     "metadata": {},
     "output_type": "display_data"
    },
    {
     "data": {
      "application/vnd.jupyter.widget-view+json": {
       "model_id": "29d6de2ee8694af8a5777d9f69de771f",
       "version_major": 2,
       "version_minor": 0
      },
      "text/plain": [
       "Generating train split:   0%|          | 0/1686856 [00:00<?, ? examples/s]"
      ]
     },
     "metadata": {},
     "output_type": "display_data"
    },
    {
     "data": {
      "application/vnd.jupyter.widget-view+json": {
       "model_id": "b8dc4d702bcf4a64bd3bbbb58b5383bf",
       "version_major": 2,
       "version_minor": 0
      },
      "text/plain": [
       "Generating test split:   0%|          | 0/421715 [00:00<?, ? examples/s]"
      ]
     },
     "metadata": {},
     "output_type": "display_data"
    },
    {
     "name": "stdout",
     "output_type": "stream",
     "text": [
      "DatasetDict({\n",
      "    train: Dataset({\n",
      "        features: ['id', 'english', 'french', 'source', 'translation_quality', 'readability_grade'],\n",
      "        num_rows: 1686856\n",
      "    })\n",
      "    test: Dataset({\n",
      "        features: ['id', 'english', 'french', 'source', 'translation_quality', 'readability_grade'],\n",
      "        num_rows: 421715\n",
      "    })\n",
      "})\n"
     ]
    }
   ],
   "source": [
    "from datasets import load_dataset\n",
    "\n",
    "# Loads train/validation/test splits with translation field\n",
    "dataset = load_dataset(\"agentlans/en-fr\")\n",
    "print(dataset)"
   ]
  },
  {
   "cell_type": "code",
   "execution_count": null,
   "metadata": {
    "id": "kQIVLiyn33Z3"
   },
   "outputs": [],
   "source": [
    "small_train = dataset[\"train\"].shuffle(seed=42).select(range(14_000))\n",
    "small_test = dataset[\"test\"].shuffle(seed=42).select(range(5_000))"
   ]
  },
  {
   "cell_type": "code",
   "execution_count": null,
   "metadata": {
    "id": "dNa_ENKQ34bQ"
   },
   "outputs": [],
   "source": [
    "small_dataset = {\n",
    "    \"train\": small_train,\n",
    "    \"test\": small_test\n",
    "}"
   ]
  },
  {
   "cell_type": "code",
   "execution_count": null,
   "metadata": {
    "colab": {
     "base_uri": "https://localhost:8080/"
    },
    "executionInfo": {
     "elapsed": 10,
     "status": "ok",
     "timestamp": 1750304487246,
     "user": {
      "displayName": "Balaji Pravinya Madala 4-Yr B.Tech.: Pharmaceutical Engg. & Tech.,IIT(BHU",
      "userId": "02023745050169837861"
     },
     "user_tz": -330
    },
    "id": "INEPj0SF38cF",
    "outputId": "a622d451-1e92-4fc0-e0dd-760c8228047a"
   },
   "outputs": [
    {
     "name": "stdout",
     "output_type": "stream",
     "text": [
      "{'id': 526884, 'english': 'The project will also involve extensive demonstration carried out within the framework of TEN-TELECOM, which provides a series of guidelines for developing trans-European telecommunications networks.', 'french': \"Le projet fera également appel à d'importantes activités de démonstration menées dans le cadre de RTE-TELECOM, qui fournit un ensemble d'orientations pour le développement des réseaux transeuropéens de télécommunications.\", 'source': 'ELRC-1118-CORDIS_News', 'translation_quality': 0.8736, 'readability_grade': 19.24}\n",
      "14000\n",
      "5000\n"
     ]
    }
   ],
   "source": [
    "print(small_dataset[\"train\"][0])\n",
    "print(len(small_dataset[\"train\"]))  \n",
    "print(len(small_dataset[\"test\"]))   "
   ]
  },
  {
   "cell_type": "code",
   "execution_count": null,
   "metadata": {
    "colab": {
     "base_uri": "https://localhost:8080/"
    },
    "executionInfo": {
     "elapsed": 10,
     "status": "ok",
     "timestamp": 1750304490964,
     "user": {
      "displayName": "Balaji Pravinya Madala 4-Yr B.Tech.: Pharmaceutical Engg. & Tech.,IIT(BHU",
      "userId": "02023745050169837861"
     },
     "user_tz": -330
    },
    "id": "eaaTFkaG3_jb",
    "outputId": "843775e9-0a8b-4f17-9f95-0ae33a024ce7"
   },
   "outputs": [
    {
     "name": "stdout",
     "output_type": "stream",
     "text": [
      "Length of the validation dataset: 2500\n",
      "Length of the test dataset: 2500\n"
     ]
    }
   ],
   "source": [
    "split_2=small_dataset['test'].train_test_split(test_size=0.5,seed=42)\n",
    "\n",
    "validation_dataset=split_2[\"train\"]\n",
    "\n",
    "test_dataset=split_2[\"test\"]\n",
    "\n",
    "print(f\"Length of the validation dataset: {len(validation_dataset)}\")\n",
    "\n",
    "print(f\"Length of the test dataset: {len(test_dataset)}\")"
   ]
  },
  {
   "cell_type": "code",
   "execution_count": null,
   "metadata": {
    "colab": {
     "base_uri": "https://localhost:8080/"
    },
    "executionInfo": {
     "elapsed": 16,
     "status": "ok",
     "timestamp": 1750304493060,
     "user": {
      "displayName": "Balaji Pravinya Madala 4-Yr B.Tech.: Pharmaceutical Engg. & Tech.,IIT(BHU",
      "userId": "02023745050169837861"
     },
     "user_tz": -330
    },
    "id": "TnAXCkjY4CtT",
    "outputId": "eaae2fc4-4b9a-4ddc-c4c7-de7bce5e0d2b"
   },
   "outputs": [
    {
     "name": "stdout",
     "output_type": "stream",
     "text": [
      "Dataset({\n",
      "    features: ['id', 'english', 'french', 'source', 'translation_quality', 'readability_grade'],\n",
      "    num_rows: 14000\n",
      "})\n"
     ]
    }
   ],
   "source": [
    "train_dataset=small_dataset[\"train\"]\n",
    "print(train_dataset)"
   ]
  },
  {
   "cell_type": "code",
   "execution_count": null,
   "metadata": {
    "colab": {
     "base_uri": "https://localhost:8080/"
    },
    "executionInfo": {
     "elapsed": 10,
     "status": "ok",
     "timestamp": 1750304495073,
     "user": {
      "displayName": "Balaji Pravinya Madala 4-Yr B.Tech.: Pharmaceutical Engg. & Tech.,IIT(BHU",
      "userId": "02023745050169837861"
     },
     "user_tz": -330
    },
    "id": "NjsMCtGI4FfP",
    "outputId": "6bac72f9-99ac-4123-839d-84c79ed96e89"
   },
   "outputs": [
    {
     "name": "stdout",
     "output_type": "stream",
     "text": [
      "DatasetDict({\n",
      "    train: Dataset({\n",
      "        features: ['id', 'english', 'french', 'source', 'translation_quality', 'readability_grade'],\n",
      "        num_rows: 14000\n",
      "    })\n",
      "    validation: Dataset({\n",
      "        features: ['id', 'english', 'french', 'source', 'translation_quality', 'readability_grade'],\n",
      "        num_rows: 2500\n",
      "    })\n",
      "    test: Dataset({\n",
      "        features: ['id', 'english', 'french', 'source', 'translation_quality', 'readability_grade'],\n",
      "        num_rows: 2500\n",
      "    })\n",
      "})\n"
     ]
    }
   ],
   "source": [
    "from datasets import DatasetDict\n",
    "\n",
    "final_dataset=DatasetDict({\n",
    "    \"train\":train_dataset,\n",
    "    \"validation\":validation_dataset,\n",
    "    \"test\":test_dataset\n",
    "})\n",
    "\n",
    "print(final_dataset)"
   ]
  },
  {
   "cell_type": "code",
   "execution_count": null,
   "metadata": {
    "id": "yCzlB0184IIQ"
   },
   "outputs": [],
   "source": [
    "##converting to csv for flexible usage\n",
    "\n",
    "train_dataset=final_dataset[\"train\"].to_pandas()\n",
    "\n",
    "validation_dataset=final_dataset[\"validation\"].to_pandas()\n",
    "\n",
    "test_dataset=final_dataset[\"test\"].to_pandas()"
   ]
  },
  {
   "cell_type": "code",
   "execution_count": null,
   "metadata": {
    "id": "g5MfkP5n4LR1"
   },
   "outputs": [],
   "source": [
    "train_dataset.drop(['id','source','translation_quality','readability_grade'],axis=1,inplace=True)\n",
    "\n",
    "validation_dataset.drop(['id','source','translation_quality','readability_grade'],axis=1,inplace=True)\n",
    "\n",
    "test_dataset.drop(['id','source','translation_quality','readability_grade'],axis=1,inplace=True)"
   ]
  },
  {
   "cell_type": "code",
   "execution_count": null,
   "metadata": {
    "id": "ung-A7pD4OlR"
   },
   "outputs": [],
   "source": [
    "train_dataset.columns=['en','fr']\n",
    "\n",
    "validation_dataset.columns=['en','fr']\n",
    "\n",
    "test_dataset.columns=['en','fr']"
   ]
  },
  {
   "cell_type": "code",
   "execution_count": null,
   "metadata": {
    "colab": {
     "base_uri": "https://localhost:8080/"
    },
    "executionInfo": {
     "elapsed": 12022,
     "status": "ok",
     "timestamp": 1750304515192,
     "user": {
      "displayName": "Balaji Pravinya Madala 4-Yr B.Tech.: Pharmaceutical Engg. & Tech.,IIT(BHU",
      "userId": "02023745050169837861"
     },
     "user_tz": -330
    },
    "id": "K_yC9S4XHM6a",
    "outputId": "fa65bf60-1660-46c3-9bae-af3cacb9fdd0"
   },
   "outputs": [
    {
     "name": "stdout",
     "output_type": "stream",
     "text": [
      "Collecting fr-core-news-sm==3.8.0\n",
      "  Downloading https://github.com/explosion/spacy-models/releases/download/fr_core_news_sm-3.8.0/fr_core_news_sm-3.8.0-py3-none-any.whl (16.3 MB)\n",
      "\u001b[2K     \u001b[90m━━━━━━━━━━━━━━━━━━━━━━━━━━━━━━━━━━━━━━━━\u001b[0m \u001b[32m16.3/16.3 MB\u001b[0m \u001b[31m62.7 MB/s\u001b[0m eta \u001b[36m0:00:00\u001b[0m\n",
      "\u001b[?25hInstalling collected packages: fr-core-news-sm\n",
      "Successfully installed fr-core-news-sm-3.8.0\n",
      "\u001b[38;5;2m✔ Download and installation successful\u001b[0m\n",
      "You can now load the package via spacy.load('fr_core_news_sm')\n",
      "\u001b[38;5;3m⚠ Restart to reload dependencies\u001b[0m\n",
      "If you are in a Jupyter or Colab notebook, you may need to restart Python in\n",
      "order to load all the package's dependencies. You can do this by selecting the\n",
      "'Restart kernel' or 'Restart runtime' option.\n"
     ]
    }
   ],
   "source": [
    "!python -m spacy download fr_core_news_sm"
   ]
  },
  {
   "cell_type": "code",
   "execution_count": null,
   "metadata": {
    "id": "VC9-2kBgFfNt"
   },
   "outputs": [],
   "source": [
    "import spacy\n",
    "\n",
    "# Load SpaCy tokenizers\n",
    "nlp_en = spacy.load(\"en_core_web_sm\")\n",
    "nlp_fr = spacy.load(\"fr_core_news_sm\")\n"
   ]
  },
  {
   "cell_type": "code",
   "execution_count": null,
   "metadata": {
    "id": "Xi0EQjvEFgrO"
   },
   "outputs": [],
   "source": [
    "def tokenize_spacy(text, nlp):\n",
    "    return [token.text for token in nlp(text.strip()) if not token.is_space]"
   ]
  },
  {
   "cell_type": "code",
   "execution_count": null,
   "metadata": {
    "id": "Did-QcyQFjLN"
   },
   "outputs": [],
   "source": [
    "from collections import Counter\n",
    "\n",
    "def build_vocab_spacy(sentences, nlp, min_freq=1):\n",
    "    counter = Counter()\n",
    "    for sentence in sentences:\n",
    "        tokens = tokenize_spacy(sentence, nlp)\n",
    "        counter.update(tokens)\n",
    "\n",
    "    vocab = {\"<pad>\": 0, \"<unk>\": 1, \"<sos>\": 2, \"<eos>\": 3}\n",
    "    for word, freq in counter.items():\n",
    "        if freq >= min_freq:\n",
    "            vocab[word] = len(vocab)\n",
    "    return vocab"
   ]
  },
  {
   "cell_type": "code",
   "execution_count": null,
   "metadata": {
    "id": "VwbdjDdhFmU9"
   },
   "outputs": [],
   "source": [
    "en_vocab = build_vocab_spacy(train_dataset[\"en\"], nlp_en)\n",
    "fr_vocab = build_vocab_spacy(train_dataset[\"fr\"], nlp_fr)"
   ]
  },
  {
   "cell_type": "code",
   "execution_count": null,
   "metadata": {
    "id": "nMK4iev5FozH"
   },
   "outputs": [],
   "source": [
    "MAX_LEN = 100\n",
    "\n",
    "def encode_spacy(sentence, vocab, nlp, max_len=MAX_LEN):\n",
    "    tokens = [\"<sos>\"] + tokenize_spacy(sentence, nlp) + [\"<eos>\"]\n",
    "    token_ids = [vocab.get(token, vocab[\"<unk>\"]) for token in tokens]\n",
    "    token_ids = token_ids[:max_len]\n",
    "    token_ids += [vocab[\"<pad>\"]] * (max_len - len(token_ids))\n",
    "    return token_ids"
   ]
  },
  {
   "cell_type": "code",
   "execution_count": null,
   "metadata": {
    "id": "MK9mUfyUFsGX"
   },
   "outputs": [],
   "source": [
    "# Train Set\n",
    "train_dataset[\"input_ids_en\"] = train_dataset[\"en\"].apply(lambda x: encode_spacy(x, en_vocab, nlp_en))\n",
    "train_dataset[\"input_ids_fr\"] = train_dataset[\"fr\"].apply(lambda x: encode_spacy(x, fr_vocab, nlp_fr))\n",
    "\n",
    "# Validation Set\n",
    "validation_dataset[\"input_ids_en\"] = validation_dataset[\"en\"].apply(lambda x: encode_spacy(x, en_vocab, nlp_en))\n",
    "validation_dataset[\"input_ids_fr\"] = validation_dataset[\"fr\"].apply(lambda x: encode_spacy(x, fr_vocab, nlp_fr))\n",
    "\n",
    "# Test Set\n",
    "test_dataset[\"input_ids_en\"] = test_dataset[\"en\"].apply(lambda x: encode_spacy(x, en_vocab, nlp_en))\n",
    "test_dataset[\"input_ids_fr\"] = test_dataset[\"fr\"].apply(lambda x: encode_spacy(x, fr_vocab, nlp_fr))\n"
   ]
  },
  {
   "cell_type": "code",
   "execution_count": null,
   "metadata": {
    "id": "8BudGAPN4a8B"
   },
   "outputs": [],
   "source": [
    "from torch.utils.data import Dataset,DataLoader\n",
    "import torch.nn as nn"
   ]
  },
  {
   "cell_type": "code",
   "execution_count": null,
   "metadata": {
    "id": "S9NwOpRi4jiI"
   },
   "outputs": [],
   "source": [
    "class TranslationDataset(Dataset):\n",
    "    def __init__(self, encoded_en, encoded_fr):\n",
    "        self.en_data = encoded_en\n",
    "        self.fr_data = encoded_fr\n",
    "\n",
    "    def __len__(self):\n",
    "        return len(self.en_data)\n",
    "\n",
    "    def __getitem__(self, idx):\n",
    "        return {\n",
    "            \"input_ids_en\": torch.tensor(self.en_data[idx], dtype=torch.long),\n",
    "            \"input_ids_fr\": torch.tensor(self.fr_data[idx], dtype=torch.long)\n",
    "        }\n"
   ]
  },
  {
   "cell_type": "code",
   "execution_count": null,
   "metadata": {
    "colab": {
     "base_uri": "https://localhost:8080/"
    },
    "executionInfo": {
     "elapsed": 11,
     "status": "ok",
     "timestamp": 1750305156294,
     "user": {
      "displayName": "Balaji Pravinya Madala 4-Yr B.Tech.: Pharmaceutical Engg. & Tech.,IIT(BHU",
      "userId": "02023745050169837861"
     },
     "user_tz": -330
    },
    "id": "gRXY1tmy4mQo",
    "outputId": "91fd683b-dd55-4982-f65d-d5085354b6ad"
   },
   "outputs": [
    {
     "name": "stdout",
     "output_type": "stream",
     "text": [
      "cuda\n"
     ]
    }
   ],
   "source": [
    "\"\"\"Okay-system calculations very important-utilizing the GPU\"\"\"\n",
    "import torch\n",
    "\n",
    "device='cuda' if torch.cuda.is_available() else 'cpu'\n",
    "\n",
    "print(device)"
   ]
  },
  {
   "cell_type": "code",
   "execution_count": null,
   "metadata": {
    "id": "Ut-bopVL4o2p"
   },
   "outputs": [],
   "source": [
    "\"\"\"Generating iterators for the dataloader that would load the data in batches whilst training, first lets just create a cutom dataset from the encoded_train\n",
    "(tokenized pre-processed dataset)\"\"\"\n",
    "\n",
    "train_dataset_pt = TranslationDataset(\n",
    "    train_dataset[\"input_ids_en\"].tolist(),\n",
    "    train_dataset[\"input_ids_fr\"].tolist()\n",
    ")\n",
    "\n",
    "train_loader = DataLoader(train_dataset_pt, batch_size=4, shuffle=True,num_workers=2,pin_memory='cuda')\n"
   ]
  },
  {
   "cell_type": "code",
   "execution_count": null,
   "metadata": {
    "id": "NY_jHAP24rq8"
   },
   "outputs": [],
   "source": [
    "import torch\n",
    "import torch.nn as nn\n",
    "\n",
    "class Encoder(nn.Module):\n",
    "    def __init__(self, vocab_size, hidden_dim, num_layers=2, embed_dim=768, pad_token_id=0):\n",
    "        super().__init__()\n",
    "\n",
    "        # Trainable Embedding Layer\n",
    "        self.embedding = nn.Embedding(\n",
    "            num_embeddings=vocab_size,\n",
    "            embedding_dim=embed_dim,\n",
    "            padding_idx=pad_token_id\n",
    "        )\n",
    "\n",
    "        # Bidirectional LSTM\n",
    "        self.bilstm = nn.LSTM(\n",
    "            input_size=embed_dim,\n",
    "            hidden_size=hidden_dim,\n",
    "            num_layers=num_layers,\n",
    "            bidirectional=True,\n",
    "            batch_first=True\n",
    "        )\n",
    "\n",
    "    def forward(self, input_ids):\n",
    "        # input_ids: (batch_size, seq_len)\n",
    "        embedded = self.embedding(input_ids)  # (batch_size, seq_len, embed_dim)\n",
    "        output, (hidden, cell) = self.bilstm(embedded)  # hidden: (num_layers*2, batch_size, hidden_dim)\n",
    "\n",
    "        # Concatenate last forward and backward hidden states from the final LSTM layer\n",
    "        # hidden[-2] = forward final layer, hidden[-1] = backward final layer\n",
    "        last_fwd = hidden[-2]  # (batch_size, hidden_dim)\n",
    "        last_bwd = hidden[-1]  # (batch_size, hidden_dim)\n",
    "        final_hidden = torch.cat((last_fwd, last_bwd), dim=1)  # (batch_size, hidden_dim*2)\n",
    "\n",
    "        return final_hidden\n"
   ]
  },
  {
   "cell_type": "code",
   "execution_count": null,
   "metadata": {
    "id": "oHQpp2tU4uUK"
   },
   "outputs": [],
   "source": [
    "class BridgeLayer(nn.Module):\n",
    "    def __init__(self, encoder_output_dim, decoder_hidden_dim, num_layers=2):\n",
    "        super().__init__()\n",
    "        self.hidden_fc = nn.Linear(encoder_output_dim, decoder_hidden_dim)\n",
    "        self.cell_fc = nn.Linear(encoder_output_dim, decoder_hidden_dim)\n",
    "        self.num_layers = num_layers\n",
    "\n",
    "    def forward(self, encoder_final):\n",
    "        \"\"\"\n",
    "        Args:\n",
    "            encoder_final: (batch_size, encoder_output_dim)\n",
    "\n",
    "        Returns:\n",
    "            h_0: (num_layers, batch_size, decoder_hidden_dim)\n",
    "            c_0: (num_layers, batch_size, decoder_hidden_dim)\n",
    "        \"\"\"\n",
    "        h_0_single = self.hidden_fc(encoder_final).unsqueeze(0)  # (1, batch, hidden_dim)\n",
    "        c_0_single = self.cell_fc(encoder_final).unsqueeze(0)\n",
    "\n",
    "        h_0 = h_0_single.repeat(self.num_layers, 1, 1)  # (num_layers, batch, hidden_dim)\n",
    "        c_0 = c_0_single.repeat(self.num_layers, 1, 1)\n",
    "\n",
    "        return h_0, c_0"
   ]
  },
  {
   "cell_type": "code",
   "execution_count": null,
   "metadata": {
    "id": "aqNlbZfg4w9f"
   },
   "outputs": [],
   "source": [
    "import torch\n",
    "import torch.nn as nn\n",
    "\n",
    "class Decoder(nn.Module):\n",
    "    def __init__(self, hidden_dim, output_dim, pad_token_id, bos_token_id, eos_token_id,\n",
    "                 num_layers=2, max_len=90, embed_dim=768, device='cuda'):\n",
    "        super().__init__()\n",
    "\n",
    "        self.device = device\n",
    "        self.vocab_size = output_dim\n",
    "        self.embedding_dim = embed_dim\n",
    "        self.hidden_dim = hidden_dim\n",
    "        self.max_len = max_len\n",
    "        self.num_layers = num_layers\n",
    "\n",
    "        self.pad_token_id = pad_token_id\n",
    "        self.bos_token_id = bos_token_id\n",
    "        self.eos_token_id = eos_token_id\n",
    "\n",
    "        self.embedding = nn.Embedding(self.vocab_size, self.embedding_dim, padding_idx=pad_token_id)\n",
    "\n",
    "        self.lstm = nn.LSTM(\n",
    "            input_size=self.embedding_dim,\n",
    "            hidden_size=hidden_dim,\n",
    "            num_layers=num_layers,\n",
    "            batch_first=True,\n",
    "            bidirectional=False\n",
    "        )\n",
    "\n",
    "        self.fc = nn.Linear(hidden_dim, self.vocab_size)\n",
    "\n",
    "    def forward(self, input_ids_decoder, h_0, c_0):\n",
    "        \"\"\"\n",
    "        Args:\n",
    "            input_ids_decoder: (batch_size, tgt_seq_len)\n",
    "            h_0, c_0: (num_layers, batch_size, hidden_dim) — from BridgeLayer\n",
    "        \"\"\"\n",
    "        embeddings = self.embedding(input_ids_decoder)  # (batch_size, seq_len, embed_dim)\n",
    "        lstm_out, _ = self.lstm(embeddings, (h_0, c_0))\n",
    "        logits = self.fc(lstm_out)  # (batch_size, seq_len, vocab_size)\n",
    "        return logits\n",
    "\n",
    "    def generate(self, h_0, c_0):\n",
    "        \"\"\"\n",
    "        Greedy decoding using initial hidden and cell states from BridgeLayer.\n",
    "        \"\"\"\n",
    "        self.eval()\n",
    "        batch_size = h_0.size(1)\n",
    "\n",
    "        generated_ids = torch.full((batch_size, 1), self.bos_token_id, dtype=torch.long).to(self.device)\n",
    "        finished = torch.zeros(batch_size, dtype=torch.bool).to(self.device)\n",
    "\n",
    "        for _ in range(self.max_len):\n",
    "            embeddings = self.embedding(generated_ids[:, -1:])  # Only last token\n",
    "            lstm_out, (h_0, c_0) = self.lstm(embeddings, (h_0, c_0))\n",
    "\n",
    "            logits = self.fc(lstm_out[:, -1, :])  # (batch, vocab)\n",
    "            next_token_id = torch.argmax(logits, dim=-1).unsqueeze(1)\n",
    "\n",
    "            generated_ids = torch.cat((generated_ids, next_token_id), dim=1)\n",
    "            finished |= (next_token_id.squeeze() == self.eos_token_id)\n",
    "            if finished.all():\n",
    "                break\n",
    "\n",
    "        return generated_ids[:, 1:]  # remove <bos>\n"
   ]
  },
  {
   "cell_type": "code",
   "execution_count": null,
   "metadata": {
    "colab": {
     "base_uri": "https://localhost:8080/"
    },
    "executionInfo": {
     "elapsed": 3683,
     "status": "ok",
     "timestamp": 1750305171743,
     "user": {
      "displayName": "Balaji Pravinya Madala 4-Yr B.Tech.: Pharmaceutical Engg. & Tech.,IIT(BHU",
      "userId": "02023745050169837861"
     },
     "user_tz": -330
    },
    "id": "4nwzyn6I40fe",
    "outputId": "207251fa-5967-4a95-afb0-bfc15913ae19"
   },
   "outputs": [
    {
     "name": "stderr",
     "output_type": "stream",
     "text": [
      "[nltk_data] Downloading package punkt to /root/nltk_data...\n",
      "[nltk_data]   Unzipping tokenizers/punkt.zip.\n"
     ]
    }
   ],
   "source": [
    "import nltk\n",
    "nltk.download('punkt')\n",
    "\n",
    "from nltk.translate.bleu_score import sentence_bleu, corpus_bleu\n",
    "from nltk.tokenize import word_tokenize"
   ]
  },
  {
   "cell_type": "code",
   "execution_count": null,
   "metadata": {
    "colab": {
     "base_uri": "https://localhost:8080/"
    },
    "executionInfo": {
     "elapsed": 4066692,
     "status": "ok",
     "timestamp": 1750309251601,
     "user": {
      "displayName": "Balaji Pravinya Madala 4-Yr B.Tech.: Pharmaceutical Engg. & Tech.,IIT(BHU",
      "userId": "02023745050169837861"
     },
     "user_tz": -330
    },
    "id": "sZLExFjk43ak",
    "outputId": "7a60a0a7-04d9-4380-88b1-0f9032b8d667"
   },
   "outputs": [
    {
     "name": "stderr",
     "output_type": "stream",
     "text": [
      "100%|██████████| 3500/3500 [04:47<00:00, 12.15it/s]\n"
     ]
    },
    {
     "name": "stdout",
     "output_type": "stream",
     "text": [
      "Epoch 1 - Avg Loss: 6.2260\n"
     ]
    },
    {
     "name": "stderr",
     "output_type": "stream",
     "text": [
      "100%|██████████| 3500/3500 [04:51<00:00, 12.01it/s]\n"
     ]
    },
    {
     "name": "stdout",
     "output_type": "stream",
     "text": [
      "Epoch 2 - Avg Loss: 5.2407\n"
     ]
    },
    {
     "name": "stderr",
     "output_type": "stream",
     "text": [
      "100%|██████████| 3500/3500 [04:51<00:00, 12.00it/s]\n"
     ]
    },
    {
     "name": "stdout",
     "output_type": "stream",
     "text": [
      "Epoch 3 - Avg Loss: 4.7041\n"
     ]
    },
    {
     "name": "stderr",
     "output_type": "stream",
     "text": [
      "100%|██████████| 3500/3500 [04:50<00:00, 12.06it/s]\n"
     ]
    },
    {
     "name": "stdout",
     "output_type": "stream",
     "text": [
      "Epoch 4 - Avg Loss: 4.2146\n"
     ]
    },
    {
     "name": "stderr",
     "output_type": "stream",
     "text": [
      "100%|██████████| 3500/3500 [04:49<00:00, 12.07it/s]\n"
     ]
    },
    {
     "name": "stdout",
     "output_type": "stream",
     "text": [
      "Epoch 5 - Avg Loss: 3.7567\n"
     ]
    },
    {
     "name": "stderr",
     "output_type": "stream",
     "text": [
      "100%|██████████| 3500/3500 [04:49<00:00, 12.09it/s]\n"
     ]
    },
    {
     "name": "stdout",
     "output_type": "stream",
     "text": [
      "Epoch 6 - Avg Loss: 3.3061\n"
     ]
    },
    {
     "name": "stderr",
     "output_type": "stream",
     "text": [
      "100%|██████████| 3500/3500 [04:49<00:00, 12.08it/s]\n"
     ]
    },
    {
     "name": "stdout",
     "output_type": "stream",
     "text": [
      "Epoch 7 - Avg Loss: 2.8722\n"
     ]
    },
    {
     "name": "stderr",
     "output_type": "stream",
     "text": [
      "100%|██████████| 3500/3500 [04:50<00:00, 12.07it/s]\n"
     ]
    },
    {
     "name": "stdout",
     "output_type": "stream",
     "text": [
      "Epoch 8 - Avg Loss: 2.4753\n"
     ]
    },
    {
     "name": "stderr",
     "output_type": "stream",
     "text": [
      "100%|██████████| 3500/3500 [04:49<00:00, 12.08it/s]\n"
     ]
    },
    {
     "name": "stdout",
     "output_type": "stream",
     "text": [
      "Epoch 9 - Avg Loss: 2.1177\n"
     ]
    },
    {
     "name": "stderr",
     "output_type": "stream",
     "text": [
      "100%|██████████| 3500/3500 [04:49<00:00, 12.09it/s]\n"
     ]
    },
    {
     "name": "stdout",
     "output_type": "stream",
     "text": [
      "Epoch 10 - Avg Loss: 1.7956\n"
     ]
    },
    {
     "name": "stderr",
     "output_type": "stream",
     "text": [
      "100%|██████████| 3500/3500 [04:50<00:00, 12.04it/s]\n"
     ]
    },
    {
     "name": "stdout",
     "output_type": "stream",
     "text": [
      "Epoch 11 - Avg Loss: 1.5112\n"
     ]
    },
    {
     "name": "stderr",
     "output_type": "stream",
     "text": [
      "100%|██████████| 3500/3500 [04:50<00:00, 12.06it/s]\n"
     ]
    },
    {
     "name": "stdout",
     "output_type": "stream",
     "text": [
      "Epoch 12 - Avg Loss: 1.2626\n"
     ]
    },
    {
     "name": "stderr",
     "output_type": "stream",
     "text": [
      "100%|██████████| 3500/3500 [04:50<00:00, 12.07it/s]\n"
     ]
    },
    {
     "name": "stdout",
     "output_type": "stream",
     "text": [
      "Epoch 13 - Avg Loss: 1.0429\n"
     ]
    },
    {
     "name": "stderr",
     "output_type": "stream",
     "text": [
      "100%|██████████| 3500/3500 [04:49<00:00, 12.08it/s]"
     ]
    },
    {
     "name": "stdout",
     "output_type": "stream",
     "text": [
      "Epoch 14 - Avg Loss: 0.8560\n"
     ]
    },
    {
     "name": "stderr",
     "output_type": "stream",
     "text": [
      "\n"
     ]
    }
   ],
   "source": [
    "device = torch.device(\"cuda\" if torch.cuda.is_available() else \"cpu\")\n",
    "from tqdm import tqdm\n",
    "\n",
    "encoder_model = Encoder(\n",
    "    vocab_size=len(en_vocab),\n",
    "    hidden_dim=512,\n",
    "    num_layers=2,\n",
    "    embed_dim=768,\n",
    "    pad_token_id=en_vocab[\"<pad>\"]\n",
    ").to(device)\n",
    "\n",
    "bridge_layer = BridgeLayer(\n",
    "    encoder_output_dim=1024,\n",
    "    decoder_hidden_dim=512,\n",
    "    num_layers=2  # Match decoder layers\n",
    ").to(device)\n",
    "\n",
    "decoder_model = Decoder(\n",
    "    hidden_dim=512,\n",
    "    output_dim=len(fr_vocab),\n",
    "    pad_token_id=fr_vocab[\"<pad>\"],\n",
    "    bos_token_id=fr_vocab[\"<sos>\"],\n",
    "    eos_token_id=fr_vocab[\"<eos>\"],\n",
    "    embed_dim=768,\n",
    "    num_layers=2,\n",
    "    max_len=90,\n",
    "    device=device\n",
    ").to(device)\n",
    "\n",
    "params = list(encoder_model.parameters()) + \\\n",
    "         list(bridge_layer.parameters()) + \\\n",
    "         list(decoder_model.parameters())\n",
    "\n",
    "optimizer = torch.optim.Adam(params, lr=0.0003)\n",
    "criterion = nn.CrossEntropyLoss(ignore_index=fr_vocab[\"<pad>\"])\n",
    "epochs = 14\n",
    "losses = []\n",
    "\n",
    "for epoch in range(epochs):\n",
    "    encoder_model.train()\n",
    "    bridge_layer.train()\n",
    "    decoder_model.train()\n",
    "\n",
    "    total_loss = 0\n",
    "    for batch in tqdm(train_loader):\n",
    "        input_ids_en = batch[\"input_ids_en\"].to(device)\n",
    "        input_ids_fr = batch[\"input_ids_fr\"].to(device)\n",
    "\n",
    "        optimizer.zero_grad()\n",
    "\n",
    "        encoder_out = encoder_model(input_ids_en)  # (batch_size, 1024)\n",
    "\n",
    "        h_0, c_0 = bridge_layer(encoder_out)  # (num_layers, batch, hidden_dim)\n",
    "\n",
    "        decoder_out = decoder_model(input_ids_fr, h_0, c_0)  # (batch, seq, vocab)\n",
    "\n",
    "        target_ids = input_ids_fr[:, 1:]            # remove <sos>\n",
    "        predicted_logits = decoder_out[:, :-1, :]   # remove last time step\n",
    "\n",
    "        #Compute loss\n",
    "        loss = criterion(\n",
    "            predicted_logits.reshape(-1, predicted_logits.size(-1)),\n",
    "            target_ids.reshape(-1)\n",
    "        )\n",
    "\n",
    "        loss.backward()\n",
    "        optimizer.step()\n",
    "        total_loss += loss.item()\n",
    "\n",
    "    avg_loss = total_loss / len(train_loader)\n",
    "    losses.append(avg_loss)\n",
    "    print(f\"Epoch {epoch+1} - Avg Loss: {avg_loss:.4f}\")\n"
   ]
  },
  {
   "cell_type": "code",
   "execution_count": null,
   "metadata": {
    "colab": {
     "base_uri": "https://localhost:8080/",
     "height": 430
    },
    "executionInfo": {
     "elapsed": 214,
     "status": "ok",
     "timestamp": 1750309266722,
     "user": {
      "displayName": "Balaji Pravinya Madala 4-Yr B.Tech.: Pharmaceutical Engg. & Tech.,IIT(BHU",
      "userId": "02023745050169837861"
     },
     "user_tz": -330
    },
    "id": "SmSe10umLcqO",
    "outputId": "69a6528f-b968-4000-94fe-765174da1820"
   },
   "outputs": [
    {
     "data": {
      "image/png": "[encoded data removed]",
      "text/plain": [
       "<Figure size 640x480 with 1 Axes>"
      ]
     },
     "metadata": {},
     "output_type": "display_data"
    }
   ],
   "source": [
    "import matplotlib.pyplot as plt\n",
    "plt.plot(range(14),losses)\n",
    "plt.show()"
   ]
  },
  {
   "cell_type": "code",
   "execution_count": null,
   "metadata": {
    "id": "RoWlWd2zXYzS"
   },
   "outputs": [],
   "source": [
    "val_dataset_pt = TranslationDataset(\n",
    "    validation_dataset[\"input_ids_en\"].tolist(),\n",
    "    validation_dataset[\"input_ids_fr\"].tolist()\n",
    ")\n",
    "\n",
    "test_dataset_pt = TranslationDataset(\n",
    "    test_dataset[\"input_ids_en\"].tolist(),\n",
    "    test_dataset[\"input_ids_fr\"].tolist()\n",
    ")"
   ]
  },
  {
   "cell_type": "code",
   "execution_count": null,
   "metadata": {
    "id": "esynx1qMXzAz"
   },
   "outputs": [],
   "source": [
    "val_loader = DataLoader(val_dataset_pt, batch_size=2, shuffle=False)\n",
    "test_loader = DataLoader(test_dataset_pt, batch_size=2, shuffle=False)"
   ]
  },
  {
   "cell_type": "code",
   "execution_count": null,
   "metadata": {
    "id": "yRo3zZ9VX1xV"
   },
   "outputs": [],
   "source": [
    "from nltk.translate.bleu_score import corpus_bleu, SmoothingFunction\n",
    "from tqdm import tqdm\n",
    "\n",
    "def decode_sentence(token_ids, vocab):\n",
    "    inv_vocab = {v: k for k, v in vocab.items()}\n",
    "    tokens = []\n",
    "    for token_id in token_ids:\n",
    "        token = inv_vocab.get(token_id.item(), \"<unk>\")\n",
    "        if token in [\"<pad>\", \"<sos>\"]:\n",
    "            continue\n",
    "        if token == \"<eos>\":\n",
    "            break\n",
    "        tokens.append(token)\n",
    "    return tokens\n",
    "\n",
    "def evaluate_bleu(encoder_model, bridge_layer, decoder_model, dataloader, en_vocab, fr_vocab, device):\n",
    "    encoder_model.eval()\n",
    "    bridge_layer.eval()\n",
    "    decoder_model.eval()\n",
    "\n",
    "    references = []\n",
    "    hypotheses = []\n",
    "\n",
    "    smoothie = SmoothingFunction().method4  # Apply BLEU smoothing\n",
    "\n",
    "    with torch.no_grad():\n",
    "        for batch in tqdm(dataloader):\n",
    "            input_ids_en = batch[\"input_ids_en\"].to(device)\n",
    "            input_ids_fr = batch[\"input_ids_fr\"].to(device)\n",
    "\n",
    "            #Encode + bridge\n",
    "            encoder_out = encoder_model(input_ids_en)\n",
    "            h_0, c_0 = bridge_layer(encoder_out)\n",
    "\n",
    "            # Generate from decoder with proper initial state\n",
    "            generated_ids = decoder_model.generate(h_0, c_0)\n",
    "\n",
    "            for gen, tgt in zip(generated_ids, input_ids_fr):\n",
    "                pred_tokens = decode_sentence(gen, fr_vocab)\n",
    "                tgt_tokens = decode_sentence(tgt, fr_vocab)\n",
    "\n",
    "                hypotheses.append(pred_tokens)\n",
    "                references.append([tgt_tokens])  # List of one reference per sentence\n",
    "\n",
    "    # Use smoothing in case of short matches or rare n-gram overlaps\n",
    "    bleu_score = corpus_bleu(references, hypotheses, smoothing_function=smoothie)\n",
    "    return bleu_score"
   ]
  },
  {
   "cell_type": "code",
   "execution_count": null,
   "metadata": {
    "colab": {
     "base_uri": "https://localhost:8080/"
    },
    "executionInfo": {
     "elapsed": 116351,
     "status": "ok",
     "timestamp": 1750309397704,
     "user": {
      "displayName": "Balaji Pravinya Madala 4-Yr B.Tech.: Pharmaceutical Engg. & Tech.,IIT(BHU",
      "userId": "02023745050169837861"
     },
     "user_tz": -330
    },
    "id": "-y_x6ebjX5Yz",
    "outputId": "94d96383-5734-4509-f4e9-72caa4eaae5e"
   },
   "outputs": [
    {
     "name": "stderr",
     "output_type": "stream",
     "text": [
      "100%|██████████| 1250/1250 [00:57<00:00, 21.56it/s]\n"
     ]
    },
    {
     "name": "stdout",
     "output_type": "stream",
     "text": [
      "Validation BLEU Score: 0.0135\n"
     ]
    },
    {
     "name": "stderr",
     "output_type": "stream",
     "text": [
      "100%|██████████| 1250/1250 [00:57<00:00, 21.65it/s]\n"
     ]
    },
    {
     "name": "stdout",
     "output_type": "stream",
     "text": [
      "Test BLEU Score: 0.0147\n"
     ]
    }
   ],
   "source": [
    "val_bleu = evaluate_bleu(encoder_model, bridge_layer, decoder_model, val_loader, en_vocab, fr_vocab, device)\n",
    "print(f\"Validation BLEU Score: {val_bleu:.4f}\")\n",
    "\n",
    "test_bleu = evaluate_bleu(encoder_model, bridge_layer, decoder_model, test_loader, en_vocab, fr_vocab, device)\n",
    "print(f\"Test BLEU Score: {test_bleu:.4f}\")"
   ]
  }
 ],
 "metadata": {
  "accelerator": "GPU",
  "colab": {
   "authorship_tag": "ABX9TyMo91Mk13KAOa4VkuWKXXEs",
   "gpuType": "T4",
   "provenance": []
  },
  "kernelspec": {
   "display_name": "Python 3",
   "name": "python3"
  },
  "language_info": {
   "name": "python"
  },
  "widgets": {
   "application/vnd.jupyter.widget-state+json": {
    "0160044de56f4ec6a268b5d51391bb5a": {
     "model_module": "@jupyter-widgets/controls",
     "model_module_version": "1.5.0",
     "model_name": "FloatProgressModel",
     "state": {
      "_dom_classes": [],
      "_model_module": "@jupyter-widgets/controls",
      "_model_module_version": "1.5.0",
      "_model_name": "FloatProgressModel",
      "_view_count": null,
      "_view_module": "@jupyter-widgets/controls",
      "_view_module_version": "1.5.0",
      "_view_name": "ProgressView",
      "bar_style": "success",
      "description": "",
      "description_tooltip": null,
      "layout": "IPY_MODEL_7144d34645f741ddb6f21261a1b58434",
      "max": 37268856,
      "min": 0,
      "orientation": "horizontal",
      "style": "IPY_MODEL_219bdd5b8d9e4c459ec1cca67d821b48",
      "value": 37268856
     }
    },
    "0403f29efa524d65856c77a78b437ad4": {
     "model_module": "@jupyter-widgets/controls",
     "model_module_version": "1.5.0",
     "model_name": "FloatProgressModel",
     "state": {
      "_dom_classes": [],
      "_model_module": "@jupyter-widgets/controls",
      "_model_module_version": "1.5.0",
      "_model_name": "FloatProgressModel",
      "_view_count": null,
      "_view_module": "@jupyter-widgets/controls",
      "_view_module_version": "1.5.0",
      "_view_name": "ProgressView",
      "bar_style": "success",
      "description": "",
      "description_tooltip": null,
      "layout": "IPY_MODEL_cb14d36fd14f4964b89fae0f4758ffcf",
      "max": 1686856,
      "min": 0,
      "orientation": "horizontal",
      "style": "IPY_MODEL_d49134ea0831483db17752a434aeef80",
      "value": 1686856
     }
    },
    "0915c05099174b7c86363433252a2ad5": {
     "model_module": "@jupyter-widgets/controls",
     "model_module_version": "1.5.0",
     "model_name": "HBoxModel",
     "state": {
      "_dom_classes": [],
      "_model_module": "@jupyter-widgets/controls",
      "_model_module_version": "1.5.0",
      "_model_name": "HBoxModel",
      "_view_count": null,
      "_view_module": "@jupyter-widgets/controls",
      "_view_module_version": "1.5.0",
      "_view_name": "HBoxView",
      "box_style": "",
      "children": [
       "IPY_MODEL_e670a24b3d104f1cb8ab95b7adcea567",
       "IPY_MODEL_0160044de56f4ec6a268b5d51391bb5a",
       "IPY_MODEL_3cd19b393c704fd6881d9dda1c5de36a"
      ],
      "layout": "IPY_MODEL_9125f1f6b94d4a4f935d330425eb3ff0"
     }
    },
    "0cda12ed98cb46399354e2bb61758b19": {
     "model_module": "@jupyter-widgets/controls",
     "model_module_version": "1.5.0",
     "model_name": "FloatProgressModel",
     "state": {
      "_dom_classes": [],
      "_model_module": "@jupyter-widgets/controls",
      "_model_module_version": "1.5.0",
      "_model_name": "FloatProgressModel",
      "_view_count": null,
      "_view_module": "@jupyter-widgets/controls",
      "_view_module_version": "1.5.0",
      "_view_name": "ProgressView",
      "bar_style": "success",
      "description": "",
      "description_tooltip": null,
      "layout": "IPY_MODEL_d3ff4b66fb8c4c83a2735f9bf25ced87",
      "max": 7719,
      "min": 0,
      "orientation": "horizontal",
      "style": "IPY_MODEL_d8358b999522419a8869b3757f53cba2",
      "value": 7719
     }
    },
    "162bc6a50b584f009673b0abbb27c158": {
     "model_module": "@jupyter-widgets/base",
     "model_module_version": "1.2.0",
     "model_name": "LayoutModel",
     "state": {
      "_model_module": "@jupyter-widgets/base",
      "_model_module_version": "1.2.0",
      "_model_name": "LayoutModel",
      "_view_count": null,
      "_view_module": "@jupyter-widgets/base",
      "_view_module_version": "1.2.0",
      "_view_name": "LayoutView",
      "align_content": null,
      "align_items": null,
      "align_self": null,
      "border": null,
      "bottom": null,
      "display": null,
      "flex": null,
      "flex_flow": null,
      "grid_area": null,
      "grid_auto_columns": null,
      "grid_auto_flow": null,
      "grid_auto_rows": null,
      "grid_column": null,
      "grid_gap": null,
      "grid_row": null,
      "grid_template_areas": null,
      "grid_template_columns": null,
      "grid_template_rows": null,
      "height": null,
      "justify_content": null,
      "justify_items": null,
      "left": null,
      "margin": null,
      "max_height": null,
      "max_width": null,
      "min_height": null,
      "min_width": null,
      "object_fit": null,
      "object_position": null,
      "order": null,
      "overflow": null,
      "overflow_x": null,
      "overflow_y": null,
      "padding": null,
      "right": null,
      "top": null,
      "visibility": null,
      "width": null
     }
    },
    "1721bcc3edb2427b9558410ffc140efa": {
     "model_module": "@jupyter-widgets/controls",
     "model_module_version": "1.5.0",
     "model_name": "HBoxModel",
     "state": {
      "_dom_classes": [],
      "_model_module": "@jupyter-widgets/controls",
      "_model_module_version": "1.5.0",
      "_model_name": "HBoxModel",
      "_view_count": null,
      "_view_module": "@jupyter-widgets/controls",
      "_view_module_version": "1.5.0",
      "_view_name": "HBoxView",
      "box_style": "",
      "children": [
       "IPY_MODEL_300d76510b8044f798ea7204a44d933c",
       "IPY_MODEL_5582cf7666ce40b68757a5ef01e499fd",
       "IPY_MODEL_c07f1aa276da44b990dd60748cd8edd1"
      ],
      "layout": "IPY_MODEL_ecf273ba6a26445ebd986bbf082ba507"
     }
    },
    "17dccba7d15b47cd854d4fcf2cfe8710": {
     "model_module": "@jupyter-widgets/controls",
     "model_module_version": "1.5.0",
     "model_name": "DescriptionStyleModel",
     "state": {
      "_model_module": "@jupyter-widgets/controls",
      "_model_module_version": "1.5.0",
      "_model_name": "DescriptionStyleModel",
      "_view_count": null,
      "_view_module": "@jupyter-widgets/base",
      "_view_module_version": "1.2.0",
      "_view_name": "StyleView",
      "description_width": ""
     }
    },
    "1828ea1ee83e40a48423b1984f7d1d71": {
     "model_module": "@jupyter-widgets/controls",
     "model_module_version": "1.5.0",
     "model_name": "ProgressStyleModel",
     "state": {
      "_model_module": "@jupyter-widgets/controls",
      "_model_module_version": "1.5.0",
      "_model_name": "ProgressStyleModel",
      "_view_count": null,
      "_view_module": "@jupyter-widgets/base",
      "_view_module_version": "1.2.0",
      "_view_name": "StyleView",
      "bar_color": null,
      "description_width": ""
     }
    },
    "219bdd5b8d9e4c459ec1cca67d821b48": {
     "model_module": "@jupyter-widgets/controls",
     "model_module_version": "1.5.0",
     "model_name": "ProgressStyleModel",
     "state": {
      "_model_module": "@jupyter-widgets/controls",
      "_model_module_version": "1.5.0",
      "_model_name": "ProgressStyleModel",
      "_view_count": null,
      "_view_module": "@jupyter-widgets/base",
      "_view_module_version": "1.2.0",
      "_view_name": "StyleView",
      "bar_color": null,
      "description_width": ""
     }
    },
    "22a0e92f641d4b7f99f1b22ff85fefc4": {
     "model_module": "@jupyter-widgets/controls",
     "model_module_version": "1.5.0",
     "model_name": "DescriptionStyleModel",
     "state": {
      "_model_module": "@jupyter-widgets/controls",
      "_model_module_version": "1.5.0",
      "_model_name": "DescriptionStyleModel",
      "_view_count": null,
      "_view_module": "@jupyter-widgets/base",
      "_view_module_version": "1.2.0",
      "_view_name": "StyleView",
      "description_width": ""
     }
    },
    "29d6de2ee8694af8a5777d9f69de771f": {
     "model_module": "@jupyter-widgets/controls",
     "model_module_version": "1.5.0",
     "model_name": "HBoxModel",
     "state": {
      "_dom_classes": [],
      "_model_module": "@jupyter-widgets/controls",
      "_model_module_version": "1.5.0",
      "_model_name": "HBoxModel",
      "_view_count": null,
      "_view_module": "@jupyter-widgets/controls",
      "_view_module_version": "1.5.0",
      "_view_name": "HBoxView",
      "box_style": "",
      "children": [
       "IPY_MODEL_2eca390c95c441f6b4aba670ca60fa6b",
       "IPY_MODEL_0403f29efa524d65856c77a78b437ad4",
       "IPY_MODEL_7a0d365710a94746ba8859ebd3ec03ab"
      ],
      "layout": "IPY_MODEL_29e098669f3a4a9aa6b508cc352731a5"
     }
    },
    "29e098669f3a4a9aa6b508cc352731a5": {
     "model_module": "@jupyter-widgets/base",
     "model_module_version": "1.2.0",
     "model_name": "LayoutModel",
     "state": {
      "_model_module": "@jupyter-widgets/base",
      "_model_module_version": "1.2.0",
      "_model_name": "LayoutModel",
      "_view_count": null,
      "_view_module": "@jupyter-widgets/base",
      "_view_module_version": "1.2.0",
      "_view_name": "LayoutView",
      "align_content": null,
      "align_items": null,
      "align_self": null,
      "border": null,
      "bottom": null,
      "display": null,
      "flex": null,
      "flex_flow": null,
      "grid_area": null,
      "grid_auto_columns": null,
      "grid_auto_flow": null,
      "grid_auto_rows": null,
      "grid_column": null,
      "grid_gap": null,
      "grid_row": null,
      "grid_template_areas": null,
      "grid_template_columns": null,
      "grid_template_rows": null,
      "height": null,
      "justify_content": null,
      "justify_items": null,
      "left": null,
      "margin": null,
      "max_height": null,
      "max_width": null,
      "min_height": null,
      "min_width": null,
      "object_fit": null,
      "object_position": null,
      "order": null,
      "overflow": null,
      "overflow_x": null,
      "overflow_y": null,
      "padding": null,
      "right": null,
      "top": null,
      "visibility": null,
      "width": null
     }
    },
    "2eca390c95c441f6b4aba670ca60fa6b": {
     "model_module": "@jupyter-widgets/controls",
     "model_module_version": "1.5.0",
     "model_name": "HTMLModel",
     "state": {
      "_dom_classes": [],
      "_model_module": "@jupyter-widgets/controls",
      "_model_module_version": "1.5.0",
      "_model_name": "HTMLModel",
      "_view_count": null,
      "_view_module": "@jupyter-widgets/controls",
      "_view_module_version": "1.5.0",
      "_view_name": "HTMLView",
      "description": "",
      "description_tooltip": null,
      "layout": "IPY_MODEL_162bc6a50b584f009673b0abbb27c158",
      "placeholder": "​",
      "style": "IPY_MODEL_dcd882f15cf44b25aab052ba70da3910",
      "value": "Generating train split: 100%"
     }
    },
    "300d76510b8044f798ea7204a44d933c": {
     "model_module": "@jupyter-widgets/controls",
     "model_module_version": "1.5.0",
     "model_name": "HTMLModel",
     "state": {
      "_dom_classes": [],
      "_model_module": "@jupyter-widgets/controls",
      "_model_module_version": "1.5.0",
      "_model_name": "HTMLModel",
      "_view_count": null,
      "_view_module": "@jupyter-widgets/controls",
      "_view_module_version": "1.5.0",
      "_view_name": "HTMLView",
      "description": "",
      "description_tooltip": null,
      "layout": "IPY_MODEL_e3a0799247fc4436bbcb8f3e2cd36a82",
      "placeholder": "​",
      "style": "IPY_MODEL_b18880ac05384b7abeaf540a60ee43b9",
      "value": "train.jsonl.zst: 100%"
     }
    },
    "3540e75d661240ceacc9ec0725bbae91": {
     "model_module": "@jupyter-widgets/base",
     "model_module_version": "1.2.0",
     "model_name": "LayoutModel",
     "state": {
      "_model_module": "@jupyter-widgets/base",
      "_model_module_version": "1.2.0",
      "_model_name": "LayoutModel",
      "_view_count": null,
      "_view_module": "@jupyter-widgets/base",
      "_view_module_version": "1.2.0",
      "_view_name": "LayoutView",
      "align_content": null,
      "align_items": null,
      "align_self": null,
      "border": null,
      "bottom": null,
      "display": null,
      "flex": null,
      "flex_flow": null,
      "grid_area": null,
      "grid_auto_columns": null,
      "grid_auto_flow": null,
      "grid_auto_rows": null,
      "grid_column": null,
      "grid_gap": null,
      "grid_row": null,
      "grid_template_areas": null,
      "grid_template_columns": null,
      "grid_template_rows": null,
      "height": null,
      "justify_content": null,
      "justify_items": null,
      "left": null,
      "margin": null,
      "max_height": null,
      "max_width": null,
      "min_height": null,
      "min_width": null,
      "object_fit": null,
      "object_position": null,
      "order": null,
      "overflow": null,
      "overflow_x": null,
      "overflow_y": null,
      "padding": null,
      "right": null,
      "top": null,
      "visibility": null,
      "width": null
     }
    },
    "3b6afda90d9b4f988ba107cf015dcabc": {
     "model_module": "@jupyter-widgets/base",
     "model_module_version": "1.2.0",
     "model_name": "LayoutModel",
     "state": {
      "_model_module": "@jupyter-widgets/base",
      "_model_module_version": "1.2.0",
      "_model_name": "LayoutModel",
      "_view_count": null,
      "_view_module": "@jupyter-widgets/base",
      "_view_module_version": "1.2.0",
      "_view_name": "LayoutView",
      "align_content": null,
      "align_items": null,
      "align_self": null,
      "border": null,
      "bottom": null,
      "display": null,
      "flex": null,
      "flex_flow": null,
      "grid_area": null,
      "grid_auto_columns": null,
      "grid_auto_flow": null,
      "grid_auto_rows": null,
      "grid_column": null,
      "grid_gap": null,
      "grid_row": null,
      "grid_template_areas": null,
      "grid_template_columns": null,
      "grid_template_rows": null,
      "height": null,
      "justify_content": null,
      "justify_items": null,
      "left": null,
      "margin": null,
      "max_height": null,
      "max_width": null,
      "min_height": null,
      "min_width": null,
      "object_fit": null,
      "object_position": null,
      "order": null,
      "overflow": null,
      "overflow_x": null,
      "overflow_y": null,
      "padding": null,
      "right": null,
      "top": null,
      "visibility": null,
      "width": null
     }
    },
    "3cd19b393c704fd6881d9dda1c5de36a": {
     "model_module": "@jupyter-widgets/controls",
     "model_module_version": "1.5.0",
     "model_name": "HTMLModel",
     "state": {
      "_dom_classes": [],
      "_model_module": "@jupyter-widgets/controls",
      "_model_module_version": "1.5.0",
      "_model_name": "HTMLModel",
      "_view_count": null,
      "_view_module": "@jupyter-widgets/controls",
      "_view_module_version": "1.5.0",
      "_view_name": "HTMLView",
      "description": "",
      "description_tooltip": null,
      "layout": "IPY_MODEL_67d3e81176b545e89ac2b245955fe90d",
      "placeholder": "​",
      "style": "IPY_MODEL_3f784565c46e4ca98d273f3a44453c9b",
      "value": " 37.3M/37.3M [00:00&lt;00:00, 43.3MB/s]"
     }
    },
    "3f784565c46e4ca98d273f3a44453c9b": {
     "model_module": "@jupyter-widgets/controls",
     "model_module_version": "1.5.0",
     "model_name": "DescriptionStyleModel",
     "state": {
      "_model_module": "@jupyter-widgets/controls",
      "_model_module_version": "1.5.0",
      "_model_name": "DescriptionStyleModel",
      "_view_count": null,
      "_view_module": "@jupyter-widgets/base",
      "_view_module_version": "1.2.0",
      "_view_name": "StyleView",
      "description_width": ""
     }
    },
    "475f62d806504f66a5638144944e8945": {
     "model_module": "@jupyter-widgets/controls",
     "model_module_version": "1.5.0",
     "model_name": "DescriptionStyleModel",
     "state": {
      "_model_module": "@jupyter-widgets/controls",
      "_model_module_version": "1.5.0",
      "_model_name": "DescriptionStyleModel",
      "_view_count": null,
      "_view_module": "@jupyter-widgets/base",
      "_view_module_version": "1.2.0",
      "_view_name": "StyleView",
      "description_width": ""
     }
    },
    "4efa4728f9584de58ce28d76a6264378": {
     "model_module": "@jupyter-widgets/base",
     "model_module_version": "1.2.0",
     "model_name": "LayoutModel",
     "state": {
      "_model_module": "@jupyter-widgets/base",
      "_model_module_version": "1.2.0",
      "_model_name": "LayoutModel",
      "_view_count": null,
      "_view_module": "@jupyter-widgets/base",
      "_view_module_version": "1.2.0",
      "_view_name": "LayoutView",
      "align_content": null,
      "align_items": null,
      "align_self": null,
      "border": null,
      "bottom": null,
      "display": null,
      "flex": null,
      "flex_flow": null,
      "grid_area": null,
      "grid_auto_columns": null,
      "grid_auto_flow": null,
      "grid_auto_rows": null,
      "grid_column": null,
      "grid_gap": null,
      "grid_row": null,
      "grid_template_areas": null,
      "grid_template_columns": null,
      "grid_template_rows": null,
      "height": null,
      "justify_content": null,
      "justify_items": null,
      "left": null,
      "margin": null,
      "max_height": null,
      "max_width": null,
      "min_height": null,
      "min_width": null,
      "object_fit": null,
      "object_position": null,
      "order": null,
      "overflow": null,
      "overflow_x": null,
      "overflow_y": null,
      "padding": null,
      "right": null,
      "top": null,
      "visibility": null,
      "width": null
     }
    },
    "5582cf7666ce40b68757a5ef01e499fd": {
     "model_module": "@jupyter-widgets/controls",
     "model_module_version": "1.5.0",
     "model_name": "FloatProgressModel",
     "state": {
      "_dom_classes": [],
      "_model_module": "@jupyter-widgets/controls",
      "_model_module_version": "1.5.0",
      "_model_name": "FloatProgressModel",
      "_view_count": null,
      "_view_module": "@jupyter-widgets/controls",
      "_view_module_version": "1.5.0",
      "_view_name": "ProgressView",
      "bar_style": "success",
      "description": "",
      "description_tooltip": null,
      "layout": "IPY_MODEL_9ae30b267fe2466998aba1d4c51d059d",
      "max": 148895212,
      "min": 0,
      "orientation": "horizontal",
      "style": "IPY_MODEL_855c3ee65e0b41e286ce91b1e227fe1f",
      "value": 148895212
     }
    },
    "56b3dc74b82c4d90926add9bb7c276aa": {
     "model_module": "@jupyter-widgets/base",
     "model_module_version": "1.2.0",
     "model_name": "LayoutModel",
     "state": {
      "_model_module": "@jupyter-widgets/base",
      "_model_module_version": "1.2.0",
      "_model_name": "LayoutModel",
      "_view_count": null,
      "_view_module": "@jupyter-widgets/base",
      "_view_module_version": "1.2.0",
      "_view_name": "LayoutView",
      "align_content": null,
      "align_items": null,
      "align_self": null,
      "border": null,
      "bottom": null,
      "display": null,
      "flex": null,
      "flex_flow": null,
      "grid_area": null,
      "grid_auto_columns": null,
      "grid_auto_flow": null,
      "grid_auto_rows": null,
      "grid_column": null,
      "grid_gap": null,
      "grid_row": null,
      "grid_template_areas": null,
      "grid_template_columns": null,
      "grid_template_rows": null,
      "height": null,
      "justify_content": null,
      "justify_items": null,
      "left": null,
      "margin": null,
      "max_height": null,
      "max_width": null,
      "min_height": null,
      "min_width": null,
      "object_fit": null,
      "object_position": null,
      "order": null,
      "overflow": null,
      "overflow_x": null,
      "overflow_y": null,
      "padding": null,
      "right": null,
      "top": null,
      "visibility": null,
      "width": null
     }
    },
    "6687917c72c8401aa961961b22fc6351": {
     "model_module": "@jupyter-widgets/base",
     "model_module_version": "1.2.0",
     "model_name": "LayoutModel",
     "state": {
      "_model_module": "@jupyter-widgets/base",
      "_model_module_version": "1.2.0",
      "_model_name": "LayoutModel",
      "_view_count": null,
      "_view_module": "@jupyter-widgets/base",
      "_view_module_version": "1.2.0",
      "_view_name": "LayoutView",
      "align_content": null,
      "align_items": null,
      "align_self": null,
      "border": null,
      "bottom": null,
      "display": null,
      "flex": null,
      "flex_flow": null,
      "grid_area": null,
      "grid_auto_columns": null,
      "grid_auto_flow": null,
      "grid_auto_rows": null,
      "grid_column": null,
      "grid_gap": null,
      "grid_row": null,
      "grid_template_areas": null,
      "grid_template_columns": null,
      "grid_template_rows": null,
      "height": null,
      "justify_content": null,
      "justify_items": null,
      "left": null,
      "margin": null,
      "max_height": null,
      "max_width": null,
      "min_height": null,
      "min_width": null,
      "object_fit": null,
      "object_position": null,
      "order": null,
      "overflow": null,
      "overflow_x": null,
      "overflow_y": null,
      "padding": null,
      "right": null,
      "top": null,
      "visibility": null,
      "width": null
     }
    },
    "676c2130493a4d98a591fdebcbeb7815": {
     "model_module": "@jupyter-widgets/base",
     "model_module_version": "1.2.0",
     "model_name": "LayoutModel",
     "state": {
      "_model_module": "@jupyter-widgets/base",
      "_model_module_version": "1.2.0",
      "_model_name": "LayoutModel",
      "_view_count": null,
      "_view_module": "@jupyter-widgets/base",
      "_view_module_version": "1.2.0",
      "_view_name": "LayoutView",
      "align_content": null,
      "align_items": null,
      "align_self": null,
      "border": null,
      "bottom": null,
      "display": null,
      "flex": null,
      "flex_flow": null,
      "grid_area": null,
      "grid_auto_columns": null,
      "grid_auto_flow": null,
      "grid_auto_rows": null,
      "grid_column": null,
      "grid_gap": null,
      "grid_row": null,
      "grid_template_areas": null,
      "grid_template_columns": null,
      "grid_template_rows": null,
      "height": null,
      "justify_content": null,
      "justify_items": null,
      "left": null,
      "margin": null,
      "max_height": null,
      "max_width": null,
      "min_height": null,
      "min_width": null,
      "object_fit": null,
      "object_position": null,
      "order": null,
      "overflow": null,
      "overflow_x": null,
      "overflow_y": null,
      "padding": null,
      "right": null,
      "top": null,
      "visibility": null,
      "width": null
     }
    },
    "67d3e81176b545e89ac2b245955fe90d": {
     "model_module": "@jupyter-widgets/base",
     "model_module_version": "1.2.0",
     "model_name": "LayoutModel",
     "state": {
      "_model_module": "@jupyter-widgets/base",
      "_model_module_version": "1.2.0",
      "_model_name": "LayoutModel",
      "_view_count": null,
      "_view_module": "@jupyter-widgets/base",
      "_view_module_version": "1.2.0",
      "_view_name": "LayoutView",
      "align_content": null,
      "align_items": null,
      "align_self": null,
      "border": null,
      "bottom": null,
      "display": null,
      "flex": null,
      "flex_flow": null,
      "grid_area": null,
      "grid_auto_columns": null,
      "grid_auto_flow": null,
      "grid_auto_rows": null,
      "grid_column": null,
      "grid_gap": null,
      "grid_row": null,
      "grid_template_areas": null,
      "grid_template_columns": null,
      "grid_template_rows": null,
      "height": null,
      "justify_content": null,
      "justify_items": null,
      "left": null,
      "margin": null,
      "max_height": null,
      "max_width": null,
      "min_height": null,
      "min_width": null,
      "object_fit": null,
      "object_position": null,
      "order": null,
      "overflow": null,
      "overflow_x": null,
      "overflow_y": null,
      "padding": null,
      "right": null,
      "top": null,
      "visibility": null,
      "width": null
     }
    },
    "7144d34645f741ddb6f21261a1b58434": {
     "model_module": "@jupyter-widgets/base",
     "model_module_version": "1.2.0",
     "model_name": "LayoutModel",
     "state": {
      "_model_module": "@jupyter-widgets/base",
      "_model_module_version": "1.2.0",
      "_model_name": "LayoutModel",
      "_view_count": null,
      "_view_module": "@jupyter-widgets/base",
      "_view_module_version": "1.2.0",
      "_view_name": "LayoutView",
      "align_content": null,
      "align_items": null,
      "align_self": null,
      "border": null,
      "bottom": null,
      "display": null,
      "flex": null,
      "flex_flow": null,
      "grid_area": null,
      "grid_auto_columns": null,
      "grid_auto_flow": null,
      "grid_auto_rows": null,
      "grid_column": null,
      "grid_gap": null,
      "grid_row": null,
      "grid_template_areas": null,
      "grid_template_columns": null,
      "grid_template_rows": null,
      "height": null,
      "justify_content": null,
      "justify_items": null,
      "left": null,
      "margin": null,
      "max_height": null,
      "max_width": null,
      "min_height": null,
      "min_width": null,
      "object_fit": null,
      "object_position": null,
      "order": null,
      "overflow": null,
      "overflow_x": null,
      "overflow_y": null,
      "padding": null,
      "right": null,
      "top": null,
      "visibility": null,
      "width": null
     }
    },
    "7a0d365710a94746ba8859ebd3ec03ab": {
     "model_module": "@jupyter-widgets/controls",
     "model_module_version": "1.5.0",
     "model_name": "HTMLModel",
     "state": {
      "_dom_classes": [],
      "_model_module": "@jupyter-widgets/controls",
      "_model_module_version": "1.5.0",
      "_model_name": "HTMLModel",
      "_view_count": null,
      "_view_module": "@jupyter-widgets/controls",
      "_view_module_version": "1.5.0",
      "_view_name": "HTMLView",
      "description": "",
      "description_tooltip": null,
      "layout": "IPY_MODEL_6687917c72c8401aa961961b22fc6351",
      "placeholder": "​",
      "style": "IPY_MODEL_937c636f76f340f3a096782ff3027008",
      "value": " 1686856/1686856 [00:09&lt;00:00, 279515.43 examples/s]"
     }
    },
    "7b9579fd41a944929eff6f263d1f09eb": {
     "model_module": "@jupyter-widgets/controls",
     "model_module_version": "1.5.0",
     "model_name": "DescriptionStyleModel",
     "state": {
      "_model_module": "@jupyter-widgets/controls",
      "_model_module_version": "1.5.0",
      "_model_name": "DescriptionStyleModel",
      "_view_count": null,
      "_view_module": "@jupyter-widgets/base",
      "_view_module_version": "1.2.0",
      "_view_name": "StyleView",
      "description_width": ""
     }
    },
    "82b83bc6b933447c9e54914edf3778ec": {
     "model_module": "@jupyter-widgets/controls",
     "model_module_version": "1.5.0",
     "model_name": "FloatProgressModel",
     "state": {
      "_dom_classes": [],
      "_model_module": "@jupyter-widgets/controls",
      "_model_module_version": "1.5.0",
      "_model_name": "FloatProgressModel",
      "_view_count": null,
      "_view_module": "@jupyter-widgets/controls",
      "_view_module_version": "1.5.0",
      "_view_name": "ProgressView",
      "bar_style": "success",
      "description": "",
      "description_tooltip": null,
      "layout": "IPY_MODEL_4efa4728f9584de58ce28d76a6264378",
      "max": 421715,
      "min": 0,
      "orientation": "horizontal",
      "style": "IPY_MODEL_1828ea1ee83e40a48423b1984f7d1d71",
      "value": 421715
     }
    },
    "855c3ee65e0b41e286ce91b1e227fe1f": {
     "model_module": "@jupyter-widgets/controls",
     "model_module_version": "1.5.0",
     "model_name": "ProgressStyleModel",
     "state": {
      "_model_module": "@jupyter-widgets/controls",
      "_model_module_version": "1.5.0",
      "_model_name": "ProgressStyleModel",
      "_view_count": null,
      "_view_module": "@jupyter-widgets/base",
      "_view_module_version": "1.2.0",
      "_view_name": "StyleView",
      "bar_color": null,
      "description_width": ""
     }
    },
    "8f5076d5b4844593ac808caddd9ee455": {
     "model_module": "@jupyter-widgets/base",
     "model_module_version": "1.2.0",
     "model_name": "LayoutModel",
     "state": {
      "_model_module": "@jupyter-widgets/base",
      "_model_module_version": "1.2.0",
      "_model_name": "LayoutModel",
      "_view_count": null,
      "_view_module": "@jupyter-widgets/base",
      "_view_module_version": "1.2.0",
      "_view_name": "LayoutView",
      "align_content": null,
      "align_items": null,
      "align_self": null,
      "border": null,
      "bottom": null,
      "display": null,
      "flex": null,
      "flex_flow": null,
      "grid_area": null,
      "grid_auto_columns": null,
      "grid_auto_flow": null,
      "grid_auto_rows": null,
      "grid_column": null,
      "grid_gap": null,
      "grid_row": null,
      "grid_template_areas": null,
      "grid_template_columns": null,
      "grid_template_rows": null,
      "height": null,
      "justify_content": null,
      "justify_items": null,
      "left": null,
      "margin": null,
      "max_height": null,
      "max_width": null,
      "min_height": null,
      "min_width": null,
      "object_fit": null,
      "object_position": null,
      "order": null,
      "overflow": null,
      "overflow_x": null,
      "overflow_y": null,
      "padding": null,
      "right": null,
      "top": null,
      "visibility": null,
      "width": null
     }
    },
    "9125f1f6b94d4a4f935d330425eb3ff0": {
     "model_module": "@jupyter-widgets/base",
     "model_module_version": "1.2.0",
     "model_name": "LayoutModel",
     "state": {
      "_model_module": "@jupyter-widgets/base",
      "_model_module_version": "1.2.0",
      "_model_name": "LayoutModel",
      "_view_count": null,
      "_view_module": "@jupyter-widgets/base",
      "_view_module_version": "1.2.0",
      "_view_name": "LayoutView",
      "align_content": null,
      "align_items": null,
      "align_self": null,
      "border": null,
      "bottom": null,
      "display": null,
      "flex": null,
      "flex_flow": null,
      "grid_area": null,
      "grid_auto_columns": null,
      "grid_auto_flow": null,
      "grid_auto_rows": null,
      "grid_column": null,
      "grid_gap": null,
      "grid_row": null,
      "grid_template_areas": null,
      "grid_template_columns": null,
      "grid_template_rows": null,
      "height": null,
      "justify_content": null,
      "justify_items": null,
      "left": null,
      "margin": null,
      "max_height": null,
      "max_width": null,
      "min_height": null,
      "min_width": null,
      "object_fit": null,
      "object_position": null,
      "order": null,
      "overflow": null,
      "overflow_x": null,
      "overflow_y": null,
      "padding": null,
      "right": null,
      "top": null,
      "visibility": null,
      "width": null
     }
    },
    "937c636f76f340f3a096782ff3027008": {
     "model_module": "@jupyter-widgets/controls",
     "model_module_version": "1.5.0",
     "model_name": "DescriptionStyleModel",
     "state": {
      "_model_module": "@jupyter-widgets/controls",
      "_model_module_version": "1.5.0",
      "_model_name": "DescriptionStyleModel",
      "_view_count": null,
      "_view_module": "@jupyter-widgets/base",
      "_view_module_version": "1.2.0",
      "_view_name": "StyleView",
      "description_width": ""
     }
    },
    "9ae30b267fe2466998aba1d4c51d059d": {
     "model_module": "@jupyter-widgets/base",
     "model_module_version": "1.2.0",
     "model_name": "LayoutModel",
     "state": {
      "_model_module": "@jupyter-widgets/base",
      "_model_module_version": "1.2.0",
      "_model_name": "LayoutModel",
      "_view_count": null,
      "_view_module": "@jupyter-widgets/base",
      "_view_module_version": "1.2.0",
      "_view_name": "LayoutView",
      "align_content": null,
      "align_items": null,
      "align_self": null,
      "border": null,
      "bottom": null,
      "display": null,
      "flex": null,
      "flex_flow": null,
      "grid_area": null,
      "grid_auto_columns": null,
      "grid_auto_flow": null,
      "grid_auto_rows": null,
      "grid_column": null,
      "grid_gap": null,
      "grid_row": null,
      "grid_template_areas": null,
      "grid_template_columns": null,
      "grid_template_rows": null,
      "height": null,
      "justify_content": null,
      "justify_items": null,
      "left": null,
      "margin": null,
      "max_height": null,
      "max_width": null,
      "min_height": null,
      "min_width": null,
      "object_fit": null,
      "object_position": null,
      "order": null,
      "overflow": null,
      "overflow_x": null,
      "overflow_y": null,
      "padding": null,
      "right": null,
      "top": null,
      "visibility": null,
      "width": null
     }
    },
    "9bcaa8c7e4e140fb98d7d481fe571739": {
     "model_module": "@jupyter-widgets/controls",
     "model_module_version": "1.5.0",
     "model_name": "DescriptionStyleModel",
     "state": {
      "_model_module": "@jupyter-widgets/controls",
      "_model_module_version": "1.5.0",
      "_model_name": "DescriptionStyleModel",
      "_view_count": null,
      "_view_module": "@jupyter-widgets/base",
      "_view_module_version": "1.2.0",
      "_view_name": "StyleView",
      "description_width": ""
     }
    },
    "a6013096290a44b68ffa90a9a7aa349c": {
     "model_module": "@jupyter-widgets/base",
     "model_module_version": "1.2.0",
     "model_name": "LayoutModel",
     "state": {
      "_model_module": "@jupyter-widgets/base",
      "_model_module_version": "1.2.0",
      "_model_name": "LayoutModel",
      "_view_count": null,
      "_view_module": "@jupyter-widgets/base",
      "_view_module_version": "1.2.0",
      "_view_name": "LayoutView",
      "align_content": null,
      "align_items": null,
      "align_self": null,
      "border": null,
      "bottom": null,
      "display": null,
      "flex": null,
      "flex_flow": null,
      "grid_area": null,
      "grid_auto_columns": null,
      "grid_auto_flow": null,
      "grid_auto_rows": null,
      "grid_column": null,
      "grid_gap": null,
      "grid_row": null,
      "grid_template_areas": null,
      "grid_template_columns": null,
      "grid_template_rows": null,
      "height": null,
      "justify_content": null,
      "justify_items": null,
      "left": null,
      "margin": null,
      "max_height": null,
      "max_width": null,
      "min_height": null,
      "min_width": null,
      "object_fit": null,
      "object_position": null,
      "order": null,
      "overflow": null,
      "overflow_x": null,
      "overflow_y": null,
      "padding": null,
      "right": null,
      "top": null,
      "visibility": null,
      "width": null
     }
    },
    "ab3a4271f9d446ba9b7acb2c6957c19f": {
     "model_module": "@jupyter-widgets/controls",
     "model_module_version": "1.5.0",
     "model_name": "HBoxModel",
     "state": {
      "_dom_classes": [],
      "_model_module": "@jupyter-widgets/controls",
      "_model_module_version": "1.5.0",
      "_model_name": "HBoxModel",
      "_view_count": null,
      "_view_module": "@jupyter-widgets/controls",
      "_view_module_version": "1.5.0",
      "_view_name": "HBoxView",
      "box_style": "",
      "children": [
       "IPY_MODEL_ea19a468f9844edea7a31e079bdaf8a0",
       "IPY_MODEL_0cda12ed98cb46399354e2bb61758b19",
       "IPY_MODEL_ece9482678bc40fcaa903aafe77d8c5a"
      ],
      "layout": "IPY_MODEL_676c2130493a4d98a591fdebcbeb7815"
     }
    },
    "ac55db8d1437404981ce1f48d56ea4c2": {
     "model_module": "@jupyter-widgets/base",
     "model_module_version": "1.2.0",
     "model_name": "LayoutModel",
     "state": {
      "_model_module": "@jupyter-widgets/base",
      "_model_module_version": "1.2.0",
      "_model_name": "LayoutModel",
      "_view_count": null,
      "_view_module": "@jupyter-widgets/base",
      "_view_module_version": "1.2.0",
      "_view_name": "LayoutView",
      "align_content": null,
      "align_items": null,
      "align_self": null,
      "border": null,
      "bottom": null,
      "display": null,
      "flex": null,
      "flex_flow": null,
      "grid_area": null,
      "grid_auto_columns": null,
      "grid_auto_flow": null,
      "grid_auto_rows": null,
      "grid_column": null,
      "grid_gap": null,
      "grid_row": null,
      "grid_template_areas": null,
      "grid_template_columns": null,
      "grid_template_rows": null,
      "height": null,
      "justify_content": null,
      "justify_items": null,
      "left": null,
      "margin": null,
      "max_height": null,
      "max_width": null,
      "min_height": null,
      "min_width": null,
      "object_fit": null,
      "object_position": null,
      "order": null,
      "overflow": null,
      "overflow_x": null,
      "overflow_y": null,
      "padding": null,
      "right": null,
      "top": null,
      "visibility": null,
      "width": null
     }
    },
    "b18880ac05384b7abeaf540a60ee43b9": {
     "model_module": "@jupyter-widgets/controls",
     "model_module_version": "1.5.0",
     "model_name": "DescriptionStyleModel",
     "state": {
      "_model_module": "@jupyter-widgets/controls",
      "_model_module_version": "1.5.0",
      "_model_name": "DescriptionStyleModel",
      "_view_count": null,
      "_view_module": "@jupyter-widgets/base",
      "_view_module_version": "1.2.0",
      "_view_name": "StyleView",
      "description_width": ""
     }
    },
    "b8dc4d702bcf4a64bd3bbbb58b5383bf": {
     "model_module": "@jupyter-widgets/controls",
     "model_module_version": "1.5.0",
     "model_name": "HBoxModel",
     "state": {
      "_dom_classes": [],
      "_model_module": "@jupyter-widgets/controls",
      "_model_module_version": "1.5.0",
      "_model_name": "HBoxModel",
      "_view_count": null,
      "_view_module": "@jupyter-widgets/controls",
      "_view_module_version": "1.5.0",
      "_view_name": "HBoxView",
      "box_style": "",
      "children": [
       "IPY_MODEL_c613781671914e2896fa5f301815792e",
       "IPY_MODEL_82b83bc6b933447c9e54914edf3778ec",
       "IPY_MODEL_ff2a853faf7043799888833b98bfc9ab"
      ],
      "layout": "IPY_MODEL_3b6afda90d9b4f988ba107cf015dcabc"
     }
    },
    "c07f1aa276da44b990dd60748cd8edd1": {
     "model_module": "@jupyter-widgets/controls",
     "model_module_version": "1.5.0",
     "model_name": "HTMLModel",
     "state": {
      "_dom_classes": [],
      "_model_module": "@jupyter-widgets/controls",
      "_model_module_version": "1.5.0",
      "_model_name": "HTMLModel",
      "_view_count": null,
      "_view_module": "@jupyter-widgets/controls",
      "_view_module_version": "1.5.0",
      "_view_name": "HTMLView",
      "description": "",
      "description_tooltip": null,
      "layout": "IPY_MODEL_3540e75d661240ceacc9ec0725bbae91",
      "placeholder": "​",
      "style": "IPY_MODEL_7b9579fd41a944929eff6f263d1f09eb",
      "value": " 149M/149M [00:02&lt;00:00, 82.3MB/s]"
     }
    },
    "c613781671914e2896fa5f301815792e": {
     "model_module": "@jupyter-widgets/controls",
     "model_module_version": "1.5.0",
     "model_name": "HTMLModel",
     "state": {
      "_dom_classes": [],
      "_model_module": "@jupyter-widgets/controls",
      "_model_module_version": "1.5.0",
      "_model_name": "HTMLModel",
      "_view_count": null,
      "_view_module": "@jupyter-widgets/controls",
      "_view_module_version": "1.5.0",
      "_view_name": "HTMLView",
      "description": "",
      "description_tooltip": null,
      "layout": "IPY_MODEL_56b3dc74b82c4d90926add9bb7c276aa",
      "placeholder": "​",
      "style": "IPY_MODEL_de62d05b5ba74b73b57ddb99f8de80ca",
      "value": "Generating test split: 100%"
     }
    },
    "cb14d36fd14f4964b89fae0f4758ffcf": {
     "model_module": "@jupyter-widgets/base",
     "model_module_version": "1.2.0",
     "model_name": "LayoutModel",
     "state": {
      "_model_module": "@jupyter-widgets/base",
      "_model_module_version": "1.2.0",
      "_model_name": "LayoutModel",
      "_view_count": null,
      "_view_module": "@jupyter-widgets/base",
      "_view_module_version": "1.2.0",
      "_view_name": "LayoutView",
      "align_content": null,
      "align_items": null,
      "align_self": null,
      "border": null,
      "bottom": null,
      "display": null,
      "flex": null,
      "flex_flow": null,
      "grid_area": null,
      "grid_auto_columns": null,
      "grid_auto_flow": null,
      "grid_auto_rows": null,
      "grid_column": null,
      "grid_gap": null,
      "grid_row": null,
      "grid_template_areas": null,
      "grid_template_columns": null,
      "grid_template_rows": null,
      "height": null,
      "justify_content": null,
      "justify_items": null,
      "left": null,
      "margin": null,
      "max_height": null,
      "max_width": null,
      "min_height": null,
      "min_width": null,
      "object_fit": null,
      "object_position": null,
      "order": null,
      "overflow": null,
      "overflow_x": null,
      "overflow_y": null,
      "padding": null,
      "right": null,
      "top": null,
      "visibility": null,
      "width": null
     }
    },
    "d3ff4b66fb8c4c83a2735f9bf25ced87": {
     "model_module": "@jupyter-widgets/base",
     "model_module_version": "1.2.0",
     "model_name": "LayoutModel",
     "state": {
      "_model_module": "@jupyter-widgets/base",
      "_model_module_version": "1.2.0",
      "_model_name": "LayoutModel",
      "_view_count": null,
      "_view_module": "@jupyter-widgets/base",
      "_view_module_version": "1.2.0",
      "_view_name": "LayoutView",
      "align_content": null,
      "align_items": null,
      "align_self": null,
      "border": null,
      "bottom": null,
      "display": null,
      "flex": null,
      "flex_flow": null,
      "grid_area": null,
      "grid_auto_columns": null,
      "grid_auto_flow": null,
      "grid_auto_rows": null,
      "grid_column": null,
      "grid_gap": null,
      "grid_row": null,
      "grid_template_areas": null,
      "grid_template_columns": null,
      "grid_template_rows": null,
      "height": null,
      "justify_content": null,
      "justify_items": null,
      "left": null,
      "margin": null,
      "max_height": null,
      "max_width": null,
      "min_height": null,
      "min_width": null,
      "object_fit": null,
      "object_position": null,
      "order": null,
      "overflow": null,
      "overflow_x": null,
      "overflow_y": null,
      "padding": null,
      "right": null,
      "top": null,
      "visibility": null,
      "width": null
     }
    },
    "d49134ea0831483db17752a434aeef80": {
     "model_module": "@jupyter-widgets/controls",
     "model_module_version": "1.5.0",
     "model_name": "ProgressStyleModel",
     "state": {
      "_model_module": "@jupyter-widgets/controls",
      "_model_module_version": "1.5.0",
      "_model_name": "ProgressStyleModel",
      "_view_count": null,
      "_view_module": "@jupyter-widgets/base",
      "_view_module_version": "1.2.0",
      "_view_name": "StyleView",
      "bar_color": null,
      "description_width": ""
     }
    },
    "d8358b999522419a8869b3757f53cba2": {
     "model_module": "@jupyter-widgets/controls",
     "model_module_version": "1.5.0",
     "model_name": "ProgressStyleModel",
     "state": {
      "_model_module": "@jupyter-widgets/controls",
      "_model_module_version": "1.5.0",
      "_model_name": "ProgressStyleModel",
      "_view_count": null,
      "_view_module": "@jupyter-widgets/base",
      "_view_module_version": "1.2.0",
      "_view_name": "StyleView",
      "bar_color": null,
      "description_width": ""
     }
    },
    "dcd882f15cf44b25aab052ba70da3910": {
     "model_module": "@jupyter-widgets/controls",
     "model_module_version": "1.5.0",
     "model_name": "DescriptionStyleModel",
     "state": {
      "_model_module": "@jupyter-widgets/controls",
      "_model_module_version": "1.5.0",
      "_model_name": "DescriptionStyleModel",
      "_view_count": null,
      "_view_module": "@jupyter-widgets/base",
      "_view_module_version": "1.2.0",
      "_view_name": "StyleView",
      "description_width": ""
     }
    },
    "de62d05b5ba74b73b57ddb99f8de80ca": {
     "model_module": "@jupyter-widgets/controls",
     "model_module_version": "1.5.0",
     "model_name": "DescriptionStyleModel",
     "state": {
      "_model_module": "@jupyter-widgets/controls",
      "_model_module_version": "1.5.0",
      "_model_name": "DescriptionStyleModel",
      "_view_count": null,
      "_view_module": "@jupyter-widgets/base",
      "_view_module_version": "1.2.0",
      "_view_name": "StyleView",
      "description_width": ""
     }
    },
    "df2fce3585e94dc99cdf86222200cfb6": {
     "model_module": "@jupyter-widgets/base",
     "model_module_version": "1.2.0",
     "model_name": "LayoutModel",
     "state": {
      "_model_module": "@jupyter-widgets/base",
      "_model_module_version": "1.2.0",
      "_model_name": "LayoutModel",
      "_view_count": null,
      "_view_module": "@jupyter-widgets/base",
      "_view_module_version": "1.2.0",
      "_view_name": "LayoutView",
      "align_content": null,
      "align_items": null,
      "align_self": null,
      "border": null,
      "bottom": null,
      "display": null,
      "flex": null,
      "flex_flow": null,
      "grid_area": null,
      "grid_auto_columns": null,
      "grid_auto_flow": null,
      "grid_auto_rows": null,
      "grid_column": null,
      "grid_gap": null,
      "grid_row": null,
      "grid_template_areas": null,
      "grid_template_columns": null,
      "grid_template_rows": null,
      "height": null,
      "justify_content": null,
      "justify_items": null,
      "left": null,
      "margin": null,
      "max_height": null,
      "max_width": null,
      "min_height": null,
      "min_width": null,
      "object_fit": null,
      "object_position": null,
      "order": null,
      "overflow": null,
      "overflow_x": null,
      "overflow_y": null,
      "padding": null,
      "right": null,
      "top": null,
      "visibility": null,
      "width": null
     }
    },
    "e3a0799247fc4436bbcb8f3e2cd36a82": {
     "model_module": "@jupyter-widgets/base",
     "model_module_version": "1.2.0",
     "model_name": "LayoutModel",
     "state": {
      "_model_module": "@jupyter-widgets/base",
      "_model_module_version": "1.2.0",
      "_model_name": "LayoutModel",
      "_view_count": null,
      "_view_module": "@jupyter-widgets/base",
      "_view_module_version": "1.2.0",
      "_view_name": "LayoutView",
      "align_content": null,
      "align_items": null,
      "align_self": null,
      "border": null,
      "bottom": null,
      "display": null,
      "flex": null,
      "flex_flow": null,
      "grid_area": null,
      "grid_auto_columns": null,
      "grid_auto_flow": null,
      "grid_auto_rows": null,
      "grid_column": null,
      "grid_gap": null,
      "grid_row": null,
      "grid_template_areas": null,
      "grid_template_columns": null,
      "grid_template_rows": null,
      "height": null,
      "justify_content": null,
      "justify_items": null,
      "left": null,
      "margin": null,
      "max_height": null,
      "max_width": null,
      "min_height": null,
      "min_width": null,
      "object_fit": null,
      "object_position": null,
      "order": null,
      "overflow": null,
      "overflow_x": null,
      "overflow_y": null,
      "padding": null,
      "right": null,
      "top": null,
      "visibility": null,
      "width": null
     }
    },
    "e670a24b3d104f1cb8ab95b7adcea567": {
     "model_module": "@jupyter-widgets/controls",
     "model_module_version": "1.5.0",
     "model_name": "HTMLModel",
     "state": {
      "_dom_classes": [],
      "_model_module": "@jupyter-widgets/controls",
      "_model_module_version": "1.5.0",
      "_model_name": "HTMLModel",
      "_view_count": null,
      "_view_module": "@jupyter-widgets/controls",
      "_view_module_version": "1.5.0",
      "_view_name": "HTMLView",
      "description": "",
      "description_tooltip": null,
      "layout": "IPY_MODEL_8f5076d5b4844593ac808caddd9ee455",
      "placeholder": "​",
      "style": "IPY_MODEL_17dccba7d15b47cd854d4fcf2cfe8710",
      "value": "test.jsonl.zst: 100%"
     }
    },
    "ea19a468f9844edea7a31e079bdaf8a0": {
     "model_module": "@jupyter-widgets/controls",
     "model_module_version": "1.5.0",
     "model_name": "HTMLModel",
     "state": {
      "_dom_classes": [],
      "_model_module": "@jupyter-widgets/controls",
      "_model_module_version": "1.5.0",
      "_model_name": "HTMLModel",
      "_view_count": null,
      "_view_module": "@jupyter-widgets/controls",
      "_view_module_version": "1.5.0",
      "_view_name": "HTMLView",
      "description": "",
      "description_tooltip": null,
      "layout": "IPY_MODEL_ac55db8d1437404981ce1f48d56ea4c2",
      "placeholder": "​",
      "style": "IPY_MODEL_22a0e92f641d4b7f99f1b22ff85fefc4",
      "value": "README.md: 100%"
     }
    },
    "ece9482678bc40fcaa903aafe77d8c5a": {
     "model_module": "@jupyter-widgets/controls",
     "model_module_version": "1.5.0",
     "model_name": "HTMLModel",
     "state": {
      "_dom_classes": [],
      "_model_module": "@jupyter-widgets/controls",
      "_model_module_version": "1.5.0",
      "_model_name": "HTMLModel",
      "_view_count": null,
      "_view_module": "@jupyter-widgets/controls",
      "_view_module_version": "1.5.0",
      "_view_name": "HTMLView",
      "description": "",
      "description_tooltip": null,
      "layout": "IPY_MODEL_a6013096290a44b68ffa90a9a7aa349c",
      "placeholder": "​",
      "style": "IPY_MODEL_9bcaa8c7e4e140fb98d7d481fe571739",
      "value": " 7.72k/7.72k [00:00&lt;00:00, 374kB/s]"
     }
    },
    "ecf273ba6a26445ebd986bbf082ba507": {
     "model_module": "@jupyter-widgets/base",
     "model_module_version": "1.2.0",
     "model_name": "LayoutModel",
     "state": {
      "_model_module": "@jupyter-widgets/base",
      "_model_module_version": "1.2.0",
      "_model_name": "LayoutModel",
      "_view_count": null,
      "_view_module": "@jupyter-widgets/base",
      "_view_module_version": "1.2.0",
      "_view_name": "LayoutView",
      "align_content": null,
      "align_items": null,
      "align_self": null,
      "border": null,
      "bottom": null,
      "display": null,
      "flex": null,
      "flex_flow": null,
      "grid_area": null,
      "grid_auto_columns": null,
      "grid_auto_flow": null,
      "grid_auto_rows": null,
      "grid_column": null,
      "grid_gap": null,
      "grid_row": null,
      "grid_template_areas": null,
      "grid_template_columns": null,
      "grid_template_rows": null,
      "height": null,
      "justify_content": null,
      "justify_items": null,
      "left": null,
      "margin": null,
      "max_height": null,
      "max_width": null,
      "min_height": null,
      "min_width": null,
      "object_fit": null,
      "object_position": null,
      "order": null,
      "overflow": null,
      "overflow_x": null,
      "overflow_y": null,
      "padding": null,
      "right": null,
      "top": null,
      "visibility": null,
      "width": null
     }
    },
    "ff2a853faf7043799888833b98bfc9ab": {
     "model_module": "@jupyter-widgets/controls",
     "model_module_version": "1.5.0",
     "model_name": "HTMLModel",
     "state": {
      "_dom_classes": [],
      "_model_module": "@jupyter-widgets/controls",
      "_model_module_version": "1.5.0",
      "_model_name": "HTMLModel",
      "_view_count": null,
      "_view_module": "@jupyter-widgets/controls",
      "_view_module_version": "1.5.0",
      "_view_name": "HTMLView",
      "description": "",
      "description_tooltip": null,
      "layout": "IPY_MODEL_df2fce3585e94dc99cdf86222200cfb6",
      "placeholder": "​",
      "style": "IPY_MODEL_475f62d806504f66a5638144944e8945",
      "value": " 421715/421715 [00:01&lt;00:00, 268924.65 examples/s]"
     }
    }
   }
  }
 },
 "nbformat": 4,
 "nbformat_minor": 0
}
